{
 "cells": [
  {
   "cell_type": "code",
   "execution_count": 2,
   "id": "a12c8f9c",
   "metadata": {},
   "outputs": [
    {
     "data": {
      "text/plain": [
       "[{'score': 0.2260781228542328,\n",
       "  'token': 6979,\n",
       "  'token_str': ' int',\n",
       "  'sequence': 'def returnInt() -> int:'},\n",
       " {'score': 0.15783804655075073,\n",
       "  'token': 5053,\n",
       "  'token_str': ' Any',\n",
       "  'sequence': 'def returnInt() -> Any:'},\n",
       " {'score': 0.1569615751504898,\n",
       "  'token': 9291,\n",
       "  'token_str': ' None',\n",
       "  'sequence': 'def returnInt() -> None:'},\n",
       " {'score': 0.12274446338415146,\n",
       "  'token': 1907,\n",
       "  'token_str': ' type',\n",
       "  'sequence': 'def returnInt() -> type:'},\n",
       " {'score': 0.06580942869186401,\n",
       "  'token': 1666,\n",
       "  'token_str': '...',\n",
       "  'sequence': 'def returnInt() ->...:'}]"
      ]
     },
     "execution_count": 2,
     "metadata": {},
     "output_type": "execute_result"
    }
   ],
   "source": [
    "from transformers import RobertaConfig, RobertaTokenizer, RobertaForMaskedLM, pipeline\n",
    "import torch\n",
    "\n",
    "model = RobertaForMaskedLM.from_pretrained(\"microsoft/codebert-base-mlm\")\n",
    "tokenizer = RobertaTokenizer.from_pretrained(\"microsoft/codebert-base-mlm\")\n",
    "\n",
    "CODE = \"def returnInt() -> <mask>:\"\n",
    "fill_mask = pipeline('fill-mask', model=model, tokenizer=tokenizer)\n",
    "\n",
    "outputs = fill_mask(CODE)\n",
    "outputs"
   ]
  },
  {
   "cell_type": "code",
   "execution_count": 3,
   "id": "7b176b91",
   "metadata": {},
   "outputs": [],
   "source": [
    "class CustomModel(torch.nn.Module):\n",
    "    def __init__(self, model, d, vocabulary_size = 50265): \n",
    "        super(CustomModel, self).__init__() \n",
    "        self.d = d\n",
    "        self.model = model\n",
    "        self.config = model.config\n",
    "        self.layer = torch.nn.Linear(vocabulary_size, d)\n",
    "    \n",
    "    def forward(self, input_ids=None, attention_mask=None):\n",
    "        model_output = self.model.forward(input_ids=input_ids, attention_mask=attention_mask)        \n",
    "        final_output_tensor = self.layer.forward(model_output[0])\n",
    "        model_output.logits = final_output_tensor\n",
    "        return model_output"
   ]
  },
  {
   "cell_type": "code",
   "execution_count": 4,
   "id": "4dcb017f",
   "metadata": {},
   "outputs": [
    {
     "data": {
      "text/plain": [
       "tensor(13.4799, grad_fn=<SelectBackward0>)"
      ]
     },
     "execution_count": 4,
     "metadata": {},
     "output_type": "execute_result"
    }
   ],
   "source": [
    "nl_tokens=tokenizer.tokenize(\"\")\n",
    "code_tokens=tokenizer.tokenize(\"def returnInt() -> <mask>\")\n",
    "tokens=[tokenizer.cls_token]+nl_tokens+[tokenizer.sep_token]+code_tokens+[tokenizer.sep_token]\n",
    "tokens_ids=tokenizer.convert_tokens_to_ids(tokens)\n",
    "output = model(torch.tensor(tokens_ids)[None,:])[0]\n",
    "# tokens[7]\n",
    "output[0][7][torch.argmax(output[0][7])]"
   ]
  },
  {
   "cell_type": "code",
   "execution_count": 5,
   "id": "88841175",
   "metadata": {},
   "outputs": [
    {
     "data": {
      "text/plain": [
       "MaskedLMOutput(loss=None, logits=tensor([[[-0.6567,  0.7024, -2.2626, -1.6753, -1.9229, -1.0327, -0.0513,\n",
       "          -3.1733],\n",
       "         [ 1.2599,  0.1877, -3.2171, -2.3233, -2.0636, -0.0744, -0.8967,\n",
       "          -1.9505],\n",
       "         [-0.6936,  1.3414, -6.8590, -2.4239, -1.9405, -0.3326,  0.6371,\n",
       "          -3.5053],\n",
       "         [ 0.6782, -1.1211, -3.8240, -2.5664, -2.7382, -3.5019,  1.9066,\n",
       "          -4.1621],\n",
       "         [ 0.6015,  2.4606, -2.7248, -3.9928, -4.7962, -1.0549, -3.2122,\n",
       "          -2.3998],\n",
       "         [ 1.2708,  1.1672, -6.7557, -0.9876, -1.8740,  0.9207,  0.3854,\n",
       "          -3.1092],\n",
       "         [ 3.5828,  0.5301, -3.0176, -3.0542,  0.9706, -1.8401, -1.3759,\n",
       "          -5.2347],\n",
       "         [ 1.7748, -0.2974, -2.8765, -1.6058, -0.8212, -0.6362,  0.1125,\n",
       "          -2.1463],\n",
       "         [ 0.6320,  1.3756, -2.3493, -2.0518, -1.2067, -0.1862, -1.3260,\n",
       "          -3.0538]]], grad_fn=<ViewBackward0>), hidden_states=None, attentions=None)"
      ]
     },
     "execution_count": 5,
     "metadata": {},
     "output_type": "execute_result"
    }
   ],
   "source": [
    "custom_model = CustomModel(model, 8)\n",
    "custom_model.forward(torch.tensor(tokens_ids)[None,:])\n",
    "\n"
   ]
  },
  {
   "cell_type": "code",
   "execution_count": 6,
   "id": "8d518b12",
   "metadata": {},
   "outputs": [
    {
     "data": {
      "text/plain": [
       "[{'score': 0.3019775152206421,\n",
       "  'token': 3,\n",
       "  'token_str': '<unk>',\n",
       "  'sequence': 'def returnInt() ->:'},\n",
       " {'score': 0.2408040463924408,\n",
       "  'token': 2,\n",
       "  'token_str': '</s>',\n",
       "  'sequence': 'def returnInt() ->:'},\n",
       " {'score': 0.16731058061122894,\n",
       "  'token': 6,\n",
       "  'token_str': ',',\n",
       "  'sequence': 'def returnInt() ->,:'},\n",
       " {'score': 0.1381322592496872,\n",
       "  'token': 4,\n",
       "  'token_str': '.',\n",
       "  'sequence': 'def returnInt() ->.:'},\n",
       " {'score': 0.06680286675691605,\n",
       "  'token': 5,\n",
       "  'token_str': ' the',\n",
       "  'sequence': 'def returnInt() -> the:'}]"
      ]
     },
     "execution_count": 6,
     "metadata": {},
     "output_type": "execute_result"
    }
   ],
   "source": [
    "custom_model = CustomModel(model, 8)\n",
    "fill_mask = pipeline('fill-mask', model=custom_model, tokenizer=tokenizer)\n",
    "\n",
    "outputs = fill_mask(CODE)\n",
    "outputs"
   ]
  },
  {
   "cell_type": "code",
   "execution_count": 7,
   "id": "c65e6177",
   "metadata": {},
   "outputs": [],
   "source": [
    "class TripletLoss(torch.nn.Module):\n",
    "    def __init__(self, margin=1.0):\n",
    "        super(TripletLoss, self).__init__()\n",
    "        self.margin = margin\n",
    "        \n",
    "    def calc_euclidean(self, x1, x2):\n",
    "        return (x1 - x2).pow(2).sum(1)\n",
    "    \n",
    "    def forward(self, anchor: torch.Tensor, positive: torch.Tensor, negative: torch.Tensor) -> torch.Tensor:\n",
    "        distance_positive = self.calc_euclidean(anchor, positive)\n",
    "        distance_negative = self.calc_euclidean(anchor, negative)\n",
    "        losses = torch.relu(distance_positive - distance_negative + self.margin)\n",
    "\n",
    "        return losses.mean()"
   ]
  },
  {
   "cell_type": "code",
   "execution_count": null,
   "id": "df96468d",
   "metadata": {},
   "outputs": [],
   "source": [
    "from torch.utils.data import TensorDataset\n",
    "from typing import Tuple\n",
    "\n",
    "class TripletDataset(torch.utils.data.Dataset):\n",
    "\n",
    "    def __init__(self, *in_sequences: torch.Tensor, labels: torch.Tensor, dataset_name: str,\n",
    "                 train_mode: bool=True):\n",
    "        self.data = TensorDataset(*in_sequences)\n",
    "        self.labels = labels\n",
    "        self.dataset_name = dataset_name\n",
    "        self.train_mode = train_mode\n",
    "\n",
    "        self.get_item_func = self.get_item_train if self.train_mode else self.get_item_test\n",
    "\n",
    "    def get_item_train(self, index: int) -> Tuple[Tuple[torch.Tensor, torch.Tensor],\n",
    "                                         Tuple[torch.Tensor, torch.Tensor], Tuple[torch.Tensor, torch.Tensor]]:\n",
    "        \"\"\"\n",
    "        It returns three tuples. Each one is a (data, label)\n",
    "         - The first tuple is (data, label) at the given index\n",
    "         - The second tuple is similar (data, label) to the given index\n",
    "         - The third tuple is different (data, label) from the given index \n",
    "        \"\"\"\n",
    "\n",
    "         # Find a similar datapoint randomly\n",
    "        mask = self.labels == self.labels[index]\n",
    "        mask[index] = False # Making sure that the similar pair is NOT the same as the given index\n",
    "        mask = mask.nonzero()\n",
    "        a = mask[torch.randint(high=len(mask), size=(1,))][0]\n",
    "\n",
    "        # Find a different datapoint randomly\n",
    "        mask = self.labels != self.labels[index]\n",
    "        mask = mask.nonzero()\n",
    "        b = mask[torch.randint(high=len(mask), size=(1,))][0]\n",
    "        \n",
    "        return (self.data[index], self.labels[index]), (self.data[a.item()], self.labels[a.item()]), \\\n",
    "               (self.data[b.item()], self.labels[b.item()])\n",
    "\n",
    "    def get_item_test(self, index: int) -> Tuple[Tuple[torch.Tensor, torch.Tensor], list, list]:\n",
    "        return (self.data[index], self.labels[index]), [], []\n",
    "    \n",
    "    def __getitem__(self, index: int) -> Tuple[Tuple[torch.Tensor, torch.Tensor],\n",
    "                                         Tuple[torch.Tensor, torch.Tensor], Tuple[torch.Tensor, torch.Tensor]]:\n",
    "         return self.get_item_func(index)\n",
    "\n",
    "    def __len__(self) -> int:\n",
    "        return len(self.data)"
   ]
  },
  {
   "cell_type": "code",
   "execution_count": 8,
   "id": "bf172749",
   "metadata": {},
   "outputs": [
    {
     "data": {
      "application/vnd.jupyter.widget-view+json": {
       "model_id": "d11f6d2fdaff4cce8471419601588c0a",
       "version_major": 2,
       "version_minor": 0
      },
      "text/plain": [
       "Epochs:   0%|          | 0/1 [00:00<?, ?it/s]"
      ]
     },
     "metadata": {},
     "output_type": "display_data"
    }
   ],
   "source": [
    "from tqdm.notebook import tqdm\n",
    "\n",
    "def tokenize_code(code):\n",
    "    nl_tokens = tokenizer.tokenize(\"\")\n",
    "    code_tokens = tokenizer.tokenize(code)\n",
    "    tokens = [tokenizer.cls_token]+nl_tokens+[tokenizer.sep_token]+code_tokens+[tokenizer.sep_token]\n",
    "    tokens_ids = tokenizer.convert_tokens_to_ids(tokens)\n",
    "    return torch.tensor(tokens_ids)[None,:]\n",
    "\n",
    "epochs = 1\n",
    "data = [(\"def returnInt() -> <mask>:\", \"def calcInt() -> <mask>:\",\"def returnFloat() -> <mask>:\", \"int\")]\n",
    "\n",
    "optimizer = torch.optim.Adam(custom_model.parameters(), lr=0.001)\n",
    "criterion = torch.jit.script(TripletLoss())\n",
    "\n",
    "for epoch in tqdm(range(epochs), desc=\"Epochs\"):\n",
    "    custom_model.train()\n",
    "    running_loss = []\n",
    "    for step, (t_a, t_p, t_n, anchor_label) in enumerate(data):\n",
    "        \n",
    "        optimizer.zero_grad()\n",
    "        anchor_out = custom_model(tokenize_code(t_a))\n",
    "        positive_out = custom_model(tokenize_code(t_p))\n",
    "        negative_out = custom_model(tokenize_code(t_n))\n",
    "        \n",
    "        loss = criterion(anchor_out[0], positive_out[0], negative_out[0])\n",
    "        loss.backward()\n",
    "        optimizer.step()"
   ]
  },
  {
   "cell_type": "code",
   "execution_count": 9,
   "id": "2ec5e128",
   "metadata": {},
   "outputs": [
    {
     "data": {
      "text/plain": [
       "[{'score': 1.0,\n",
       "  'token': 2,\n",
       "  'token_str': '</s>',\n",
       "  'sequence': 'def returnInt() ->:'},\n",
       " {'score': 2.5948279448609767e-18,\n",
       "  'token': 7,\n",
       "  'token_str': ' to',\n",
       "  'sequence': 'def returnInt() -> to:'},\n",
       " {'score': 5.1994345087308255e-19,\n",
       "  'token': 3,\n",
       "  'token_str': '<unk>',\n",
       "  'sequence': 'def returnInt() ->:'},\n",
       " {'score': 1.1109270896463535e-21,\n",
       "  'token': 1,\n",
       "  'token_str': '<pad>',\n",
       "  'sequence': 'def returnInt() ->:'},\n",
       " {'score': 2.0714162084783e-24,\n",
       "  'token': 6,\n",
       "  'token_str': ',',\n",
       "  'sequence': 'def returnInt() ->,:'}]"
      ]
     },
     "execution_count": 9,
     "metadata": {},
     "output_type": "execute_result"
    }
   ],
   "source": [
    "fill_mask = pipeline('fill-mask', model=custom_model, tokenizer=tokenizer)\n",
    "\n",
    "outputs = fill_mask(CODE)\n",
    "outputs"
   ]
  },
  {
   "cell_type": "code",
   "execution_count": 15,
   "id": "43dd5c6c",
   "metadata": {},
   "outputs": [
    {
     "data": {
      "application/vnd.jupyter.widget-view+json": {
       "model_id": "d190e04b7cc14e479c9ca7543b73a5a8",
       "version_major": 2,
       "version_minor": 0
      },
      "text/plain": [
       "KNN index:   0%|          | 0/4 [00:00<?, ?it/s]"
      ]
     },
     "metadata": {},
     "output_type": "display_data"
    },
    {
     "name": "stdout",
     "output_type": "stream",
     "text": [
      "[ -0.7522699   6.2505317  55.385365   13.364422  -53.659508  -30.434748\n",
      "   2.6112888  17.17372  ]\n",
      "[ -0.9132538   3.1205275  46.784546   10.455405  -51.535107  -29.574427\n",
      "   1.6441717  14.978202 ]\n",
      "[ -0.5679139  -2.668499   26.101051    4.9487624 -40.607037  -28.875288\n",
      "   1.180643   17.65803  ]\n",
      "[ -1.2925436  -0.711636   40.008694    4.751452  -49.12988   -29.94066\n",
      "   1.7957585  21.865204 ]\n",
      "<annoy.Annoy object at 0x7fe6443030b0>\n"
     ]
    }
   ],
   "source": [
    "import numpy as np\n",
    "from annoy import AnnoyIndex\n",
    "from torch.utils.data import DataLoader\n",
    "import random\n",
    "from collections import defaultdict\n",
    "import time\n",
    "\n",
    "input_list = [\n",
    "    \"def returnInt() -> <mask>: \\n\\t x: int = 42 \\n\\t return x\",\n",
    "    \"def setInt(self, x: int) -> <mask>: \\n\\t self.x = x\",\n",
    "    \"def getInt(self) -> <mask>: \\n\\t return self.x\",\n",
    "    \"def concatString(self, s1: str, s2: str) -> <mask>: \\n\\t return s1 + s2\",\n",
    "    \"def setStr(self, s: str) -> <mask>: \\n\\t self.s = s\",\n",
    "    \"def getStr(self) -> <mask>: \\n\\t return self.s\",\n",
    "    \"def isInt(self, x) -> <mask>: \\n\\t return x % 1 == 0\",\n",
    "    \"def doSomething() -> <mask>: \\n\\t pass\",\n",
    "    \"def isString(self, s) -> <mask>: \\n\\t return type(s, str)\"\n",
    "]\n",
    "\n",
    "labels = [\n",
    "    \"int\",\n",
    "    \"float\",\n",
    "    \"int\",\n",
    "    \"str\",\n",
    "    \"str\",\n",
    "    \"str\",\n",
    "    \"bool\",\n",
    "    \"None\",\n",
    "    \"bool\"\n",
    "]\n",
    "\n",
    "DEVICE = torch.device('cuda' if torch.cuda.is_available() else 'cpu')\n",
    "KNN_TREE_SIZE = 20\n",
    "DISTANCE_METRIC = 'euclidean'\n",
    "\n",
    "\n",
    "def create_type_space(inputs=input_list[:4], labels=labels[:4]):\n",
    "    \"\"\"\n",
    "    Creates the type space based on the inputs and their corresponding labels\n",
    "    \"\"\"\n",
    "    \n",
    "    # Make sure imputs are labeled\n",
    "    assert len(inputs) == len(labels)\n",
    "    \n",
    "    # Cache the type space mappings\n",
    "    computed_mapped_batches_train = []\n",
    "    with torch.no_grad():\n",
    "        \n",
    "        # Iterate through the data set\n",
    "        for inp, label in zip(inputs, labels):\n",
    "            \n",
    "            # Tokenize the code\n",
    "            nl_tokens = tokenizer.tokenize(\"\")\n",
    "            code_tokens = tokenizer.tokenize(inp)\n",
    "            tokens=[tokenizer.cls_token]+nl_tokens+[tokenizer.sep_token]+code_tokens+[tokenizer.sep_token]\n",
    "            tokens_ids=tokenizer.convert_tokens_to_ids(tokens)\n",
    "            \n",
    "            # Get the type space mapping from the model\n",
    "            output = custom_model.forward(torch.tensor(tokens_ids)[None,:])\n",
    "            \n",
    "            # Select masked tokens\n",
    "            masked_tokens = [c for c, token in enumerate(code_tokens) if token == \"<mask>\"]\n",
    "            \n",
    "            # For this version, assume only one mask\n",
    "            assert len(masked_tokens) == 1\n",
    "            \n",
    "            # Selected only the masked tokens from the output\n",
    "            vals = output.logits.cpu().numpy()\n",
    "            predicted_masks = [vals[0][i] for i in masked_tokens]\n",
    "            \n",
    "            # Cache the mapping of the masked token only\n",
    "            computed_mapped_batches_train.append(predicted_masks)\n",
    "        \n",
    "        # Create the type space\n",
    "        annoy_index = create_knn_index(computed_mapped_batches_train, None, computed_mapped_batches_train[0][0].size)\n",
    "    return annoy_index\n",
    "\n",
    "def create_knn_index(train_types_embed: np.array, valid_types_embed: np.array, type_embed_dim:int) -> AnnoyIndex:\n",
    "    \"\"\"\n",
    "    Creates KNNs index for given type embedding vectors, taken from Type4Py\n",
    "    \"\"\"\n",
    "    \n",
    "    annoy_idx = AnnoyIndex(type_embed_dim, DISTANCE_METRIC)\n",
    "\n",
    "    for i, v in enumerate(tqdm(train_types_embed, total=len(train_types_embed), desc=\"KNN index\")):\n",
    "        print(v[0])\n",
    "        annoy_idx.add_item(i, v[0])\n",
    "\n",
    "    annoy_idx.build(KNN_TREE_SIZE)\n",
    "    return annoy_idx\n",
    "\n",
    "annoy_idx = create_type_space()\n",
    "print(annoy_idx)"
   ]
  },
  {
   "cell_type": "code",
   "execution_count": 27,
   "id": "113df0f0",
   "metadata": {},
   "outputs": [
    {
     "data": {
      "application/vnd.jupyter.widget-view+json": {
       "model_id": "149c25a26b884f3bb7bc0eba8cfbbc8f",
       "version_major": 2,
       "version_minor": 0
      },
      "text/plain": [
       "Finding KNNs & Prediction:   0%|          | 0/4 [00:00<?, ?it/s]"
      ]
     },
     "metadata": {},
     "output_type": "display_data"
    },
    {
     "name": "stdout",
     "output_type": "stream",
     "text": [
      "0\n",
      "1\n",
      "2\n",
      "3\n",
      "['def returnInt() -> <mask>: \\n\\t x: int = 42 \\n\\t return x', 'def setInt(self, x: int) -> <mask>: \\n\\t self.x = x', 'def getInt(self) -> <mask>: \\n\\t return self.x', 'def concatString(self, s1: str, s2: str) -> <mask>: \\n\\t return s1 + s2']\n",
      "['int', 'float', 'int', 'str']\n",
      "[[('float', 0.8612811184334462), ('int', 0.1387188815665537)], [('int', 0.8585905889782303), ('str', 0.14140941102176965)], [('int', 0.831194781042978), ('str', 0.16880521895702222)], [('int', 0.5108928345639211), ('str', 0.4891071654360789)]]\n"
     ]
    }
   ],
   "source": [
    "def map_type(inputs=input_list[:4]):\n",
    "    \"\"\"\n",
    "    Maps an input to the type space\n",
    "    \"\"\"\n",
    "    with torch.no_grad():\n",
    "        computed_embed_batches_test = []\n",
    "        computed_embed_labels_test = []\n",
    "        \n",
    "        for inp in inputs:\n",
    "\n",
    "            # Tokenize the code\n",
    "            nl_tokens = tokenizer.tokenize(\"\")\n",
    "            code_tokens = tokenizer.tokenize(inp)\n",
    "            tokens=[tokenizer.cls_token]+nl_tokens+[tokenizer.sep_token]+code_tokens+[tokenizer.sep_token]\n",
    "            tokens_ids=tokenizer.convert_tokens_to_ids(tokens)\n",
    "            \n",
    "            # Get the type space mapping from the model\n",
    "            output = custom_model.forward(torch.tensor(tokens_ids)[None,:])\n",
    "            \n",
    "            # Select masked tokens\n",
    "            masked_tokens = [c for c, token in enumerate(code_tokens) if token == \"<mask>\"]\n",
    "            \n",
    "            # For this version, assume only one mask\n",
    "            assert len(masked_tokens) == 1\n",
    "            \n",
    "            # Selected only the masked tokens from the output\n",
    "            vals = output.logits.cpu().numpy()\n",
    "            predicted_masks = [vals[0][i] for i in masked_tokens]\n",
    "\n",
    "            # Cache the mapping of the masked token only\n",
    "            computed_embed_batches_test.append(predicted_masks)\n",
    "        \n",
    "        return computed_embed_batches_test\n",
    "\n",
    "def predict_type(types_embed_array: np.array, types_embed_labels: np.array, indexed_knn: AnnoyIndex, k: int):\n",
    "    \"\"\"\n",
    "    Predict type of given type embedding vectors\n",
    "    \"\"\"\n",
    "\n",
    "    pred_types_embed = []\n",
    "    pred_types_score = []\n",
    "    for i, embed_vec in enumerate(tqdm(types_embed_array, total=len(types_embed_array), desc=\"Finding KNNs & Prediction\")):\n",
    "        \n",
    "        # Get the distances to the KNN\n",
    "        idx, dist = indexed_knn.get_nns_by_vector(embed_vec[0], k, include_distances=True)\n",
    "        \n",
    "        # Compute the scores according to the formula\n",
    "        pred_idx_scores = compute_types_score(dist, idx, types_embed_labels)\n",
    "        \n",
    "        # Cache the scores and the labels\n",
    "        pred_types_embed.append([i for (i, s) in pred_idx_scores])\n",
    "        pred_types_score.append(pred_idx_scores)\n",
    "    \n",
    "    return pred_types_embed, pred_types_score\n",
    "\n",
    "def compute_types_score(types_dist: list, types_idx: list, types_embed_labels: np.array):\n",
    "        types_dist = 1 / (np.array(types_dist) + 1e-10) ** 2\n",
    "        types_dist /= np.sum(types_dist)\n",
    "        types_score = defaultdict(int)\n",
    "        for n, d in zip(types_idx, types_dist):\n",
    "            types_score[types_embed_labels[n]] += d\n",
    "        \n",
    "        return sorted({t: s for t, s in types_score.items()}.items(), key=lambda kv: kv[1], reverse=True)\n",
    "    \n",
    "types_embed_array = map_type()\n",
    "knn_K = 2\n",
    "pred_type_embed, pred_type_score = predict_type(types_embed_array, labels[:4], annoy_idx, knn_K,)\n",
    "print(input_list[:4])\n",
    "print(labels[:4])\n",
    "print(pred_type_score)"
   ]
  },
  {
   "cell_type": "code",
   "execution_count": null,
   "id": "82a80ff3",
   "metadata": {},
   "outputs": [],
   "source": []
  }
 ],
 "metadata": {
  "kernelspec": {
   "display_name": "Python 3 (ipykernel)",
   "language": "python",
   "name": "python3"
  },
  "language_info": {
   "codemirror_mode": {
    "name": "ipython",
    "version": 3
   },
   "file_extension": ".py",
   "mimetype": "text/x-python",
   "name": "python",
   "nbconvert_exporter": "python",
   "pygments_lexer": "ipython3",
   "version": "3.10.6"
  },
  "vscode": {
   "interpreter": {
    "hash": "b898463808f7de9d8eed8bf188ff18ea42a72c5d898f7e9a1365e818ae4a9ee4"
   }
  }
 },
 "nbformat": 4,
 "nbformat_minor": 5
}
