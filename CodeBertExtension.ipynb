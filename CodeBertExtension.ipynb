{
 "cells": [
  {
   "cell_type": "code",
   "execution_count": 1,
   "id": "a12c8f9c",
   "metadata": {},
   "outputs": [
    {
     "data": {
      "text/plain": [
       "[{'score': 0.2260781228542328,\n",
       "  'token': 6979,\n",
       "  'token_str': ' int',\n",
       "  'sequence': 'def returnInt() -> int:'},\n",
       " {'score': 0.15783804655075073,\n",
       "  'token': 5053,\n",
       "  'token_str': ' Any',\n",
       "  'sequence': 'def returnInt() -> Any:'},\n",
       " {'score': 0.1569615751504898,\n",
       "  'token': 9291,\n",
       "  'token_str': ' None',\n",
       "  'sequence': 'def returnInt() -> None:'},\n",
       " {'score': 0.12274446338415146,\n",
       "  'token': 1907,\n",
       "  'token_str': ' type',\n",
       "  'sequence': 'def returnInt() -> type:'},\n",
       " {'score': 0.06580942869186401,\n",
       "  'token': 1666,\n",
       "  'token_str': '...',\n",
       "  'sequence': 'def returnInt() ->...:'}]"
      ]
     },
     "execution_count": 1,
     "metadata": {},
     "output_type": "execute_result"
    }
   ],
   "source": [
    "from transformers import RobertaConfig, RobertaTokenizer, RobertaForMaskedLM, pipeline\n",
    "import torch\n",
    "\n",
    "model = RobertaForMaskedLM.from_pretrained(\"microsoft/codebert-base-mlm\")\n",
    "tokenizer = RobertaTokenizer.from_pretrained(\"microsoft/codebert-base-mlm\")\n",
    "\n",
    "CODE = \"def returnInt() -> <mask>:\"\n",
    "fill_mask = pipeline('fill-mask', model=model, tokenizer=tokenizer)\n",
    "\n",
    "outputs = fill_mask(CODE)\n",
    "outputs"
   ]
  },
  {
   "cell_type": "code",
   "execution_count": 2,
   "id": "7b176b91",
   "metadata": {},
   "outputs": [],
   "source": [
    "class CustomModel(torch.nn.Module):\n",
    "    def __init__(self, model, d, vocabulary_size = 50265): \n",
    "        super(CustomModel, self).__init__() \n",
    "        self.d = d\n",
    "        self.model = model\n",
    "        self.config = model.config\n",
    "        self.layer = torch.nn.Linear(vocabulary_size, d)\n",
    "    \n",
    "    def forward(self, input_ids=None, attention_mask=None):\n",
    "        model_output = self.model.forward(input_ids=input_ids, attention_mask=attention_mask)        \n",
    "        final_output_tensor = self.layer.forward(model_output[0])\n",
    "        model_output.logits = final_output_tensor\n",
    "        \n",
    "        return model_output"
   ]
  },
  {
   "cell_type": "code",
   "execution_count": 3,
   "id": "4dcb017f",
   "metadata": {},
   "outputs": [
    {
     "data": {
      "text/plain": [
       "torch.Size([1, 8, 50265])"
      ]
     },
     "execution_count": 3,
     "metadata": {},
     "output_type": "execute_result"
    }
   ],
   "source": [
    "nl_tokens=tokenizer.tokenize(\"\")\n",
    "code_tokens=tokenizer.tokenize(\"def returnInt() ->\")\n",
    "tokens=[tokenizer.cls_token]+nl_tokens+[tokenizer.sep_token]+code_tokens+[tokenizer.sep_token]\n",
    "tokens_ids=tokenizer.convert_tokens_to_ids(tokens)\n",
    "model(torch.tensor(tokens_ids)[None,:])[0].size()"
   ]
  },
  {
   "cell_type": "code",
   "execution_count": 4,
   "id": "88841175",
   "metadata": {},
   "outputs": [
    {
     "data": {
      "text/plain": [
       "MaskedLMOutput(loss=None, logits=tensor([[[-0.5659,  2.8974,  1.7297,  0.6070, -3.9746, -2.7266, -1.6069,\n",
       "          -1.5802],\n",
       "         [-2.5298,  0.4019,  0.2934,  3.0135, -3.0737, -3.9806, -2.1049,\n",
       "          -3.0578],\n",
       "         [-0.6079,  0.6877, -0.8915,  2.6663, -2.9882, -3.1302, -2.8738,\n",
       "          -1.5893],\n",
       "         [-0.8444,  3.2024,  1.6605, -1.4226, -4.5636, -1.7806, -2.8512,\n",
       "          -2.1173],\n",
       "         [-0.1082,  1.1586, -2.4872, -0.8006, -4.0596, -2.2575, -3.3089,\n",
       "          -2.6956],\n",
       "         [-0.9187,  2.8969, -0.5651,  4.9787,  0.2178, -3.7416, -3.9871,\n",
       "          -3.8240],\n",
       "         [ 1.5083,  1.5598,  0.7495, -0.4502, -4.2491, -2.4973, -1.6479,\n",
       "          -2.7352],\n",
       "         [ 1.0187,  1.7994, -1.1320, -2.1037, -2.7119, -2.5388, -2.2533,\n",
       "          -2.4799]]], grad_fn=<ViewBackward0>), hidden_states=None, attentions=None)"
      ]
     },
     "execution_count": 4,
     "metadata": {},
     "output_type": "execute_result"
    }
   ],
   "source": [
    "custom_model = CustomModel(model, 8)\n",
    "custom_model.forward(torch.tensor(tokens_ids)[None,:])\n",
    "\n"
   ]
  },
  {
   "cell_type": "code",
   "execution_count": 5,
   "id": "8d518b12",
   "metadata": {},
   "outputs": [
    {
     "data": {
      "text/plain": [
       "[{'score': 0.3408574163913727,\n",
       "  'token': 4,\n",
       "  'token_str': '.',\n",
       "  'sequence': 'def returnInt() ->.:'},\n",
       " {'score': 0.27321097254753113,\n",
       "  'token': 6,\n",
       "  'token_str': ',',\n",
       "  'sequence': 'def returnInt() ->,:'},\n",
       " {'score': 0.13929034769535065,\n",
       "  'token': 1,\n",
       "  'token_str': '<pad>',\n",
       "  'sequence': 'def returnInt() ->:'},\n",
       " {'score': 0.10849028825759888,\n",
       "  'token': 5,\n",
       "  'token_str': ' the',\n",
       "  'sequence': 'def returnInt() -> the:'},\n",
       " {'score': 0.07683997601270676,\n",
       "  'token': 2,\n",
       "  'token_str': '</s>',\n",
       "  'sequence': 'def returnInt() ->:'}]"
      ]
     },
     "execution_count": 5,
     "metadata": {},
     "output_type": "execute_result"
    }
   ],
   "source": [
    "custom_model = CustomModel(model, 8)\n",
    "fill_mask = pipeline('fill-mask', model=custom_model, tokenizer=tokenizer)\n",
    "\n",
    "outputs = fill_mask(CODE)\n",
    "outputs"
   ]
  },
  {
   "cell_type": "code",
   "execution_count": 6,
   "id": "c65e6177",
   "metadata": {},
   "outputs": [],
   "source": [
    "class TripletLoss(torch.nn.Module):\n",
    "    def __init__(self, margin=1.0):\n",
    "        super(TripletLoss, self).__init__()\n",
    "        self.margin = margin\n",
    "        \n",
    "    def calc_euclidean(self, x1, x2):\n",
    "        return (x1 - x2).pow(2).sum(1)\n",
    "    \n",
    "    def forward(self, anchor: torch.Tensor, positive: torch.Tensor, negative: torch.Tensor) -> torch.Tensor:\n",
    "        distance_positive = self.calc_euclidean(anchor, positive)\n",
    "        distance_negative = self.calc_euclidean(anchor, negative)\n",
    "        losses = torch.relu(distance_positive - distance_negative + self.margin)\n",
    "\n",
    "        return losses.mean()"
   ]
  },
  {
   "cell_type": "code",
   "execution_count": 7,
   "id": "bf172749",
   "metadata": {},
   "outputs": [
    {
     "data": {
      "application/vnd.jupyter.widget-view+json": {
       "model_id": "c6f37a018a764b9b93c61c1bf587717d",
       "version_major": 2,
       "version_minor": 0
      },
      "text/plain": [
       "Epochs:   0%|          | 0/1 [00:00<?, ?it/s]"
      ]
     },
     "metadata": {},
     "output_type": "display_data"
    }
   ],
   "source": [
    "from tqdm.notebook import tqdm\n",
    "\n",
    "def tokenize_code(code):\n",
    "    nl_tokens = tokenizer.tokenize(\"\")\n",
    "    code_tokens = tokenizer.tokenize(code)\n",
    "    tokens = [tokenizer.cls_token]+nl_tokens+[tokenizer.sep_token]+code_tokens+[tokenizer.sep_token]\n",
    "    tokens_ids = tokenizer.convert_tokens_to_ids(tokens)\n",
    "    return torch.tensor(tokens_ids)[None,:]\n",
    "\n",
    "epochs = 1\n",
    "data = [(\"def returnInt() -> <mask>:\", \"def calcInt() -> <mask>:\",\"def returnFloat() -> <mask>:\", \"int\")]\n",
    "\n",
    "optimizer = torch.optim.Adam(custom_model.parameters(), lr=0.001)\n",
    "criterion = torch.jit.script(TripletLoss())\n",
    "\n",
    "for epoch in tqdm(range(epochs), desc=\"Epochs\"):\n",
    "    custom_model.train()\n",
    "    running_loss = []\n",
    "    for step, (t_a, t_p, t_n, anchor_label) in enumerate(data):\n",
    "        \n",
    "        optimizer.zero_grad()\n",
    "        anchor_out = custom_model(tokenize_code(t_a))\n",
    "        positive_out = custom_model(tokenize_code(t_p))\n",
    "        negative_out = custom_model(tokenize_code(t_n))\n",
    "        \n",
    "        loss = criterion(anchor_out[0], positive_out[0], negative_out[0])\n",
    "        loss.backward()\n",
    "        optimizer.step()"
   ]
  },
  {
   "cell_type": "code",
   "execution_count": 8,
   "id": "2ec5e128",
   "metadata": {},
   "outputs": [
    {
     "data": {
      "text/plain": [
       "[{'score': 0.4581899344921112,\n",
       "  'token': 6,\n",
       "  'token_str': ',',\n",
       "  'sequence': 'def returnInt() ->,:'},\n",
       " {'score': 0.426839143037796,\n",
       "  'token': 4,\n",
       "  'token_str': '.',\n",
       "  'sequence': 'def returnInt() ->.:'},\n",
       " {'score': 0.05817270651459694,\n",
       "  'token': 5,\n",
       "  'token_str': ' the',\n",
       "  'sequence': 'def returnInt() -> the:'},\n",
       " {'score': 0.05054251477122307,\n",
       "  'token': 7,\n",
       "  'token_str': ' to',\n",
       "  'sequence': 'def returnInt() -> to:'},\n",
       " {'score': 0.006245944183319807,\n",
       "  'token': 0,\n",
       "  'token_str': '<s>',\n",
       "  'sequence': 'def returnInt() ->:'}]"
      ]
     },
     "execution_count": 8,
     "metadata": {},
     "output_type": "execute_result"
    }
   ],
   "source": [
    "fill_mask = pipeline('fill-mask', model=custom_model, tokenizer=tokenizer)\n",
    "\n",
    "outputs = fill_mask(CODE)\n",
    "outputs"
   ]
  },
  {
   "cell_type": "code",
   "execution_count": 9,
   "id": "c35cbd86",
   "metadata": {},
   "outputs": [],
   "source": [
    "import numpy as np\n",
    "from annoy import AnnoyIndex\n",
    "from torch.utils.data import DataLoader\n",
    "import random\n",
    "\n",
    "DEVICE = torch.device('cuda' if torch.cuda.is_available() else 'cpu')\n",
    "KNN_TREE_SIZE = 20\n",
    "\n",
    "def compute_validation_loss_dsl():\n",
    "    with torch.no_grad():\n",
    "        # model.eval()\n",
    "        computed_embed_batches_train = []\n",
    "        computed_embed_labels_train = []\n",
    "        # for step, (t_a, t_p, t_n, anchor_label) in enumerate(DataLoader(data)):\n",
    "        output = custom_model.forward(torch.tensor(tokens_ids)[None,:])\n",
    "        computed_embed_batches_train.append(output.logits.cpu().numpy())\n",
    "        # computed_embed_labels_train.append(t_a[1].logits.cpu().numpy())\n",
    "             \n",
    "        annoy_index = create_knn_index(np.vstack(computed_embed_batches_train), None, computed_embed_batches_train[0].shape[1])\n",
    "    return annoy_index\n",
    "\n",
    "def create_knn_index(train_types_embed: np.array, valid_types_embed: np.array, type_embed_dim:int) -> AnnoyIndex:\n",
    "    \"\"\"\n",
    "    Creates KNNs index for given type embedding vectors, taken from Type4Py\n",
    "    \"\"\"\n",
    "\n",
    "    annoy_idx = AnnoyIndex(type_embed_dim, 'euclidean')\n",
    "\n",
    "    for i, v in enumerate(tqdm(train_types_embed, total=len(train_types_embed), desc=\"KNN index\")):\n",
    "        annoy_idx.add_item(i, v[0])\n",
    "\n",
    "    # if valid_types_embed is not None:\n",
    "    #     for i, v in enumerate(valid_types_embed):\n",
    "    #         annoy_idx.add_item(len(train_types_embed) + i, v)\n",
    "\n",
    "    annoy_idx.build(KNN_TREE_SIZE)\n",
    "    return annoy_idx\n"
   ]
  },
  {
   "cell_type": "code",
   "execution_count": 10,
   "id": "8ac93ac1",
   "metadata": {},
   "outputs": [
    {
     "data": {
      "application/vnd.jupyter.widget-view+json": {
       "model_id": "18ceb3652e3c47d0b2fa9f3cb32f8633",
       "version_major": 2,
       "version_minor": 0
      },
      "text/plain": [
       "KNN index:   0%|          | 0/1 [00:00<?, ?it/s]"
      ]
     },
     "metadata": {},
     "output_type": "display_data"
    },
    {
     "name": "stdout",
     "output_type": "stream",
     "text": [
      "<annoy.Annoy object at 0x7fd967bf95b0>\n"
     ]
    }
   ],
   "source": [
    "annoy_idx = compute_validation_loss_dsl()\n",
    "print(annoy_idx)"
   ]
  },
  {
   "cell_type": "code",
   "execution_count": 35,
   "id": "113df0f0",
   "metadata": {},
   "outputs": [
    {
     "name": "stdout",
     "output_type": "stream",
     "text": [
      "[[[-1.5249027e+00 -1.9572716e+01 -2.7180109e+00 -3.6818409e+01\n",
      "    1.8512996e+00 -4.6403128e-01  1.9158951e+00 -1.4805524e-01]\n",
      "  [-1.7613642e+00 -2.1909637e+01  2.0286975e+00 -2.8142801e+01\n",
      "    1.7007242e+00 -7.7765995e-01  2.3777726e+00  6.3859093e-01]\n",
      "  [-1.6282320e+00 -2.1642570e+01  3.6834216e+00 -2.9883682e+01\n",
      "    1.7431563e+00 -1.1387316e+00  1.2901649e+00 -2.0066257e-01]\n",
      "  [-2.4851127e+00 -3.4633289e+01  8.5549231e+00 -1.4578321e+01\n",
      "    1.0059235e+00 -5.9483886e-01  8.6083770e-01  1.1905739e+00]\n",
      "  [-1.8570081e+00 -3.9238789e+01  1.3913065e+01 -1.5893730e+01\n",
      "    1.8077003e+00 -1.9247583e-01  1.8061579e+00 -3.3983693e-02]\n",
      "  [-1.1449707e+00 -2.7841658e+01  8.3224773e+00 -2.1439407e+01\n",
      "    1.6149278e+00 -4.1491222e-01  1.4369650e+00  8.9612401e-01]\n",
      "  [-2.1045837e+00 -2.1258196e+01  4.8855915e+00 -3.1366140e+01\n",
      "    1.6868753e+00 -1.4307104e+00  1.4394988e+00  1.3853180e+00]\n",
      "  [-1.7146753e+00 -1.9007898e+01  2.6943140e+00 -2.4793600e+01\n",
      "    2.6001210e+00 -1.4717352e-01  1.9896951e+00  6.8224496e-01]\n",
      "  [-2.0513110e+00 -2.2130613e+01 -4.8406446e-01 -2.6590067e+01\n",
      "    2.1390386e+00 -8.2290447e-01  1.9053606e+00  7.3158193e-01]\n",
      "  [-1.6507239e+00 -2.4349945e+01  7.3005252e+00 -2.0411810e+01\n",
      "    1.4462671e+00 -2.4514154e-01  1.7255884e+00  5.2945995e-01]\n",
      "  [-2.3667409e+00 -2.7083221e+01  5.7305512e+00 -2.0044548e+01\n",
      "    2.1729879e+00 -1.2320392e+00  2.0544066e+00  8.9544380e-01]\n",
      "  [-1.5188538e+00 -1.8114677e+01 -2.7954435e+00 -3.6801445e+01\n",
      "    1.7779472e+00 -3.9184642e-01  2.2506938e+00  1.4169784e-01]\n",
      "  [-1.7756379e+00 -2.8275391e+01  1.4264368e+01 -1.7319025e+01\n",
      "    2.3998921e+00 -1.3878785e+00  9.7825593e-01  8.1139857e-01]\n",
      "  [-1.4717615e+00 -2.3918200e+01  3.1218951e+00 -3.6293236e+01\n",
      "    9.4997096e-01 -9.9398717e-03  1.2484679e+00  8.0214983e-01]\n",
      "  [-1.4333379e+00 -2.0638107e+01  8.7107509e-01 -3.5426189e+01\n",
      "    2.2906997e+00 -7.1047050e-01  1.9555068e+00  8.2363534e-01]\n",
      "  [-2.3065794e+00 -2.9693222e+01  8.0926533e+00 -1.8165073e+01\n",
      "    1.5709306e+00 -8.9641082e-01  1.6214786e+00  3.8121814e-01]\n",
      "  [-1.6928301e+00 -2.6783875e+01  1.3840309e+01 -1.1489061e+01\n",
      "    1.9394473e+00 -1.2620023e+00  1.2508807e+00  3.4996465e-01]\n",
      "  [-1.6948403e+00 -2.4807749e+01  1.1360832e+01 -1.5974808e+01\n",
      "    1.3311539e+00 -1.1292403e+00  1.9059374e+00  7.9499727e-01]\n",
      "  [-1.3372583e+00 -2.3397512e+01  6.0023108e+00 -1.9348030e+01\n",
      "    2.5137377e+00 -1.0424883e+00  2.2792547e+00  4.7573003e-01]\n",
      "  [-6.1754334e-01 -1.5481044e+01 -3.4301343e+00 -3.3006409e+01\n",
      "    2.0830169e+00 -3.9956066e-01  1.6363117e+00 -1.0870603e-01]\n",
      "  [-2.2251301e+00 -2.3749033e+01  5.8210778e+00 -2.2058723e+01\n",
      "    1.8655651e+00 -1.5017924e+00  1.9115250e+00  4.0254509e-01]\n",
      "  [-1.5303264e+00 -3.0867281e+01  1.2860154e+01 -1.6608873e+01\n",
      "    2.2428734e+00 -7.1588379e-01  1.5693008e+00  1.1526279e+00]\n",
      "  [-1.1812677e+00 -2.1188499e+01 -3.0105100e+00 -2.6636274e+01\n",
      "    1.5735183e+00 -2.1589884e-01  2.3751683e+00  7.6627481e-01]]]\n",
      "[[-1.5249027e+00 -1.9572716e+01 -2.7180109e+00 -3.6818409e+01\n",
      "   1.8512996e+00 -4.6403128e-01  1.9158951e+00 -1.4805524e-01]\n",
      " [-1.7613642e+00 -2.1909637e+01  2.0286975e+00 -2.8142801e+01\n",
      "   1.7007242e+00 -7.7765995e-01  2.3777726e+00  6.3859093e-01]\n",
      " [-1.6282320e+00 -2.1642570e+01  3.6834216e+00 -2.9883682e+01\n",
      "   1.7431563e+00 -1.1387316e+00  1.2901649e+00 -2.0066257e-01]\n",
      " [-2.4851127e+00 -3.4633289e+01  8.5549231e+00 -1.4578321e+01\n",
      "   1.0059235e+00 -5.9483886e-01  8.6083770e-01  1.1905739e+00]\n",
      " [-1.8570081e+00 -3.9238789e+01  1.3913065e+01 -1.5893730e+01\n",
      "   1.8077003e+00 -1.9247583e-01  1.8061579e+00 -3.3983693e-02]\n",
      " [-1.1449707e+00 -2.7841658e+01  8.3224773e+00 -2.1439407e+01\n",
      "   1.6149278e+00 -4.1491222e-01  1.4369650e+00  8.9612401e-01]\n",
      " [-2.1045837e+00 -2.1258196e+01  4.8855915e+00 -3.1366140e+01\n",
      "   1.6868753e+00 -1.4307104e+00  1.4394988e+00  1.3853180e+00]\n",
      " [-1.7146753e+00 -1.9007898e+01  2.6943140e+00 -2.4793600e+01\n",
      "   2.6001210e+00 -1.4717352e-01  1.9896951e+00  6.8224496e-01]\n",
      " [-2.0513110e+00 -2.2130613e+01 -4.8406446e-01 -2.6590067e+01\n",
      "   2.1390386e+00 -8.2290447e-01  1.9053606e+00  7.3158193e-01]\n",
      " [-1.6507239e+00 -2.4349945e+01  7.3005252e+00 -2.0411810e+01\n",
      "   1.4462671e+00 -2.4514154e-01  1.7255884e+00  5.2945995e-01]\n",
      " [-2.3667409e+00 -2.7083221e+01  5.7305512e+00 -2.0044548e+01\n",
      "   2.1729879e+00 -1.2320392e+00  2.0544066e+00  8.9544380e-01]\n",
      " [-1.5188538e+00 -1.8114677e+01 -2.7954435e+00 -3.6801445e+01\n",
      "   1.7779472e+00 -3.9184642e-01  2.2506938e+00  1.4169784e-01]\n",
      " [-1.7756379e+00 -2.8275391e+01  1.4264368e+01 -1.7319025e+01\n",
      "   2.3998921e+00 -1.3878785e+00  9.7825593e-01  8.1139857e-01]\n",
      " [-1.4717615e+00 -2.3918200e+01  3.1218951e+00 -3.6293236e+01\n",
      "   9.4997096e-01 -9.9398717e-03  1.2484679e+00  8.0214983e-01]\n",
      " [-1.4333379e+00 -2.0638107e+01  8.7107509e-01 -3.5426189e+01\n",
      "   2.2906997e+00 -7.1047050e-01  1.9555068e+00  8.2363534e-01]\n",
      " [-2.3065794e+00 -2.9693222e+01  8.0926533e+00 -1.8165073e+01\n",
      "   1.5709306e+00 -8.9641082e-01  1.6214786e+00  3.8121814e-01]\n",
      " [-1.6928301e+00 -2.6783875e+01  1.3840309e+01 -1.1489061e+01\n",
      "   1.9394473e+00 -1.2620023e+00  1.2508807e+00  3.4996465e-01]\n",
      " [-1.6948403e+00 -2.4807749e+01  1.1360832e+01 -1.5974808e+01\n",
      "   1.3311539e+00 -1.1292403e+00  1.9059374e+00  7.9499727e-01]\n",
      " [-1.3372583e+00 -2.3397512e+01  6.0023108e+00 -1.9348030e+01\n",
      "   2.5137377e+00 -1.0424883e+00  2.2792547e+00  4.7573003e-01]\n",
      " [-6.1754334e-01 -1.5481044e+01 -3.4301343e+00 -3.3006409e+01\n",
      "   2.0830169e+00 -3.9956066e-01  1.6363117e+00 -1.0870603e-01]\n",
      " [-2.2251301e+00 -2.3749033e+01  5.8210778e+00 -2.2058723e+01\n",
      "   1.8655651e+00 -1.5017924e+00  1.9115250e+00  4.0254509e-01]\n",
      " [-1.5303264e+00 -3.0867281e+01  1.2860154e+01 -1.6608873e+01\n",
      "   2.2428734e+00 -7.1588379e-01  1.5693008e+00  1.1526279e+00]\n",
      " [-1.1812677e+00 -2.1188499e+01 -3.0105100e+00 -2.6636274e+01\n",
      "   1.5735183e+00 -2.1589884e-01  2.3751683e+00  7.6627481e-01]]\n"
     ]
    },
    {
     "data": {
      "application/vnd.jupyter.widget-view+json": {
       "model_id": "ac61dd462174458eb83a20311774a64e",
       "version_major": 2,
       "version_minor": 0
      },
      "text/plain": [
       "Finding KNNs & Prediction:   0%|          | 0/23 [00:00<?, ?it/s]"
      ]
     },
     "metadata": {},
     "output_type": "display_data"
    },
    {
     "name": "stdout",
     "output_type": "stream",
     "text": [
      "<unk>\n",
      "[[(3, 1.0)], [(3, 1.0)], [(3, 1.0)], [(3, 1.0)], [(3, 1.0)], [(3, 1.0)], [(3, 1.0)], [(3, 1.0)], [(3, 1.0)], [(3, 1.0)], [(3, 1.0)], [(3, 1.0)], [(3, 1.0)], [(3, 1.0)], [(3, 1.0)], [(3, 1.0)], [(3, 1.0)], [(3, 1.0)], [(3, 1.0)], [(3, 1.0)], [(3, 1.0)], [(3, 1.0)], [(3, 1.0)]]\n"
     ]
    }
   ],
   "source": [
    "from collections import defaultdict\n",
    "\n",
    "input = [\n",
    "    \"def returnInt() -> <mask>: \\n\\t x: int = 42 \\n\\t return x\",\n",
    "    \"def setInt(self, x: int) -> <mask>: \\n\\t self.x = x\",\n",
    "    \"def getInt(self) -> <mask>: \\n\\t return self.x\",\n",
    "    \"def concatString(self, s1: str, s2: str) -> <mask>: \\n\\t return s1 + s2\",\n",
    "    \"def setStr(self, s: str) -> <mask>: \\n\\t self.s = s\",\n",
    "    \"def getStr(self) -> <mask>: \\n\\t return self.s\",\n",
    "    \"def isInt(self, x) -> <mask>: \\n\\t return x % 1 == 0\",\n",
    "    \"def isString(self, s) -> <mask>: \\n\\t return type(s, str)\"\n",
    "]\n",
    "labels = [\n",
    "    \"int\",\n",
    "    \"int\",\n",
    "    \"int\",\n",
    "    \"str\",\n",
    "    \"str\",\n",
    "    \"str\",\n",
    "    \"bool\",\n",
    "    \"bool\"\n",
    "]\n",
    "\n",
    "def get_test_embedding():\n",
    "    with torch.no_grad():\n",
    "        computed_embed_batches_test = []\n",
    "        computed_embed_labels_test = []\n",
    "        \n",
    "        for i in range(8):\n",
    "            nl_tokens=tokenizer.tokenize(\"\")\n",
    "            code_tokens=tokenizer.tokenize(input[i])\n",
    "            tokens=[tokenizer.cls_token]+nl_tokens+[tokenizer.sep_token]+code_tokens+[tokenizer.sep_token]\n",
    "            tokens_ids=tokenizer.convert_tokens_to_ids(tokens)\n",
    "            \n",
    "            output = custom_model.forward(torch.tensor(tokens_ids)[None,:])\n",
    "            computed_embed_batches_test.append(output.logits.cpu().numpy())\n",
    "            test_label = tokenizer.convert_tokens_to_ids(tokenizer(labels[i]))\n",
    "            computed_embed_labels_test.append(test_label)\n",
    "        return computed_embed_batches_test, test_label\n",
    "\n",
    "def predict_type_embed(types_embed_array: np.array, types_embed_labels: np.array, indexed_knn: AnnoyIndex, k: int):\n",
    "    \"\"\"\n",
    "    Predict type of given type embedding vectors\n",
    "    \"\"\"\n",
    "\n",
    "    pred_types_embed = []\n",
    "    pred_types_score = []\n",
    "    for i, embed_vec in enumerate(tqdm(types_embed_array, total=len(types_embed_array), desc=\"Finding KNNs & Prediction\")):\n",
    "        idx, dist = indexed_knn.get_nns_by_vector(embed_vec, k, include_distances=True)\n",
    "        pred_idx_scores = compute_types_score(dist, idx, types_embed_labels)\n",
    "        pred_types_embed.append([i for i, s in pred_idx_scores])\n",
    "        pred_types_score.append(pred_idx_scores)\n",
    "    \n",
    "    return pred_types_embed, pred_types_score\n",
    "\n",
    "def compute_types_score(types_dist: list, types_idx: list, types_embed_labels: np.array):\n",
    "        types_dist = 1 / (np.array(types_dist) + 1e-10) ** 2\n",
    "        types_dist /= np.sum(types_dist)\n",
    "        types_score = defaultdict(int)\n",
    "        for n, d in zip(types_idx, types_dist):\n",
    "            types_score[types_embed_labels[n]] += d\n",
    "        \n",
    "        return sorted({t: s for t, s in types_score.items()}.items(), key=lambda kv: kv[1], reverse=True)\n",
    "    \n",
    "types_embed_array, types_embed_labels = get_test_embedding()\n",
    "print(types_embed_array[0])\n",
    "print(np.vstack(types_embed_array[0]))\n",
    "pred_type_embed, pred_type_score = predict_type_embed(np.vstack(types_embed_array[0]), types_embed_labels, annoy_idx, 8)\n",
    "# for i in pred_type_embed[0]:\n",
    "#     print(types_embed_labels[i])\n",
    "print(tokenizer.convert_ids_to_tokens(pred_type_embed[0][0]))\n",
    "print(pred_type_score)"
   ]
  },
  {
   "cell_type": "code",
   "execution_count": null,
   "id": "2daeffc6",
   "metadata": {},
   "outputs": [],
   "source": []
  }
 ],
 "metadata": {
  "kernelspec": {
   "display_name": "Python 3.10.6 ('venv': venv)",
   "language": "python",
   "name": "python3"
  },
  "language_info": {
   "codemirror_mode": {
    "name": "ipython",
    "version": 3
   },
   "file_extension": ".py",
   "mimetype": "text/x-python",
   "name": "python",
   "nbconvert_exporter": "python",
   "pygments_lexer": "ipython3",
   "version": "3.10.6"
  },
  "vscode": {
   "interpreter": {
    "hash": "b898463808f7de9d8eed8bf188ff18ea42a72c5d898f7e9a1365e818ae4a9ee4"
   }
  }
 },
 "nbformat": 4,
 "nbformat_minor": 5
}
