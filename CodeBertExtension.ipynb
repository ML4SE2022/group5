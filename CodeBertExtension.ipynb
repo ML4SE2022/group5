{
 "cells": [
  {
   "cell_type": "code",
   "execution_count": 67,
   "id": "a12c8f9c",
   "metadata": {},
   "outputs": [
    {
     "data": {
      "text/plain": [
       "[{'score': 0.2260781228542328,\n",
       "  'token': 6979,\n",
       "  'token_str': ' int',\n",
       "  'sequence': 'def returnInt() -> int:'},\n",
       " {'score': 0.15783804655075073,\n",
       "  'token': 5053,\n",
       "  'token_str': ' Any',\n",
       "  'sequence': 'def returnInt() -> Any:'},\n",
       " {'score': 0.1569615751504898,\n",
       "  'token': 9291,\n",
       "  'token_str': ' None',\n",
       "  'sequence': 'def returnInt() -> None:'},\n",
       " {'score': 0.12274446338415146,\n",
       "  'token': 1907,\n",
       "  'token_str': ' type',\n",
       "  'sequence': 'def returnInt() -> type:'},\n",
       " {'score': 0.06580942869186401,\n",
       "  'token': 1666,\n",
       "  'token_str': '...',\n",
       "  'sequence': 'def returnInt() ->...:'}]"
      ]
     },
     "execution_count": 67,
     "metadata": {},
     "output_type": "execute_result"
    }
   ],
   "source": [
    "from transformers import RobertaConfig, RobertaTokenizer, RobertaForMaskedLM, pipeline\n",
    "import torch\n",
    "\n",
    "model = RobertaForMaskedLM.from_pretrained(\"microsoft/codebert-base-mlm\")\n",
    "tokenizer = RobertaTokenizer.from_pretrained(\"microsoft/codebert-base-mlm\")\n",
    "\n",
    "CODE = \"def returnInt() -> <mask>:\"\n",
    "fill_mask = pipeline('fill-mask', model=model, tokenizer=tokenizer)\n",
    "\n",
    "outputs = fill_mask(CODE)\n",
    "outputs"
   ]
  },
  {
   "cell_type": "code",
   "execution_count": 68,
   "id": "7b176b91",
   "metadata": {},
   "outputs": [],
   "source": [
    "class CustomModel(torch.nn.Module):\n",
    "    def __init__(self, model, d, vocabulary_size = 50265): \n",
    "        super(CustomModel, self).__init__() \n",
    "        self.d = d\n",
    "        self.model = model\n",
    "        self.config = model.config\n",
    "        self.layer = torch.nn.Linear(vocabulary_size, d)\n",
    "    \n",
    "    def forward(self, input_ids=None, attention_mask=None):\n",
    "        model_output = self.model.forward(input_ids=input_ids, attention_mask=attention_mask)        \n",
    "        final_output_tensor = self.layer.forward(model_output[0])\n",
    "        model_output.logits = final_output_tensor\n",
    "        \n",
    "        return model_output"
   ]
  },
  {
   "cell_type": "code",
   "execution_count": 69,
   "id": "4dcb017f",
   "metadata": {},
   "outputs": [
    {
     "data": {
      "text/plain": [
       "torch.Size([1, 8, 50265])"
      ]
     },
     "execution_count": 69,
     "metadata": {},
     "output_type": "execute_result"
    }
   ],
   "source": [
    "nl_tokens=tokenizer.tokenize(\"\")\n",
    "code_tokens=tokenizer.tokenize(\"def returnInt() ->\")\n",
    "tokens=[tokenizer.cls_token]+nl_tokens+[tokenizer.sep_token]+code_tokens+[tokenizer.sep_token]\n",
    "tokens_ids=tokenizer.convert_tokens_to_ids(tokens)\n",
    "model(torch.tensor(tokens_ids)[None,:])[0].size()"
   ]
  },
  {
   "cell_type": "code",
   "execution_count": 70,
   "id": "88841175",
   "metadata": {},
   "outputs": [
    {
     "data": {
      "text/plain": [
       "MaskedLMOutput(loss=None, logits=tensor([[[ 0.9974,  1.8173,  2.9009,  0.6223, -2.3383, -2.3489, -0.2263,\n",
       "           1.8593],\n",
       "         [ 2.1772,  2.6819,  1.8731,  1.0957, -0.8751, -3.7013,  2.4598,\n",
       "           1.5739],\n",
       "         [ 3.7235,  2.1757,  3.4237,  3.7053, -1.2009, -3.2981,  2.5223,\n",
       "           0.7235],\n",
       "         [ 3.2575,  2.2046,  1.5974, -1.8128, -2.8777, -0.9669,  0.1867,\n",
       "           0.5435],\n",
       "         [ 0.8468,  3.6607,  3.4923,  1.6033, -1.0270, -4.8929,  1.9278,\n",
       "           0.2467],\n",
       "         [-0.5875,  4.3031,  2.4883,  1.2344,  0.3943, -0.5856,  0.0650,\n",
       "           0.3482],\n",
       "         [ 1.3970,  2.8812,  2.4330, -0.4276, -0.8746, -1.0335, -0.2439,\n",
       "           0.5437],\n",
       "         [ 3.9880,  0.5474,  2.6009, -1.1463, -2.1115, -0.9738,  1.2335,\n",
       "           1.8181]]], grad_fn=<ViewBackward0>), hidden_states=None, attentions=None)"
      ]
     },
     "execution_count": 70,
     "metadata": {},
     "output_type": "execute_result"
    }
   ],
   "source": [
    "custom_model = CustomModel(model, 8)\n",
    "custom_model.forward(torch.tensor(tokens_ids)[None,:])\n",
    "\n"
   ]
  },
  {
   "cell_type": "code",
   "execution_count": 77,
   "id": "8d518b12",
   "metadata": {},
   "outputs": [
    {
     "data": {
      "text/plain": [
       "[{'score': 0.408164918422699,\n",
       "  'token': 0,\n",
       "  'token_str': '<s>',\n",
       "  'sequence': 'def returnInt() ->:'},\n",
       " {'score': 0.20400215685367584,\n",
       "  'token': 2,\n",
       "  'token_str': '</s>',\n",
       "  'sequence': 'def returnInt() ->:'},\n",
       " {'score': 0.16126449406147003,\n",
       "  'token': 6,\n",
       "  'token_str': ',',\n",
       "  'sequence': 'def returnInt() ->,:'},\n",
       " {'score': 0.08908458799123764,\n",
       "  'token': 4,\n",
       "  'token_str': '.',\n",
       "  'sequence': 'def returnInt() ->.:'},\n",
       " {'score': 0.07929743081331253,\n",
       "  'token': 5,\n",
       "  'token_str': ' the',\n",
       "  'sequence': 'def returnInt() -> the:'}]"
      ]
     },
     "execution_count": 77,
     "metadata": {},
     "output_type": "execute_result"
    }
   ],
   "source": [
    "custom_model = CustomModel(model, 8)\n",
    "fill_mask = pipeline('fill-mask', model=custom_model, tokenizer=tokenizer)\n",
    "\n",
    "outputs = fill_mask(CODE)\n",
    "outputs"
   ]
  },
  {
   "cell_type": "code",
   "execution_count": 72,
   "id": "c65e6177",
   "metadata": {},
   "outputs": [],
   "source": [
    "class TripletLoss(torch.nn.Module):\n",
    "    def __init__(self, margin=1.0):\n",
    "        super(TripletLoss, self).__init__()\n",
    "        self.margin = margin\n",
    "        \n",
    "    def calc_euclidean(self, x1, x2):\n",
    "        return (x1 - x2).pow(2).sum(1)\n",
    "    \n",
    "    def forward(self, anchor: torch.Tensor, positive: torch.Tensor, negative: torch.Tensor) -> torch.Tensor:\n",
    "        distance_positive = self.calc_euclidean(anchor, positive)\n",
    "        distance_negative = self.calc_euclidean(anchor, negative)\n",
    "        losses = torch.relu(distance_positive - distance_negative + self.margin)\n",
    "\n",
    "        return losses.mean()"
   ]
  },
  {
   "cell_type": "code",
   "execution_count": 73,
   "id": "bf172749",
   "metadata": {},
   "outputs": [
    {
     "data": {
      "application/vnd.jupyter.widget-view+json": {
       "model_id": "89474a341d334685a3a94412254ac0ac",
       "version_major": 2,
       "version_minor": 0
      },
      "text/plain": [
       "Epochs:   0%|          | 0/1 [00:00<?, ?it/s]"
      ]
     },
     "metadata": {},
     "output_type": "display_data"
    }
   ],
   "source": [
    "from tqdm.notebook import tqdm\n",
    "\n",
    "def tokenize_code(code):\n",
    "    nl_tokens = tokenizer.tokenize(\"\")\n",
    "    code_tokens = tokenizer.tokenize(code)\n",
    "    tokens = [tokenizer.cls_token]+nl_tokens+[tokenizer.sep_token]+code_tokens+[tokenizer.sep_token]\n",
    "    tokens_ids = tokenizer.convert_tokens_to_ids(tokens)\n",
    "    return torch.tensor(tokens_ids)[None,:]\n",
    "\n",
    "epochs = 1\n",
    "data = [(\"def returnInt() -> <mask>:\", \"def calcInt() -> <mask>:\",\"def returnFloat() -> <mask>:\", \"int\")]\n",
    "\n",
    "optimizer = torch.optim.Adam(custom_model.parameters(), lr=0.001)\n",
    "criterion = torch.jit.script(TripletLoss())\n",
    "\n",
    "for epoch in tqdm(range(epochs), desc=\"Epochs\"):\n",
    "    custom_model.train()\n",
    "    running_loss = []\n",
    "    for step, (t_a, t_p, t_n, anchor_label) in enumerate(data):\n",
    "        \n",
    "        optimizer.zero_grad()\n",
    "        anchor_out = custom_model(tokenize_code(t_a))\n",
    "        positive_out = custom_model(tokenize_code(t_p))\n",
    "        negative_out = custom_model(tokenize_code(t_n))\n",
    "        \n",
    "        loss = criterion(anchor_out[0], positive_out[0], negative_out[0])\n",
    "        loss.backward()\n",
    "        optimizer.step()"
   ]
  },
  {
   "cell_type": "code",
   "execution_count": 74,
   "id": "2ec5e128",
   "metadata": {},
   "outputs": [
    {
     "data": {
      "text/plain": [
       "[{'score': 0.9997450709342957,\n",
       "  'token': 4,\n",
       "  'token_str': '.',\n",
       "  'sequence': 'def returnInt() ->.:'},\n",
       " {'score': 0.00016059390327427536,\n",
       "  'token': 2,\n",
       "  'token_str': '</s>',\n",
       "  'sequence': 'def returnInt() ->:'},\n",
       " {'score': 5.0995793571928516e-05,\n",
       "  'token': 1,\n",
       "  'token_str': '<pad>',\n",
       "  'sequence': 'def returnInt() ->:'},\n",
       " {'score': 4.3344498408259824e-05,\n",
       "  'token': 0,\n",
       "  'token_str': '<s>',\n",
       "  'sequence': 'def returnInt() ->:'},\n",
       " {'score': 3.261212372200617e-15,\n",
       "  'token': 3,\n",
       "  'token_str': '<unk>',\n",
       "  'sequence': 'def returnInt() ->:'}]"
      ]
     },
     "execution_count": 74,
     "metadata": {},
     "output_type": "execute_result"
    }
   ],
   "source": [
    "fill_mask = pipeline('fill-mask', model=custom_model, tokenizer=tokenizer)\n",
    "\n",
    "outputs = fill_mask(CODE)\n",
    "outputs"
   ]
  },
  {
   "cell_type": "code",
   "execution_count": 75,
   "id": "c35cbd86",
   "metadata": {},
   "outputs": [],
   "source": [
    "import numpy as np\n",
    "from annoy import AnnoyIndex\n",
    "from torch.utils.data import DataLoader\n",
    "import random\n",
    "\n",
    "DEVICE = torch.device('cuda' if torch.cuda.is_available() else 'cpu')\n",
    "KNN_TREE_SIZE = 20\n",
    "\n",
    "def compute_validation_loss_dsl():\n",
    "    with torch.no_grad():\n",
    "        # model.eval()\n",
    "        computed_embed_batches_train = []\n",
    "        computed_embed_labels_train = []\n",
    "        # for step, (t_a, t_p, t_n, anchor_label) in enumerate(DataLoader(data)):\n",
    "        output = custom_model.forward(torch.tensor(tokens_ids)[None,:])\n",
    "        computed_embed_batches_train.append(output.logits.cpu().numpy())\n",
    "        # computed_embed_labels_train.append(t_a[1].logits.cpu().numpy())\n",
    "             \n",
    "        annoy_index = create_knn_index(np.vstack(computed_embed_batches_train), None, computed_embed_batches_train[0].shape[1])\n",
    "    return annoy_index\n",
    "\n",
    "def create_knn_index(train_types_embed: np.array, valid_types_embed: np.array, type_embed_dim:int) -> AnnoyIndex:\n",
    "    \"\"\"\n",
    "    Creates KNNs index for given type embedding vectors, taken from Type4Py\n",
    "    \"\"\"\n",
    "\n",
    "    annoy_idx = AnnoyIndex(type_embed_dim, 'euclidean')\n",
    "\n",
    "    for i, v in enumerate(tqdm(train_types_embed, total=len(train_types_embed),\n",
    "                          desc=\"KNN index\")):\n",
    "        for l in v:\n",
    "            annoy_idx.add_item(i, l)\n",
    "\n",
    "    # if valid_types_embed is not None:\n",
    "    #     for i, v in enumerate(valid_types_embed):\n",
    "    #         annoy_idx.add_item(len(train_types_embed) + i, v)\n",
    "\n",
    "    annoy_idx.build(KNN_TREE_SIZE)\n",
    "    return annoy_idx\n"
   ]
  },
  {
   "cell_type": "code",
   "execution_count": 78,
   "id": "8ac93ac1",
   "metadata": {},
   "outputs": [
    {
     "data": {
      "application/vnd.jupyter.widget-view+json": {
       "model_id": "56bbbb3b650045399ba8266f5ad690f4",
       "version_major": 2,
       "version_minor": 0
      },
      "text/plain": [
       "KNN index:   0%|          | 0/1 [00:00<?, ?it/s]"
      ]
     },
     "metadata": {},
     "output_type": "display_data"
    },
    {
     "name": "stdout",
     "output_type": "stream",
     "text": [
      "<annoy.Annoy object at 0x7fa5dc9d43f0>\n"
     ]
    }
   ],
   "source": [
    "annoy_idx = compute_validation_loss_dsl()\n",
    "print(annoy_idx)"
   ]
  },
  {
   "cell_type": "code",
   "execution_count": 87,
   "id": "113df0f0",
   "metadata": {},
   "outputs": [
    {
     "name": "stdout",
     "output_type": "stream",
     "text": [
      "MaskedLMOutput(loss=None, logits=tensor([[[ 0.7088, -3.2723,  1.4179, -2.5493, -0.4054, -0.8069,  0.2873,\n",
      "           1.0417],\n",
      "         [ 1.1670, -2.6667,  0.7293, -3.0402, -0.1084, -0.4715,  1.1692,\n",
      "           0.5224],\n",
      "         [ 0.9119, -2.8948,  0.7886, -2.1832,  0.1219, -0.0357,  0.6262,\n",
      "           1.2775],\n",
      "         [ 1.1808, -3.3710,  0.9670, -2.4556,  0.1107,  0.0985,  0.6259,\n",
      "           1.1026],\n",
      "         [ 1.1007, -3.1372,  1.5742, -2.8584,  0.1584, -0.8895,  0.8356,\n",
      "           1.2035],\n",
      "         [ 0.4043, -3.0784,  0.9782, -2.8364,  0.8008, -0.8753,  0.5216,\n",
      "           0.9065],\n",
      "         [ 0.9808, -3.5654,  1.2455, -2.2411,  0.0260, -0.9857,  0.3142,\n",
      "           0.9441],\n",
      "         [ 1.1272, -3.4024,  0.4743, -3.0634,  0.8844, -0.4214,  0.6487,\n",
      "           0.5105]]]), hidden_states=None, attentions=None)\n",
      "[3, 3]\n"
     ]
    },
    {
     "data": {
      "application/vnd.jupyter.widget-view+json": {
       "model_id": "561b6db017454ceaaf7f75b960120eb0",
       "version_major": 2,
       "version_minor": 0
      },
      "text/plain": [
       "Finding KNNs & Prediction:   0%|          | 0/1 [00:00<?, ?it/s]"
      ]
     },
     "metadata": {},
     "output_type": "display_data"
    },
    {
     "name": "stdout",
     "output_type": "stream",
     "text": [
      "[[3], [3], [3], [3], [3], [3], [3], [3]]\n",
      "[[(3, 1.0)], [(3, 1.0)], [(3, 1.0)], [(3, 1.0)], [(3, 1.0)], [(3, 1.0)], [(3, 1.0)], [(3, 1.0)]]\n"
     ]
    }
   ],
   "source": [
    "from collections import defaultdict\n",
    "\n",
    "def get_test_embedding():\n",
    "    with torch.no_grad():\n",
    "        nl_tokens=tokenizer.tokenize(\"\")\n",
    "        code_tokens=tokenizer.tokenize(\"def returnInt() ->\")\n",
    "        tokens=[tokenizer.cls_token]+nl_tokens+[tokenizer.sep_token]+code_tokens+[tokenizer.sep_token]\n",
    "        tokens_ids=tokenizer.convert_tokens_to_ids(tokens)\n",
    "        computed_embed_batches_test = []\n",
    "        output = custom_model.forward(torch.tensor(tokens_ids)[None,:])\n",
    "        print(output)\n",
    "        computed_embed_batches_test.append(output.logits.cpu().numpy())\n",
    "        test_label = tokenizer.convert_tokens_to_ids(tokenizer(\"int\"))\n",
    "        print(test_label)\n",
    "        return computed_embed_batches_test, test_label\n",
    "\n",
    "def predict_type_embed(types_embed_array: np.array, types_embed_labels: np.array, indexed_knn: AnnoyIndex, k: int):\n",
    "    \"\"\"\n",
    "    Predict type of given type embedding vectors\n",
    "    \"\"\"\n",
    "\n",
    "    pred_types_embed = []\n",
    "    pred_types_score = []\n",
    "    for i, e in enumerate(tqdm(types_embed_array, total=len(types_embed_array), desc=\"Finding KNNs & Prediction\")):\n",
    "        for embed_vec in e:\n",
    "            idx, dist = indexed_knn.get_nns_by_vector(embed_vec, k, include_distances=True)\n",
    "            pred_idx_scores = compute_types_score(dist, idx, types_embed_labels)\n",
    "            pred_types_embed.append([i for i, s in pred_idx_scores])\n",
    "            pred_types_score.append(pred_idx_scores)\n",
    "    \n",
    "    return pred_types_embed, pred_types_score\n",
    "\n",
    "def compute_types_score(types_dist: list, types_idx: list, types_embed_labels: np.array):\n",
    "        types_dist = 1 / (np.array(types_dist) + 1e-10) ** 2\n",
    "        types_dist /= np.sum(types_dist)\n",
    "        types_score = defaultdict(int)\n",
    "        for n, d in zip(types_idx, types_dist):\n",
    "            types_score[types_embed_labels[n]] += d\n",
    "        \n",
    "        return sorted({t: s for t, s in types_score.items()}.items(), key=lambda kv: kv[1], reverse=True)\n",
    "    \n",
    "types_embed_array, types_embed_labels = get_test_embedding()\n",
    "pred_type_embed, pred_type_score = predict_type_embed(np.vstack(types_embed_array), types_embed_labels, annoy_idx, 8)\n",
    "print(pred_type_embed)\n",
    "print(pred_type_score)"
   ]
  }
 ],
 "metadata": {
  "kernelspec": {
   "display_name": "Python 3.10.6 ('venv': venv)",
   "language": "python",
   "name": "python3"
  },
  "language_info": {
   "codemirror_mode": {
    "name": "ipython",
    "version": 3
   },
   "file_extension": ".py",
   "mimetype": "text/x-python",
   "name": "python",
   "nbconvert_exporter": "python",
   "pygments_lexer": "ipython3",
   "version": "3.10.6"
  },
  "vscode": {
   "interpreter": {
    "hash": "b898463808f7de9d8eed8bf188ff18ea42a72c5d898f7e9a1365e818ae4a9ee4"
   }
  }
 },
 "nbformat": 4,
 "nbformat_minor": 5
}
