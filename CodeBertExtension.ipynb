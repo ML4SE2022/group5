{
 "cells": [
  {
   "cell_type": "code",
   "execution_count": 25,
   "id": "cf88f09a",
   "metadata": {},
   "outputs": [
    {
     "data": {
      "application/vnd.jupyter.widget-view+json": {
       "model_id": "0b02a9593e5c4801bf57f107b3ae0c7b",
       "version_major": 2,
       "version_minor": 0
      },
      "text/plain": [
       "Downloading data files:   0%|          | 0/1 [00:00<?, ?it/s]"
      ]
     },
     "metadata": {},
     "output_type": "display_data"
    },
    {
     "data": {
      "application/vnd.jupyter.widget-view+json": {
       "model_id": "780ddc95d2cd4e6d85c392bdc3d3e8fc",
       "version_major": 2,
       "version_minor": 0
      },
      "text/plain": [
       "Extracting data files:   0%|          | 0/1 [00:00<?, ?it/s]"
      ]
     },
     "metadata": {},
     "output_type": "display_data"
    },
    {
     "name": "stderr",
     "output_type": "stream",
     "text": [
      "Found cached dataset many_types4_type_script (/home/rover/.cache/huggingface/datasets/many_types4_type_script/ManyTypes4TypeScript/1.0.0/f87845becfdb639f5c328d25ec0bba30e959da6024bdbe0575b34d62aa7f188d)\n"
     ]
    },
    {
     "data": {
      "application/vnd.jupyter.widget-view+json": {
       "model_id": "1f8f268c8160471384eeb113f823f4df",
       "version_major": 2,
       "version_minor": 0
      },
      "text/plain": [
       "  0%|          | 0/3 [00:00<?, ?it/s]"
      ]
     },
     "metadata": {},
     "output_type": "display_data"
    },
    {
     "data": {
      "application/vnd.jupyter.widget-view+json": {
       "model_id": "64194edc49a64567a11f440431c4694b",
       "version_major": 2,
       "version_minor": 0
      },
      "text/plain": [
       "Downloading:   0%|          | 0.00/25.0 [00:00<?, ?B/s]"
      ]
     },
     "metadata": {},
     "output_type": "display_data"
    },
    {
     "data": {
      "application/vnd.jupyter.widget-view+json": {
       "model_id": "b08ce5cf123a47eb91bd357a1c2bf1bb",
       "version_major": 2,
       "version_minor": 0
      },
      "text/plain": [
       "Downloading:   0%|          | 0.00/899k [00:00<?, ?B/s]"
      ]
     },
     "metadata": {},
     "output_type": "display_data"
    },
    {
     "data": {
      "application/vnd.jupyter.widget-view+json": {
       "model_id": "f0060eb070844de0b67c31902ad27734",
       "version_major": 2,
       "version_minor": 0
      },
      "text/plain": [
       "Downloading:   0%|          | 0.00/456k [00:00<?, ?B/s]"
      ]
     },
     "metadata": {},
     "output_type": "display_data"
    },
    {
     "data": {
      "application/vnd.jupyter.widget-view+json": {
       "model_id": "46110c9de37d4c938d724d2dca2ff141",
       "version_major": 2,
       "version_minor": 0
      },
      "text/plain": [
       "Downloading:   0%|          | 0.00/150 [00:00<?, ?B/s]"
      ]
     },
     "metadata": {},
     "output_type": "display_data"
    },
    {
     "data": {
      "application/vnd.jupyter.widget-view+json": {
       "model_id": "07e038a4d0534b5db344624a9f715898",
       "version_major": 2,
       "version_minor": 0
      },
      "text/plain": [
       "Downloading:   0%|          | 0.00/498 [00:00<?, ?B/s]"
      ]
     },
     "metadata": {},
     "output_type": "display_data"
    },
    {
     "data": {
      "application/vnd.jupyter.widget-view+json": {
       "model_id": "e326becbde34499bbff2c8dacf914131",
       "version_major": 2,
       "version_minor": 0
      },
      "text/plain": [
       "Downloading:   0%|          | 0.00/499M [00:00<?, ?B/s]"
      ]
     },
     "metadata": {},
     "output_type": "display_data"
    }
   ],
   "source": [
    "from torch.utils.data.dataloader import DataLoader\n",
    "from datasets import load_dataset\n",
    "from transformers import RobertaTokenizerFast, RobertaModel\n",
    "\n",
    "# Uncomment if you want to download the full dataset from hugging face\n",
    "#dataset = load_dataset ( ' kevinjesse /ManyTypes4TypeScript ')\n",
    "\n",
    "#load the small selected local dataset using the py script \n",
    "dataset = load_dataset('ManyTypes4TypeScript.py', ignore_verifications=True)\n",
    "\n",
    "#fast tokenizer for roberta - please stick to the fast one or expect bugs and slowdown\n",
    "tokenizer = RobertaTokenizerFast.from_pretrained(\"microsoft/codebert-base\", add_prefix_space=True)\n",
    "\n",
    "model = RobertaModel.from_pretrained(\"microsoft/codebert-base\")"
   ]
  },
  {
   "cell_type": "code",
   "execution_count": 3,
   "id": "feb0bfeb",
   "metadata": {},
   "outputs": [
    {
     "data": {
      "application/vnd.jupyter.widget-view+json": {
       "model_id": "1d8befe070c0466aa581c396bdf28da3",
       "version_major": 2,
       "version_minor": 0
      },
      "text/plain": [
       "  0%|          | 0/1 [00:00<?, ?ba/s]"
      ]
     },
     "metadata": {},
     "output_type": "display_data"
    },
    {
     "ename": "ValueError",
     "evalue": "Class label 50264 greater than configured num_classes 50001",
     "output_type": "error",
     "traceback": [
      "\u001b[0;31m---------------------------------------------------------------------------\u001b[0m",
      "\u001b[0;31mValueError\u001b[0m                                Traceback (most recent call last)",
      "Cell \u001b[0;32mIn [3], line 57\u001b[0m\n\u001b[1;32m     54\u001b[0m             inputs_new[\u001b[39m'\u001b[39m\u001b[39mmasked_label\u001b[39m\u001b[39m'\u001b[39m]\u001b[39m.\u001b[39mappend(mask_list[j])\n\u001b[1;32m     55\u001b[0m     \u001b[39mreturn\u001b[39;00m inputs_new\n\u001b[0;32m---> 57\u001b[0m maped_ds \u001b[39m=\u001b[39m dataset\u001b[39m.\u001b[39mmap(map_dataset, batched\u001b[39m=\u001b[39m\u001b[39mTrue\u001b[39;00m)\n",
      "File \u001b[0;32m~/Documents/ml4se/group5/venv/lib/python3.10/site-packages/datasets/dataset_dict.py:776\u001b[0m, in \u001b[0;36mDatasetDict.map\u001b[0;34m(self, function, with_indices, with_rank, input_columns, batched, batch_size, drop_last_batch, remove_columns, keep_in_memory, load_from_cache_file, cache_file_names, writer_batch_size, features, disable_nullable, fn_kwargs, num_proc, desc)\u001b[0m\n\u001b[1;32m    773\u001b[0m \u001b[39mif\u001b[39;00m cache_file_names \u001b[39mis\u001b[39;00m \u001b[39mNone\u001b[39;00m:\n\u001b[1;32m    774\u001b[0m     cache_file_names \u001b[39m=\u001b[39m {k: \u001b[39mNone\u001b[39;00m \u001b[39mfor\u001b[39;00m k \u001b[39min\u001b[39;00m \u001b[39mself\u001b[39m}\n\u001b[1;32m    775\u001b[0m \u001b[39mreturn\u001b[39;00m DatasetDict(\n\u001b[0;32m--> 776\u001b[0m     {\n\u001b[1;32m    777\u001b[0m         k: dataset\u001b[39m.\u001b[39mmap(\n\u001b[1;32m    778\u001b[0m             function\u001b[39m=\u001b[39mfunction,\n\u001b[1;32m    779\u001b[0m             with_indices\u001b[39m=\u001b[39mwith_indices,\n\u001b[1;32m    780\u001b[0m             with_rank\u001b[39m=\u001b[39mwith_rank,\n\u001b[1;32m    781\u001b[0m             input_columns\u001b[39m=\u001b[39minput_columns,\n\u001b[1;32m    782\u001b[0m             batched\u001b[39m=\u001b[39mbatched,\n\u001b[1;32m    783\u001b[0m             batch_size\u001b[39m=\u001b[39mbatch_size,\n\u001b[1;32m    784\u001b[0m             drop_last_batch\u001b[39m=\u001b[39mdrop_last_batch,\n\u001b[1;32m    785\u001b[0m             remove_columns\u001b[39m=\u001b[39mremove_columns,\n\u001b[1;32m    786\u001b[0m             keep_in_memory\u001b[39m=\u001b[39mkeep_in_memory,\n\u001b[1;32m    787\u001b[0m             load_from_cache_file\u001b[39m=\u001b[39mload_from_cache_file,\n\u001b[1;32m    788\u001b[0m             cache_file_name\u001b[39m=\u001b[39mcache_file_names[k],\n\u001b[1;32m    789\u001b[0m             writer_batch_size\u001b[39m=\u001b[39mwriter_batch_size,\n\u001b[1;32m    790\u001b[0m             features\u001b[39m=\u001b[39mfeatures,\n\u001b[1;32m    791\u001b[0m             disable_nullable\u001b[39m=\u001b[39mdisable_nullable,\n\u001b[1;32m    792\u001b[0m             fn_kwargs\u001b[39m=\u001b[39mfn_kwargs,\n\u001b[1;32m    793\u001b[0m             num_proc\u001b[39m=\u001b[39mnum_proc,\n\u001b[1;32m    794\u001b[0m             desc\u001b[39m=\u001b[39mdesc,\n\u001b[1;32m    795\u001b[0m         )\n\u001b[1;32m    796\u001b[0m         \u001b[39mfor\u001b[39;00m k, dataset \u001b[39min\u001b[39;00m \u001b[39mself\u001b[39m\u001b[39m.\u001b[39mitems()\n\u001b[1;32m    797\u001b[0m     }\n\u001b[1;32m    798\u001b[0m )\n",
      "File \u001b[0;32m~/Documents/ml4se/group5/venv/lib/python3.10/site-packages/datasets/dataset_dict.py:777\u001b[0m, in \u001b[0;36m<dictcomp>\u001b[0;34m(.0)\u001b[0m\n\u001b[1;32m    773\u001b[0m \u001b[39mif\u001b[39;00m cache_file_names \u001b[39mis\u001b[39;00m \u001b[39mNone\u001b[39;00m:\n\u001b[1;32m    774\u001b[0m     cache_file_names \u001b[39m=\u001b[39m {k: \u001b[39mNone\u001b[39;00m \u001b[39mfor\u001b[39;00m k \u001b[39min\u001b[39;00m \u001b[39mself\u001b[39m}\n\u001b[1;32m    775\u001b[0m \u001b[39mreturn\u001b[39;00m DatasetDict(\n\u001b[1;32m    776\u001b[0m     {\n\u001b[0;32m--> 777\u001b[0m         k: dataset\u001b[39m.\u001b[39;49mmap(\n\u001b[1;32m    778\u001b[0m             function\u001b[39m=\u001b[39;49mfunction,\n\u001b[1;32m    779\u001b[0m             with_indices\u001b[39m=\u001b[39;49mwith_indices,\n\u001b[1;32m    780\u001b[0m             with_rank\u001b[39m=\u001b[39;49mwith_rank,\n\u001b[1;32m    781\u001b[0m             input_columns\u001b[39m=\u001b[39;49minput_columns,\n\u001b[1;32m    782\u001b[0m             batched\u001b[39m=\u001b[39;49mbatched,\n\u001b[1;32m    783\u001b[0m             batch_size\u001b[39m=\u001b[39;49mbatch_size,\n\u001b[1;32m    784\u001b[0m             drop_last_batch\u001b[39m=\u001b[39;49mdrop_last_batch,\n\u001b[1;32m    785\u001b[0m             remove_columns\u001b[39m=\u001b[39;49mremove_columns,\n\u001b[1;32m    786\u001b[0m             keep_in_memory\u001b[39m=\u001b[39;49mkeep_in_memory,\n\u001b[1;32m    787\u001b[0m             load_from_cache_file\u001b[39m=\u001b[39;49mload_from_cache_file,\n\u001b[1;32m    788\u001b[0m             cache_file_name\u001b[39m=\u001b[39;49mcache_file_names[k],\n\u001b[1;32m    789\u001b[0m             writer_batch_size\u001b[39m=\u001b[39;49mwriter_batch_size,\n\u001b[1;32m    790\u001b[0m             features\u001b[39m=\u001b[39;49mfeatures,\n\u001b[1;32m    791\u001b[0m             disable_nullable\u001b[39m=\u001b[39;49mdisable_nullable,\n\u001b[1;32m    792\u001b[0m             fn_kwargs\u001b[39m=\u001b[39;49mfn_kwargs,\n\u001b[1;32m    793\u001b[0m             num_proc\u001b[39m=\u001b[39;49mnum_proc,\n\u001b[1;32m    794\u001b[0m             desc\u001b[39m=\u001b[39;49mdesc,\n\u001b[1;32m    795\u001b[0m         )\n\u001b[1;32m    796\u001b[0m         \u001b[39mfor\u001b[39;00m k, dataset \u001b[39min\u001b[39;00m \u001b[39mself\u001b[39m\u001b[39m.\u001b[39mitems()\n\u001b[1;32m    797\u001b[0m     }\n\u001b[1;32m    798\u001b[0m )\n",
      "File \u001b[0;32m~/Documents/ml4se/group5/venv/lib/python3.10/site-packages/datasets/arrow_dataset.py:2572\u001b[0m, in \u001b[0;36mDataset.map\u001b[0;34m(self, function, with_indices, with_rank, input_columns, batched, batch_size, drop_last_batch, remove_columns, keep_in_memory, load_from_cache_file, cache_file_name, writer_batch_size, features, disable_nullable, fn_kwargs, num_proc, suffix_template, new_fingerprint, desc)\u001b[0m\n\u001b[1;32m   2569\u001b[0m disable_tqdm \u001b[39m=\u001b[39m \u001b[39mnot\u001b[39;00m logging\u001b[39m.\u001b[39mis_progress_bar_enabled()\n\u001b[1;32m   2571\u001b[0m \u001b[39mif\u001b[39;00m num_proc \u001b[39mis\u001b[39;00m \u001b[39mNone\u001b[39;00m \u001b[39mor\u001b[39;00m num_proc \u001b[39m==\u001b[39m \u001b[39m1\u001b[39m:\n\u001b[0;32m-> 2572\u001b[0m     \u001b[39mreturn\u001b[39;00m \u001b[39mself\u001b[39;49m\u001b[39m.\u001b[39;49m_map_single(\n\u001b[1;32m   2573\u001b[0m         function\u001b[39m=\u001b[39;49mfunction,\n\u001b[1;32m   2574\u001b[0m         with_indices\u001b[39m=\u001b[39;49mwith_indices,\n\u001b[1;32m   2575\u001b[0m         with_rank\u001b[39m=\u001b[39;49mwith_rank,\n\u001b[1;32m   2576\u001b[0m         input_columns\u001b[39m=\u001b[39;49minput_columns,\n\u001b[1;32m   2577\u001b[0m         batched\u001b[39m=\u001b[39;49mbatched,\n\u001b[1;32m   2578\u001b[0m         batch_size\u001b[39m=\u001b[39;49mbatch_size,\n\u001b[1;32m   2579\u001b[0m         drop_last_batch\u001b[39m=\u001b[39;49mdrop_last_batch,\n\u001b[1;32m   2580\u001b[0m         remove_columns\u001b[39m=\u001b[39;49mremove_columns,\n\u001b[1;32m   2581\u001b[0m         keep_in_memory\u001b[39m=\u001b[39;49mkeep_in_memory,\n\u001b[1;32m   2582\u001b[0m         load_from_cache_file\u001b[39m=\u001b[39;49mload_from_cache_file,\n\u001b[1;32m   2583\u001b[0m         cache_file_name\u001b[39m=\u001b[39;49mcache_file_name,\n\u001b[1;32m   2584\u001b[0m         writer_batch_size\u001b[39m=\u001b[39;49mwriter_batch_size,\n\u001b[1;32m   2585\u001b[0m         features\u001b[39m=\u001b[39;49mfeatures,\n\u001b[1;32m   2586\u001b[0m         disable_nullable\u001b[39m=\u001b[39;49mdisable_nullable,\n\u001b[1;32m   2587\u001b[0m         fn_kwargs\u001b[39m=\u001b[39;49mfn_kwargs,\n\u001b[1;32m   2588\u001b[0m         new_fingerprint\u001b[39m=\u001b[39;49mnew_fingerprint,\n\u001b[1;32m   2589\u001b[0m         disable_tqdm\u001b[39m=\u001b[39;49mdisable_tqdm,\n\u001b[1;32m   2590\u001b[0m         desc\u001b[39m=\u001b[39;49mdesc,\n\u001b[1;32m   2591\u001b[0m     )\n\u001b[1;32m   2592\u001b[0m \u001b[39melse\u001b[39;00m:\n\u001b[1;32m   2594\u001b[0m     \u001b[39mdef\u001b[39;00m \u001b[39mformat_cache_file_name\u001b[39m(cache_file_name, rank):\n",
      "File \u001b[0;32m~/Documents/ml4se/group5/venv/lib/python3.10/site-packages/datasets/arrow_dataset.py:584\u001b[0m, in \u001b[0;36mtransmit_tasks.<locals>.wrapper\u001b[0;34m(*args, **kwargs)\u001b[0m\n\u001b[1;32m    582\u001b[0m     \u001b[39mself\u001b[39m: \u001b[39m\"\u001b[39m\u001b[39mDataset\u001b[39m\u001b[39m\"\u001b[39m \u001b[39m=\u001b[39m kwargs\u001b[39m.\u001b[39mpop(\u001b[39m\"\u001b[39m\u001b[39mself\u001b[39m\u001b[39m\"\u001b[39m)\n\u001b[1;32m    583\u001b[0m \u001b[39m# apply actual function\u001b[39;00m\n\u001b[0;32m--> 584\u001b[0m out: Union[\u001b[39m\"\u001b[39m\u001b[39mDataset\u001b[39m\u001b[39m\"\u001b[39m, \u001b[39m\"\u001b[39m\u001b[39mDatasetDict\u001b[39m\u001b[39m\"\u001b[39m] \u001b[39m=\u001b[39m func(\u001b[39mself\u001b[39;49m, \u001b[39m*\u001b[39;49margs, \u001b[39m*\u001b[39;49m\u001b[39m*\u001b[39;49mkwargs)\n\u001b[1;32m    585\u001b[0m datasets: List[\u001b[39m\"\u001b[39m\u001b[39mDataset\u001b[39m\u001b[39m\"\u001b[39m] \u001b[39m=\u001b[39m \u001b[39mlist\u001b[39m(out\u001b[39m.\u001b[39mvalues()) \u001b[39mif\u001b[39;00m \u001b[39misinstance\u001b[39m(out, \u001b[39mdict\u001b[39m) \u001b[39melse\u001b[39;00m [out]\n\u001b[1;32m    586\u001b[0m \u001b[39mfor\u001b[39;00m dataset \u001b[39min\u001b[39;00m datasets:\n\u001b[1;32m    587\u001b[0m     \u001b[39m# Remove task templates if a column mapping of the template is no longer valid\u001b[39;00m\n",
      "File \u001b[0;32m~/Documents/ml4se/group5/venv/lib/python3.10/site-packages/datasets/arrow_dataset.py:551\u001b[0m, in \u001b[0;36mtransmit_format.<locals>.wrapper\u001b[0;34m(*args, **kwargs)\u001b[0m\n\u001b[1;32m    544\u001b[0m self_format \u001b[39m=\u001b[39m {\n\u001b[1;32m    545\u001b[0m     \u001b[39m\"\u001b[39m\u001b[39mtype\u001b[39m\u001b[39m\"\u001b[39m: \u001b[39mself\u001b[39m\u001b[39m.\u001b[39m_format_type,\n\u001b[1;32m    546\u001b[0m     \u001b[39m\"\u001b[39m\u001b[39mformat_kwargs\u001b[39m\u001b[39m\"\u001b[39m: \u001b[39mself\u001b[39m\u001b[39m.\u001b[39m_format_kwargs,\n\u001b[1;32m    547\u001b[0m     \u001b[39m\"\u001b[39m\u001b[39mcolumns\u001b[39m\u001b[39m\"\u001b[39m: \u001b[39mself\u001b[39m\u001b[39m.\u001b[39m_format_columns,\n\u001b[1;32m    548\u001b[0m     \u001b[39m\"\u001b[39m\u001b[39moutput_all_columns\u001b[39m\u001b[39m\"\u001b[39m: \u001b[39mself\u001b[39m\u001b[39m.\u001b[39m_output_all_columns,\n\u001b[1;32m    549\u001b[0m }\n\u001b[1;32m    550\u001b[0m \u001b[39m# apply actual function\u001b[39;00m\n\u001b[0;32m--> 551\u001b[0m out: Union[\u001b[39m\"\u001b[39m\u001b[39mDataset\u001b[39m\u001b[39m\"\u001b[39m, \u001b[39m\"\u001b[39m\u001b[39mDatasetDict\u001b[39m\u001b[39m\"\u001b[39m] \u001b[39m=\u001b[39m func(\u001b[39mself\u001b[39;49m, \u001b[39m*\u001b[39;49margs, \u001b[39m*\u001b[39;49m\u001b[39m*\u001b[39;49mkwargs)\n\u001b[1;32m    552\u001b[0m datasets: List[\u001b[39m\"\u001b[39m\u001b[39mDataset\u001b[39m\u001b[39m\"\u001b[39m] \u001b[39m=\u001b[39m \u001b[39mlist\u001b[39m(out\u001b[39m.\u001b[39mvalues()) \u001b[39mif\u001b[39;00m \u001b[39misinstance\u001b[39m(out, \u001b[39mdict\u001b[39m) \u001b[39melse\u001b[39;00m [out]\n\u001b[1;32m    553\u001b[0m \u001b[39m# re-apply format to the output\u001b[39;00m\n",
      "File \u001b[0;32m~/Documents/ml4se/group5/venv/lib/python3.10/site-packages/datasets/fingerprint.py:480\u001b[0m, in \u001b[0;36mfingerprint_transform.<locals>._fingerprint.<locals>.wrapper\u001b[0;34m(*args, **kwargs)\u001b[0m\n\u001b[1;32m    476\u001b[0m             validate_fingerprint(kwargs[fingerprint_name])\n\u001b[1;32m    478\u001b[0m \u001b[39m# Call actual function\u001b[39;00m\n\u001b[0;32m--> 480\u001b[0m out \u001b[39m=\u001b[39m func(\u001b[39mself\u001b[39;49m, \u001b[39m*\u001b[39;49margs, \u001b[39m*\u001b[39;49m\u001b[39m*\u001b[39;49mkwargs)\n\u001b[1;32m    482\u001b[0m \u001b[39m# Update fingerprint of in-place transforms + update in-place history of transforms\u001b[39;00m\n\u001b[1;32m    484\u001b[0m \u001b[39mif\u001b[39;00m inplace:  \u001b[39m# update after calling func so that the fingerprint doesn't change if the function fails\u001b[39;00m\n",
      "File \u001b[0;32m~/Documents/ml4se/group5/venv/lib/python3.10/site-packages/datasets/arrow_dataset.py:2985\u001b[0m, in \u001b[0;36mDataset._map_single\u001b[0;34m(self, function, with_indices, with_rank, input_columns, batched, batch_size, drop_last_batch, remove_columns, keep_in_memory, load_from_cache_file, cache_file_name, writer_batch_size, features, disable_nullable, fn_kwargs, new_fingerprint, rank, offset, disable_tqdm, desc, cache_only)\u001b[0m\n\u001b[1;32m   2983\u001b[0m                 writer\u001b[39m.\u001b[39mwrite_table(batch)\n\u001b[1;32m   2984\u001b[0m             \u001b[39melse\u001b[39;00m:\n\u001b[0;32m-> 2985\u001b[0m                 writer\u001b[39m.\u001b[39;49mwrite_batch(batch)\n\u001b[1;32m   2986\u001b[0m \u001b[39mif\u001b[39;00m update_data \u001b[39mand\u001b[39;00m writer \u001b[39mis\u001b[39;00m \u001b[39mnot\u001b[39;00m \u001b[39mNone\u001b[39;00m:\n\u001b[1;32m   2987\u001b[0m     writer\u001b[39m.\u001b[39mfinalize()  \u001b[39m# close_stream=bool(buf_writer is None))  # We only close if we are writing in a file\u001b[39;00m\n",
      "File \u001b[0;32m~/Documents/ml4se/group5/venv/lib/python3.10/site-packages/datasets/arrow_writer.py:524\u001b[0m, in \u001b[0;36mArrowWriter.write_batch\u001b[0;34m(self, batch_examples, writer_batch_size)\u001b[0m\n\u001b[1;32m    522\u001b[0m     col_try_type \u001b[39m=\u001b[39m try_features[col] \u001b[39mif\u001b[39;00m try_features \u001b[39mis\u001b[39;00m \u001b[39mnot\u001b[39;00m \u001b[39mNone\u001b[39;00m \u001b[39mand\u001b[39;00m col \u001b[39min\u001b[39;00m try_features \u001b[39melse\u001b[39;00m \u001b[39mNone\u001b[39;00m\n\u001b[1;32m    523\u001b[0m     typed_sequence \u001b[39m=\u001b[39m OptimizedTypedSequence(batch_examples[col], \u001b[39mtype\u001b[39m\u001b[39m=\u001b[39mcol_type, try_type\u001b[39m=\u001b[39mcol_try_type, col\u001b[39m=\u001b[39mcol)\n\u001b[0;32m--> 524\u001b[0m     arrays\u001b[39m.\u001b[39mappend(pa\u001b[39m.\u001b[39;49marray(typed_sequence))\n\u001b[1;32m    525\u001b[0m     inferred_features[col] \u001b[39m=\u001b[39m typed_sequence\u001b[39m.\u001b[39mget_inferred_type()\n\u001b[1;32m    526\u001b[0m schema \u001b[39m=\u001b[39m inferred_features\u001b[39m.\u001b[39marrow_schema \u001b[39mif\u001b[39;00m \u001b[39mself\u001b[39m\u001b[39m.\u001b[39mpa_writer \u001b[39mis\u001b[39;00m \u001b[39mNone\u001b[39;00m \u001b[39melse\u001b[39;00m \u001b[39mself\u001b[39m\u001b[39m.\u001b[39mschema\n",
      "File \u001b[0;32m~/Documents/ml4se/group5/venv/lib/python3.10/site-packages/pyarrow/array.pxi:231\u001b[0m, in \u001b[0;36mpyarrow.lib.array\u001b[0;34m()\u001b[0m\n",
      "File \u001b[0;32m~/Documents/ml4se/group5/venv/lib/python3.10/site-packages/pyarrow/array.pxi:110\u001b[0m, in \u001b[0;36mpyarrow.lib._handle_arrow_array_protocol\u001b[0;34m()\u001b[0m\n",
      "File \u001b[0;32m~/Documents/ml4se/group5/venv/lib/python3.10/site-packages/datasets/arrow_writer.py:200\u001b[0m, in \u001b[0;36mTypedSequence.__arrow_array__\u001b[0;34m(self, type)\u001b[0m\n\u001b[1;32m    195\u001b[0m     \u001b[39m# otherwise we can finally use the user's type\u001b[39;00m\n\u001b[1;32m    196\u001b[0m     \u001b[39melif\u001b[39;00m \u001b[39mtype\u001b[39m \u001b[39mis\u001b[39;00m \u001b[39mnot\u001b[39;00m \u001b[39mNone\u001b[39;00m:\n\u001b[1;32m    197\u001b[0m         \u001b[39m# We use cast_array_to_feature to support casting to custom types like Audio and Image\u001b[39;00m\n\u001b[1;32m    198\u001b[0m         \u001b[39m# Also, when trying type \"string\", we don't want to convert integers or floats to \"string\".\u001b[39;00m\n\u001b[1;32m    199\u001b[0m         \u001b[39m# We only do it if trying_type is False - since this is what the user asks for.\u001b[39;00m\n\u001b[0;32m--> 200\u001b[0m         out \u001b[39m=\u001b[39m cast_array_to_feature(out, \u001b[39mtype\u001b[39;49m, allow_number_to_str\u001b[39m=\u001b[39;49m\u001b[39mnot\u001b[39;49;00m \u001b[39mself\u001b[39;49m\u001b[39m.\u001b[39;49mtrying_type)\n\u001b[1;32m    201\u001b[0m     \u001b[39mreturn\u001b[39;00m out\n\u001b[1;32m    202\u001b[0m \u001b[39mexcept\u001b[39;00m (\u001b[39mTypeError\u001b[39;00m, pa\u001b[39m.\u001b[39mlib\u001b[39m.\u001b[39mArrowInvalid) \u001b[39mas\u001b[39;00m e:  \u001b[39m# handle type errors and overflows\u001b[39;00m\n",
      "File \u001b[0;32m~/Documents/ml4se/group5/venv/lib/python3.10/site-packages/datasets/table.py:1742\u001b[0m, in \u001b[0;36m_wrap_for_chunked_arrays.<locals>.wrapper\u001b[0;34m(array, *args, **kwargs)\u001b[0m\n\u001b[1;32m   1740\u001b[0m     \u001b[39mreturn\u001b[39;00m pa\u001b[39m.\u001b[39mchunked_array([func(chunk, \u001b[39m*\u001b[39margs, \u001b[39m*\u001b[39m\u001b[39m*\u001b[39mkwargs) \u001b[39mfor\u001b[39;00m chunk \u001b[39min\u001b[39;00m array\u001b[39m.\u001b[39mchunks])\n\u001b[1;32m   1741\u001b[0m \u001b[39melse\u001b[39;00m:\n\u001b[0;32m-> 1742\u001b[0m     \u001b[39mreturn\u001b[39;00m func(array, \u001b[39m*\u001b[39;49margs, \u001b[39m*\u001b[39;49m\u001b[39m*\u001b[39;49mkwargs)\n",
      "File \u001b[0;32m~/Documents/ml4se/group5/venv/lib/python3.10/site-packages/datasets/table.py:1881\u001b[0m, in \u001b[0;36mcast_array_to_feature\u001b[0;34m(array, feature, allow_number_to_str)\u001b[0m\n\u001b[1;32m   1879\u001b[0m         \u001b[39mreturn\u001b[39;00m pa\u001b[39m.\u001b[39mFixedSizeListArray\u001b[39m.\u001b[39mfrom_arrays(_c(array\u001b[39m.\u001b[39mvalues, feature\u001b[39m.\u001b[39mfeature), feature\u001b[39m.\u001b[39mlength)\n\u001b[1;32m   1880\u001b[0m \u001b[39melse\u001b[39;00m:\n\u001b[0;32m-> 1881\u001b[0m     casted_values \u001b[39m=\u001b[39m _c(array\u001b[39m.\u001b[39;49mvalues, feature\u001b[39m.\u001b[39;49mfeature)\n\u001b[1;32m   1882\u001b[0m     \u001b[39mif\u001b[39;00m casted_values\u001b[39m.\u001b[39mtype \u001b[39m==\u001b[39m array\u001b[39m.\u001b[39mvalues\u001b[39m.\u001b[39mtype:\n\u001b[1;32m   1883\u001b[0m         \u001b[39mreturn\u001b[39;00m array\n",
      "File \u001b[0;32m~/Documents/ml4se/group5/venv/lib/python3.10/site-packages/datasets/table.py:1742\u001b[0m, in \u001b[0;36m_wrap_for_chunked_arrays.<locals>.wrapper\u001b[0;34m(array, *args, **kwargs)\u001b[0m\n\u001b[1;32m   1740\u001b[0m     \u001b[39mreturn\u001b[39;00m pa\u001b[39m.\u001b[39mchunked_array([func(chunk, \u001b[39m*\u001b[39margs, \u001b[39m*\u001b[39m\u001b[39m*\u001b[39mkwargs) \u001b[39mfor\u001b[39;00m chunk \u001b[39min\u001b[39;00m array\u001b[39m.\u001b[39mchunks])\n\u001b[1;32m   1741\u001b[0m \u001b[39melse\u001b[39;00m:\n\u001b[0;32m-> 1742\u001b[0m     \u001b[39mreturn\u001b[39;00m func(array, \u001b[39m*\u001b[39;49margs, \u001b[39m*\u001b[39;49m\u001b[39m*\u001b[39;49mkwargs)\n",
      "File \u001b[0;32m~/Documents/ml4se/group5/venv/lib/python3.10/site-packages/datasets/table.py:1854\u001b[0m, in \u001b[0;36mcast_array_to_feature\u001b[0;34m(array, feature, allow_number_to_str)\u001b[0m\n\u001b[1;32m   1852\u001b[0m     array \u001b[39m=\u001b[39m array\u001b[39m.\u001b[39mstorage\n\u001b[1;32m   1853\u001b[0m \u001b[39mif\u001b[39;00m \u001b[39mhasattr\u001b[39m(feature, \u001b[39m\"\u001b[39m\u001b[39mcast_storage\u001b[39m\u001b[39m\"\u001b[39m):\n\u001b[0;32m-> 1854\u001b[0m     \u001b[39mreturn\u001b[39;00m feature\u001b[39m.\u001b[39;49mcast_storage(array)\n\u001b[1;32m   1855\u001b[0m \u001b[39melif\u001b[39;00m pa\u001b[39m.\u001b[39mtypes\u001b[39m.\u001b[39mis_struct(array\u001b[39m.\u001b[39mtype):\n\u001b[1;32m   1856\u001b[0m     \u001b[39m# feature must be a dict or Sequence(subfeatures_dict)\u001b[39;00m\n\u001b[1;32m   1857\u001b[0m     \u001b[39mif\u001b[39;00m \u001b[39misinstance\u001b[39m(feature, Sequence) \u001b[39mand\u001b[39;00m \u001b[39misinstance\u001b[39m(feature\u001b[39m.\u001b[39mfeature, \u001b[39mdict\u001b[39m):\n",
      "File \u001b[0;32m~/Documents/ml4se/group5/venv/lib/python3.10/site-packages/datasets/features/features.py:1039\u001b[0m, in \u001b[0;36mClassLabel.cast_storage\u001b[0;34m(self, storage)\u001b[0m\n\u001b[1;32m   1037\u001b[0m     min_max \u001b[39m=\u001b[39m pc\u001b[39m.\u001b[39mmin_max(storage)\u001b[39m.\u001b[39mas_py()\n\u001b[1;32m   1038\u001b[0m     \u001b[39mif\u001b[39;00m min_max[\u001b[39m\"\u001b[39m\u001b[39mmax\u001b[39m\u001b[39m\"\u001b[39m] \u001b[39m>\u001b[39m\u001b[39m=\u001b[39m \u001b[39mself\u001b[39m\u001b[39m.\u001b[39mnum_classes:\n\u001b[0;32m-> 1039\u001b[0m         \u001b[39mraise\u001b[39;00m \u001b[39mValueError\u001b[39;00m(\n\u001b[1;32m   1040\u001b[0m             \u001b[39mf\u001b[39m\u001b[39m\"\u001b[39m\u001b[39mClass label \u001b[39m\u001b[39m{\u001b[39;00mmin_max[\u001b[39m'\u001b[39m\u001b[39mmax\u001b[39m\u001b[39m'\u001b[39m]\u001b[39m}\u001b[39;00m\u001b[39m greater than configured num_classes \u001b[39m\u001b[39m{\u001b[39;00m\u001b[39mself\u001b[39m\u001b[39m.\u001b[39mnum_classes\u001b[39m}\u001b[39;00m\u001b[39m\"\u001b[39m\n\u001b[1;32m   1041\u001b[0m         )\n\u001b[1;32m   1042\u001b[0m \u001b[39melif\u001b[39;00m \u001b[39misinstance\u001b[39m(storage, pa\u001b[39m.\u001b[39mStringArray):\n\u001b[1;32m   1043\u001b[0m     storage \u001b[39m=\u001b[39m pa\u001b[39m.\u001b[39marray(\n\u001b[1;32m   1044\u001b[0m         [\u001b[39mself\u001b[39m\u001b[39m.\u001b[39m_strval2int(label) \u001b[39mif\u001b[39;00m label \u001b[39mis\u001b[39;00m \u001b[39mnot\u001b[39;00m \u001b[39mNone\u001b[39;00m \u001b[39melse\u001b[39;00m \u001b[39mNone\u001b[39;00m \u001b[39mfor\u001b[39;00m label \u001b[39min\u001b[39;00m storage\u001b[39m.\u001b[39mto_pylist()]\n\u001b[1;32m   1045\u001b[0m     )\n",
      "\u001b[0;31mValueError\u001b[0m: Class label 50264 greater than configured num_classes 50001"
     ]
    }
   ],
   "source": [
    "def generate_label_masks(labels):\n",
    "    \"\"\"\n",
    "    Generates the derived masked label list and masks from labels\n",
    "\n",
    "    :labels: a list containg the labels ([0 1 0 0 0 1])\n",
    "\n",
    "    :return: \n",
    "        :label_list: a list of the labels with one of them being masked (turn into tokenizer.mask_token_id \n",
    "        [0 100 0 0 0 1], [[0 1 0 0 0 100]]\n",
    "\n",
    "        :mask_list: a list of the masked labels \n",
    "        ([1, 1])\n",
    "    \"\"\" \n",
    "    label_list = []\n",
    "    mask_list = []\n",
    "    for i in range(len(labels)):\n",
    "        # if the label is None, we don't need to generate masks\n",
    "        if labels[i] is None:\n",
    "                continue\n",
    "        # else create a copy where you mask, then pass it and the original value\n",
    "        copy_label = labels.copy()\n",
    "        copy_label[i] = tokenizer.mask_token_id\n",
    "        label_list.append(copy_label)\n",
    "        mask_list.append(labels[i])\n",
    "    return label_list, mask_list\n",
    "\n",
    "# Doesn't work due to ValueError: Class label 50264 greater than configured num_classes 50001\n",
    "# Would work if you change 'labels' to something else, for example, masked labels\n",
    "# tries to generate the mask before the tokenization\n",
    "def map_dataset(inputs_):\n",
    "    \"\"\"\n",
    "    :inputs_: partition of the dataset, for example, train.\n",
    "    It's a dictionary with features: ['id', 'tokens', 'labels']\n",
    "\n",
    "    :return: \n",
    "        :inputs_new: the modified partition, which now includes the added 'masked_label' field\n",
    "    \"\"\" \n",
    "\n",
    "    # create new partition which includes masked_label field\n",
    "    inputs_new = {'id': [], 'tokens': [], \"labels\": [], 'masked_label': []}\n",
    "\n",
    "    for i in range(len(inputs_['labels'])):\n",
    "        label_list, mask_list = generate_label_masks( inputs_['labels'][i])\n",
    "\n",
    "        # add a record to the new partition, each record includes:\n",
    "        # 1) the original id\n",
    "        # 2) the original list of tokens\n",
    "        # 3) the new labels list where one of the labels is masked\n",
    "        # 4) the original value of the masked label\n",
    "        for j in range(len(label_list)):\n",
    "            inputs_new['id'].append(inputs_['id'][i])\n",
    "            inputs_new['tokens'].append(inputs_['tokens'][i])\n",
    "            inputs_new['labels'].append(label_list[j])\n",
    "            inputs_new['masked_label'].append(mask_list[j])\n",
    "    return inputs_new\n",
    "\n",
    "maped_ds = dataset.map(map_dataset, batched=True)\n",
    "    "
   ]
  },
  {
   "cell_type": "code",
   "execution_count": 18,
   "id": "8e04b5bf",
   "metadata": {},
   "outputs": [
    {
     "data": {
      "application/vnd.jupyter.widget-view+json": {
       "model_id": "3c7612fc4e69449f958f3282b6223bd7",
       "version_major": 2,
       "version_minor": 0
      },
      "text/plain": [
       "  0%|          | 0/1 [00:00<?, ?ba/s]"
      ]
     },
     "metadata": {},
     "output_type": "display_data"
    },
    {
     "data": {
      "application/vnd.jupyter.widget-view+json": {
       "model_id": "44862386ab9f47f6b9d6a9f27c733920",
       "version_major": 2,
       "version_minor": 0
      },
      "text/plain": [
       "  0%|          | 0/1 [00:00<?, ?ba/s]"
      ]
     },
     "metadata": {},
     "output_type": "display_data"
    },
    {
     "data": {
      "application/vnd.jupyter.widget-view+json": {
       "model_id": "ec5d3e2c88b54984b556e441a6d1d79b",
       "version_major": 2,
       "version_minor": 0
      },
      "text/plain": [
       "  0%|          | 0/1 [00:00<?, ?ba/s]"
      ]
     },
     "metadata": {},
     "output_type": "display_data"
    }
   ],
   "source": [
    "def tokenize_and_align_labels(examples):\n",
    "    def divide_chunks(l1, l2, n):\n",
    "        for i in range(0, len(l1), n):\n",
    "            yield {'input_ids': [0] + l1[i:i + n] + [2], 'labels': [-100] + l2[i:i + n] + [-100]}\n",
    "\n",
    "    window_size = 510\n",
    "    tokenized_inputs = tokenizer(examples['tokens'], is_split_into_words=True, truncation=False,\n",
    "                                    add_special_tokens=False)\n",
    "    inputs_ = {'input_ids': [], 'labels': []}\n",
    "\n",
    "    for encoding, label in zip(tokenized_inputs.encodings, examples['labels']):\n",
    "        word_ids = encoding.word_ids  # Map tokens to their respective word.\n",
    "        previous_word_idx = None\n",
    "        label_ids = []\n",
    "        for word_idx in word_ids:  # Set the special tokens to -100.\n",
    "            if word_idx is None:\n",
    "                label_ids.append(-100)\n",
    "            elif word_idx != previous_word_idx:  # Only label the first token of a given word.\n",
    "                l = label[word_idx] if label[word_idx] is not None else -100\n",
    "                label_ids.append(l)\n",
    "            else:\n",
    "                label_ids.append(-100)\n",
    "            previous_word_idx = word_idx\n",
    "\n",
    "        s_labels = set(label_ids)\n",
    "        if len(s_labels) == 1 and list(s_labels)[0] == -100:\n",
    "            continue\n",
    "        for e in divide_chunks(encoding.ids, label_ids, window_size):\n",
    "            for k, v in e.items():\n",
    "                inputs_[k].append(v)\n",
    "\n",
    "    inputs_new = {'input_ids': [], 'm_labels': [], \"masks\": []}\n",
    "\n",
    "    for i in range(len(inputs_['labels'])):\n",
    "        if len(inputs_['input_ids'][i]) != 512:\n",
    "            continue    \n",
    "        for j in range(len(inputs_['labels'][i])):\n",
    "            if inputs_['labels'][i][j]==-100:\n",
    "                continue\n",
    "            copy_label = inputs_['labels'][i].copy()\n",
    "            copy_label[j] = tokenizer.mask_token_id\n",
    "            inputs_new['input_ids'].append(inputs_['input_ids'][i])\n",
    "            inputs_new['m_labels'].append(copy_label)\n",
    "            inputs_new['masks'].append(inputs_['labels'][i][j])\n",
    "    return inputs_new\n",
    "\n",
    "tokenized_hf = dataset.map(tokenize_and_align_labels, batched=True, remove_columns=['id', 'tokens', 'labels'])"
   ]
  },
  {
   "cell_type": "code",
   "execution_count": 20,
   "id": "38da742d",
   "metadata": {},
   "outputs": [
    {
     "data": {
      "text/plain": [
       "[]"
      ]
     },
     "execution_count": 20,
     "metadata": {},
     "output_type": "execute_result"
    }
   ],
   "source": [
    "[len(e) for e in tokenized_hf['train']['input_ids'] if len(e) != 512]\n",
    "\n",
    "#print(tokenized_hf)\n",
    "\n",
    "#print(tokenized_hf2['validation'][0])"
   ]
  },
  {
   "cell_type": "code",
   "execution_count": null,
   "id": "8a82a024",
   "metadata": {},
   "outputs": [
    {
     "name": "stdout",
     "output_type": "stream",
     "text": [
      "{'input_ids': [0, 6595, 25522, 16728, 30383, 48382, 35524, 31, 128, 49445, 49445, 44143, 44306, 12, 41817, 108, 25606, 6595, 25522, 42546, 47555, 35524, 31, 128, 49445, 34748, 73, 48340, 108, 25606, 5376, 1907, 16728, 40118, 5457, 25522, 766, 17487, 4832, 6755, 1721, 23796, 25606, 4392, 19017, 17487, 4832, 6755, 1721, 23796, 25606, 10709, 17487, 4832, 6755, 1721, 23796, 25606, 16619, 17487, 4832, 6755, 1721, 346, 1721, 23796, 25606, 251, 17487, 4832, 6755, 1721, 346, 1721, 23796, 25606, 35524, 359, 25522, 646, 449, 11, 3574, 40118, 27779, 17487, 4832, 6755, 1721, 23796, 25606, 35524, 25606, 5376, 10759, 3574, 45603, 5457, 25522, 49163, 4832, 128, 13082, 640, 48340, 4, 175, 108, 2156, 3307, 179, 4832, 128, 13082, 640, 1401, 4, 16166, 179, 4, 175, 73, 179, 108, 2156, 7409, 4832, 128, 13082, 640, 1556, 4, 175, 108, 2156, 35524, 25606, 5376, 1907, 3574, 40118, 5457, 762, 1116, 1907, 1116, 3574, 45603, 25606, 5376, 1380, 16728, 36987, 16728, 40118, 25522, 10709, 4832, 6755, 25606, 49163, 4832, 6755, 25606, 16619, 4832, 346, 25606, 3307, 179, 17487, 4832, 6755, 25606, 251, 4832, 346, 25606, 766, 4832, 6755, 25606, 7409, 17487, 4832, 6755, 25606, 998, 17487, 4832, 6755, 25606, 138, 17487, 4832, 6755, 25606, 9371, 31723, 4832, 6755, 25606, 9371, 28081, 4832, 6755, 25606, 9371, 23345, 139, 49009, 17487, 4832, 6755, 25606, 809, 17487, 4832, 6755, 25606, 4392, 7888, 49009, 17487, 4832, 6755, 25606, 47073, 36, 49163, 47555, 2156, 70, 8532, 45949, 2156, 2598, 17487, 2156, 809, 17487, 2156, 49163, 8739, 15047, 17487, 4839, 25522, 10759, 25522, 4392, 19017, 2156, 766, 2156, 16619, 2156, 10709, 2156, 3307, 179, 2156, 251, 2156, 7409, 35524, 5457, 2598, 45056, 25522, 35524, 25606, 114, 36, 27785, 49163, 47555, 4839, 25522, 12304, 479, 7425, 36, 2598, 4839, 25606, 3211, 92, 37943, 36, 128, 3084, 49163, 4392, 576, 13, 128, 2055, 2598, 17487, 4, 49163, 4839, 25606, 35524, 114, 36, 2598, 17487, 4, 49163, 48200, 2598, 479, 49163, 479, 7, 44620, 38834, 36, 4839, 27785, 43292, 49163, 47555, 479, 40952, 479, 7, 44620, 38834, 36, 4839, 4839, 3211, 92, 37943, 36, 128, 448, 1809, 11175, 227, 576, 8909, 1000, 2598, 8, 42546, 16728, 9376, 4839, 25606, 42, 479, 766, 5457, 766, 45056, 49163, 47555, 479, 766, 25606, 42, 479, 10709, 5457, 10709, 45056, 49163, 47555, 479, 10709, 45056, 12801, 25606, 42, 479, 49163, 5457, 49163, 47555, 479, 40952, 25606, 42, 479, 7409, 5457, 7409, 45056, 49163, 47555, 479, 7409, 1215, 48852, 25606, 42, 479, 3307, 179, 5457, 3307, 179, 45056, 45436, 25606, 42, 479, 16619, 5457, 2598, 17487, 4, 16619, 17487, 43756, 48766, 36, 16619, 25, 6755, 4839, 4832, 49163, 8739, 15047, 17487, 4, 16619, 45056, 111, 6657, 4, 3414, 4027, 1558, 2055, 11945, 479, 9624, 36, 4839, 1009, 195, 25606, 42, 479, 251, 5457, 2598, 17487, 4, 251, 17487, 43756, 48766, 36, 251, 25, 6755, 4839, 4832, 49163, 8739, 15047, 17487, 4, 251, 45056, 974, 4, 32072, 39190, 2055, 11945, 479, 9624, 36, 4839, 1009, 654, 25606, 42, 479, 998, 5457, 49163, 47555, 479, 998, 1215, 6423, 25606, 42, 479, 138, 5457, 49163, 47555, 479, 138, 25606, 42, 479, 9371, 31723, 5457, 49163, 2], 'masked_labels': [-100, -100, -100, -100, -100, -100, -100, -100, -100, -100, -100, -100, -100, -100, -100, -100, -100, -100, -100, -100, -100, -100, -100, -100, -100, -100, -100, -100, -100, -100, -100, -100, -100, -100, -100, -100, -100, -100, -100, -100, -100, -100, -100, -100, -100, -100, -100, -100, -100, -100, -100, -100, -100, -100, -100, -100, -100, -100, -100, -100, -100, -100, -100, -100, -100, -100, -100, -100, -100, -100, -100, -100, -100, -100, -100, -100, -100, -100, -100, -100, -100, -100, -100, -100, -100, -100, -100, -100, -100, -100, -100, -100, -100, -100, -100, -100, -100, -100, -100, -100, -100, -100, -100, -100, -100, -100, -100, -100, -100, -100, -100, -100, -100, -100, -100, -100, -100, -100, -100, -100, -100, -100, -100, -100, -100, -100, -100, -100, -100, -100, -100, -100, -100, -100, -100, -100, -100, -100, -100, -100, -100, -100, -100, -100, -100, -100, -100, -100, -100, -100, -100, -100, -100, -100, -100, -100, -100, -100, -100, -100, -100, -100, -100, -100, -100, -100, -100, -100, -100, -100, -100, -100, -100, -100, -100, -100, -100, -100, -100, -100, -100, -100, -100, -100, -100, -100, -100, -100, -100, -100, -100, -100, -100, -100, -100, -100, -100, -100, -100, -100, -100, -100, -100, -100, -100, -100, -100, -100, -100, -100, -100, -100, -100, -100, -100, -100, -100, -100, -100, -100, -100, -100, -100, -100, -100, -100, -100, -100, -100, 50264, -100, -100, -100, -100, -100, -100, 0, -100, -100, 2, -100, -100, 6, -100, -100, -100, -100, -100, -100, -100, -100, -100, -100, -100, -100, -100, -100, -100, -100, -100, -100, -100, -100, -100, -100, -100, -100, -100, -100, -100, -100, -100, -100, -100, -100, -100, -100, -100, -100, -100, -100, -100, -100, -100, -100, -100, -100, -100, -100, -100, -100, -100, -100, -100, -100, -100, -100, -100, -100, -100, -100, -100, -100, -100, -100, -100, -100, -100, -100, -100, -100, -100, -100, -100, -100, -100, -100, -100, -100, -100, -100, -100, -100, -100, -100, -100, -100, -100, -100, -100, -100, -100, -100, -100, -100, -100, -100, -100, -100, -100, -100, -100, -100, -100, -100, -100, -100, -100, -100, -100, -100, -100, -100, -100, -100, -100, -100, -100, -100, -100, -100, -100, -100, -100, -100, -100, -100, -100, -100, -100, -100, -100, -100, -100, -100, -100, -100, -100, -100, -100, -100, -100, -100, -100, -100, -100, -100, -100, -100, -100, -100, -100, -100, -100, -100, -100, -100, -100, -100, -100, -100, -100, -100, -100, -100, -100, -100, -100, -100, -100, -100, -100, -100, -100, -100, -100, -100, -100, -100, -100, -100, -100, -100, -100, -100, -100, -100, -100, -100, -100, -100, -100, -100, -100, -100, -100, -100, -100, -100, -100, -100, -100, -100, -100, -100, -100, -100, -100, -100, -100, -100, -100, -100, -100, -100, -100, -100, -100, -100, -100, -100, -100, -100, -100, -100, -100, -100, -100, -100, -100, -100, -100, -100, -100, -100, -100, -100, -100, -100, -100, -100, -100, -100, -100, -100, -100, -100, -100, -100, -100, -100, -100, -100, -100, -100, -100, -100, -100, -100, -100, -100, -100, -100, -100, -100, -100, -100, -100, -100, -100, -100, -100], 'masks': 0}\n"
     ]
    },
    {
     "data": {
      "text/plain": [
       "[50264, 0, 2, 6]"
      ]
     },
     "execution_count": 47,
     "metadata": {},
     "output_type": "execute_result"
    }
   ],
   "source": [
    "print(tokenized_hf2['validation'][8])\n",
    "[e for e in tokenized_hf2['validation']['masked_labels'][8] if e!=-100]"
   ]
  },
  {
   "cell_type": "code",
   "execution_count": null,
   "id": "a12c8f9c",
   "metadata": {},
   "outputs": [
    {
     "name": "stdout",
     "output_type": "stream",
     "text": [
      "{'input_ids': [0, 3816, 671, 22886, 43048, 43839, 50264, 4832, 2], 'attention_mask': [1, 1, 1, 1, 1, 1, 1, 1, 1]}\n",
      "{'input_ids': [0, 3816, 671, 387, 8110, 43048, 2055, 50264, 321, 2], 'attention_mask': [1, 1, 1, 1, 1, 1, 1, 1, 1, 1]}\n",
      "{'input_ids': [0, 50264, 2], 'attention_mask': [1, 1, 1]}\n",
      "{'input_ids': [0, 11445, 2], 'attention_mask': [1, 1, 1]}\n"
     ]
    }
   ],
   "source": [
    "from transformers import RobertaConfig, RobertaTokenizer, RobertaForMaskedLM, pipeline\n",
    "import torch\n",
    "\n",
    "#model = RobertaForMaskedLM.from_pretrained(\"microsoft/codebert-base-mlm\")\n",
    "#tokenizer = RobertaTokenizer.from_pretrained(\"microsoft/codebert-base-mlm\")\n",
    "\n",
    "CODE = \"def returnInt() -> <mask>:\"\n",
    "CODE1 = \"def returnBool() + <mask> 0\"\n",
    "CODE2 = \"<mask>\"\n",
    "CODE3 = \"mask\"\n",
    "print(tokenizer(CODE))\n",
    "print(tokenizer(CODE1))\n",
    "print(tokenizer(CODE2))\n",
    "print(tokenizer(CODE3))\n",
    "\n",
    "# fill_mask = pipeline('fill-mask', model=model, tokenizer=tokenizer)\n",
    "\n",
    "# outputs = fill_mask(CODE)\n",
    "# outputs"
   ]
  },
  {
   "cell_type": "code",
   "execution_count": 50,
   "id": "7b176b91",
   "metadata": {},
   "outputs": [],
   "source": [
    "class CustomModel(torch.nn.Module):\n",
    "    def __init__(self, model, d, vocabulary_size = 50778): # 50265 + sep + 512 (labels) = 50778\n",
    "        super(CustomModel, self).__init__() \n",
    "        self.d = d\n",
    "        self.model = model\n",
    "        self.config = model.config\n",
    "        self.layer = torch.nn.Linear(vocabulary_size, d)\n",
    "    \n",
    "    def forward(self, m_labels, input_ids=None, attention_mask=None):\n",
    "        model_output, b = self.model.forward(input_ids=input_ids)    \n",
    "        print(m_labels)\n",
    "        final_output_tensor = self.layer.forward(torch.cat((model_output[0], torch.tensor([tokenizer.sep_token]), m_labels), 0))\n",
    "        model_output.logits = final_output_tensor\n",
    "        return model_output"
   ]
  },
  {
   "cell_type": "code",
   "execution_count": 11,
   "id": "4dcb017f",
   "metadata": {},
   "outputs": [
    {
     "ename": "NameError",
     "evalue": "name 'model' is not defined",
     "output_type": "error",
     "traceback": [
      "\u001b[0;31m---------------------------------------------------------------------------\u001b[0m",
      "\u001b[0;31mNameError\u001b[0m                                 Traceback (most recent call last)",
      "Cell \u001b[0;32mIn [11], line 5\u001b[0m\n\u001b[1;32m      3\u001b[0m tokens\u001b[39m=\u001b[39m[tokenizer\u001b[39m.\u001b[39mcls_token]\u001b[39m+\u001b[39mnl_tokens\u001b[39m+\u001b[39m[tokenizer\u001b[39m.\u001b[39msep_token]\u001b[39m+\u001b[39mcode_tokens\u001b[39m+\u001b[39m[tokenizer\u001b[39m.\u001b[39msep_token]\n\u001b[1;32m      4\u001b[0m tokens_ids\u001b[39m=\u001b[39mtokenizer\u001b[39m.\u001b[39mconvert_tokens_to_ids(tokens)\n\u001b[0;32m----> 5\u001b[0m output \u001b[39m=\u001b[39m model(torch\u001b[39m.\u001b[39mtensor(tokens_ids)[\u001b[39mNone\u001b[39;00m,:])[\u001b[39m0\u001b[39m]\n\u001b[1;32m      6\u001b[0m \u001b[39m# tokens[7]\u001b[39;00m\n\u001b[1;32m      7\u001b[0m output[\u001b[39m0\u001b[39m][\u001b[39m7\u001b[39m][torch\u001b[39m.\u001b[39margmax(output[\u001b[39m0\u001b[39m][\u001b[39m7\u001b[39m])]\n",
      "\u001b[0;31mNameError\u001b[0m: name 'model' is not defined"
     ]
    }
   ],
   "source": [
    "nl_tokens=tokenizer.tokenize(\"\")\n",
    "code_tokens=tokenizer.tokenize(\"def returnInt() -> <mask>\")\n",
    "tokens=[tokenizer.cls_token]+nl_tokens+[tokenizer.sep_token]+code_tokens+[tokenizer.sep_token]\n",
    "tokens_ids=tokenizer.convert_tokens_to_ids(tokens)\n",
    "output = model(torch.tensor(tokens_ids)[None,:])[0]\n",
    "# tokens[7]\n",
    "output[0][7][torch.argmax(output[0][7])]"
   ]
  },
  {
   "cell_type": "code",
   "execution_count": null,
   "id": "88841175",
   "metadata": {},
   "outputs": [
    {
     "data": {
      "text/plain": [
       "MaskedLMOutput(loss=None, logits=tensor([[[-9.5757e-01,  4.0185e-01,  1.6400e-01, -1.6877e+00,  7.0705e-01,\n",
       "           2.5099e+00,  1.4349e+00,  1.1156e+00],\n",
       "         [-1.5685e+00,  1.8493e+00, -1.0181e+00, -1.1429e+00,  1.4097e+00,\n",
       "           2.0580e+00, -6.7345e-01,  3.6960e-01],\n",
       "         [-1.1213e+00,  3.8167e+00, -8.0053e-01, -2.3354e-01, -8.6537e-01,\n",
       "           3.7011e+00,  2.5471e-01,  6.3558e-01],\n",
       "         [-4.0530e+00, -1.6602e+00, -9.5008e-01, -1.0846e-01,  3.1014e+00,\n",
       "           3.9293e+00,  1.4203e-03,  2.1470e+00],\n",
       "         [ 3.1931e+00, -8.0419e-01, -6.1936e-02, -1.7952e+00,  6.3725e-01,\n",
       "           1.3534e+00,  1.6296e+00, -6.4972e-01],\n",
       "         [ 1.2609e+00,  4.6863e+00, -2.5809e+00, -2.5047e+00, -1.1010e+00,\n",
       "           1.1595e+00,  3.3692e+00, -2.8049e-01],\n",
       "         [-2.7581e+00, -1.8081e-01, -2.2230e+00, -4.9168e-01,  3.1385e+00,\n",
       "           3.4737e+00,  1.3601e+00,  3.3062e+00],\n",
       "         [-2.2129e+00, -1.5894e+00, -1.1046e+00,  1.0554e+00,  4.7831e-01,\n",
       "           2.5344e+00,  1.9514e+00,  1.4861e+00],\n",
       "         [-4.2488e-01,  3.2293e-01, -7.3689e-01, -2.4943e-01,  4.1237e-01,\n",
       "           2.1033e+00,  3.3375e+00,  5.2760e-01]]], grad_fn=<ViewBackward0>), hidden_states=None, attentions=None)"
      ]
     },
     "execution_count": 36,
     "metadata": {},
     "output_type": "execute_result"
    }
   ],
   "source": [
    "custom_model = CustomModel(model, 8)\n",
    "custom_model.forward(torch.tensor(tokens_ids)[None,:])\n",
    "\n"
   ]
  },
  {
   "cell_type": "code",
   "execution_count": null,
   "id": "8d518b12",
   "metadata": {},
   "outputs": [
    {
     "data": {
      "text/plain": [
       "[{'score': 0.6114524602890015,\n",
       "  'token': 1,\n",
       "  'token_str': '<pad>',\n",
       "  'sequence': 'def returnInt() ->:'},\n",
       " {'score': 0.2869931161403656,\n",
       "  'token': 3,\n",
       "  'token_str': '<unk>',\n",
       "  'sequence': 'def returnInt() ->:'},\n",
       " {'score': 0.03550773859024048,\n",
       "  'token': 6,\n",
       "  'token_str': ',',\n",
       "  'sequence': 'def returnInt() ->,:'},\n",
       " {'score': 0.029577510431408882,\n",
       "  'token': 0,\n",
       "  'token_str': '<s>',\n",
       "  'sequence': 'def returnInt() ->:'},\n",
       " {'score': 0.01907293312251568,\n",
       "  'token': 4,\n",
       "  'token_str': '.',\n",
       "  'sequence': 'def returnInt() ->.:'}]"
      ]
     },
     "execution_count": 37,
     "metadata": {},
     "output_type": "execute_result"
    }
   ],
   "source": [
    "custom_model = CustomModel(model, 8)\n",
    "fill_mask = pipeline('fill-mask', model=custom_model, tokenizer=tokenizer)\n",
    "\n",
    "outputs = fill_mask(CODE)\n",
    "outputs"
   ]
  },
  {
   "cell_type": "code",
   "execution_count": null,
   "id": "0dd1e05b",
   "metadata": {},
   "outputs": [],
   "source": [
    "input_list = [\n",
    "    \"def returnInt() -> <mask>: \\n\\t x: int = 42 \\n\\t return x\",\n",
    "    \"def setInt(self, x: int) -> <mask>: \\n\\t self.x = x\",\n",
    "    \"def getInt(self) -> <mask>: \\n\\t return self.x\",\n",
    "    \"def concatString(self, s1: str, s2: str) -> <mask>: \\n\\t return s1 + s2\",\n",
    "    \"def setStr(self, s: str) -> <mask>: \\n\\t self.s = s\",\n",
    "    \"def getStr(self) -> <mask>: \\n\\t return self.s\",\n",
    "    \"def isInt(self, x) -> <mask>: \\n\\t return x % 1 == 0\",\n",
    "    \"def doSomething() -> <mask>: \\n\\t pass\",\n",
    "    \"def isString(self, s) -> <mask>: \\n\\t return type(s, str)\"\n",
    "]\n",
    "\n",
    "labels = [\n",
    "    \"int\",\n",
    "    \"None\",\n",
    "    \"int\",\n",
    "    \"str\",\n",
    "    \"None\",\n",
    "    \"str\",\n",
    "    \"bool\",\n",
    "    \"None\",\n",
    "    \"bool\"\n",
    "]"
   ]
  },
  {
   "cell_type": "code",
   "execution_count": 12,
   "id": "c65e6177",
   "metadata": {},
   "outputs": [],
   "source": [
    "class TripletLoss(torch.nn.Module):\n",
    "    def __init__(self, margin=1.0):\n",
    "        super(TripletLoss, self).__init__()\n",
    "        self.margin = margin\n",
    "        \n",
    "    def calc_euclidean(self, x1, x2):\n",
    "        return (x1 - x2).pow(2).sum(1)\n",
    "    \n",
    "    def forward(self, anchor: torch.Tensor, positive: torch.Tensor, negative: torch.Tensor) -> torch.Tensor:\n",
    "        distance_positive = self.calc_euclidean(anchor, positive)\n",
    "        distance_negative = self.calc_euclidean(anchor, negative)\n",
    "        losses = torch.relu(distance_positive - distance_negative + self.margin)\n",
    "\n",
    "        return losses.mean()"
   ]
  },
  {
   "cell_type": "code",
   "execution_count": 37,
   "id": "df96468d",
   "metadata": {},
   "outputs": [],
   "source": [
    "from torch.utils.data import TensorDataset\n",
    "from typing import Tuple\n",
    "import torch\n",
    "\n",
    "class TripletDataset(torch.utils.data.Dataset):\n",
    "\n",
    "    def __init__(self, *in_sequences: torch.Tensor, m_labels: torch.Tensor, labels: torch.Tensor, dataset_name: str,\n",
    "                 train_mode: bool=True):\n",
    "        self.data = TensorDataset(*in_sequences)\n",
    "        self.m_labels = m_labels\n",
    "        self.labels = labels\n",
    "        self.dataset_name = dataset_name\n",
    "        self.train_mode = train_mode\n",
    "\n",
    "        self.get_item_func = self.get_item_train if self.train_mode else self.get_item_test\n",
    "\n",
    "    def get_item_train(self, index: int) -> Tuple[Tuple[torch.Tensor, torch.Tensor],\n",
    "                                         Tuple[torch.Tensor, torch.Tensor], Tuple[torch.Tensor, torch.Tensor]]:\n",
    "        \"\"\"\n",
    "        It returns three tuples. Each one is a (data, label)\n",
    "         - The first tuple is (data, label) at the given index\n",
    "         - The second tuple is similar (data, label) to the given index\n",
    "         - The third tuple is different (data, label) from the given index \n",
    "        \"\"\"\n",
    "\n",
    "         # Find a similar datapoint randomly\n",
    "        mask = self.labels == self.labels[index]\n",
    "        mask[index] = False # Making sure that the similar pair is NOT the same as the given index\n",
    "        mask = mask.nonzero()\n",
    "        a = mask[torch.randint(high=len(mask), size=(1,))][0]\n",
    "\n",
    "        # Find a different datapoint randomly\n",
    "        mask = self.labels != self.labels[index]\n",
    "        mask = mask.nonzero()\n",
    "        b = mask[torch.randint(high=len(mask), size=(1,))][0]\n",
    "        \n",
    "        return (self.data[index], self.m_labels[index]), (self.data[a.item()], self.m_labels[a.item()]), \\\n",
    "               (self.data[b.item()], self.m_labels[b.item()])\n",
    "\n",
    "    def get_item_test(self, index: int) -> Tuple[Tuple[torch.Tensor, torch.Tensor], list, list]:\n",
    "        return (self.data[index], self.labels[index]), [], []\n",
    "    \n",
    "    def __getitem__(self, index: int) -> Tuple[Tuple[torch.Tensor, torch.Tensor],\n",
    "                                         Tuple[torch.Tensor, torch.Tensor], Tuple[torch.Tensor, torch.Tensor]]:\n",
    "         return self.get_item_func(index)\n",
    "\n",
    "    def __len__(self) -> int:\n",
    "        return len(self.data)"
   ]
  },
  {
   "cell_type": "code",
   "execution_count": null,
   "id": "ff651a7f",
   "metadata": {},
   "outputs": [],
   "source": [
    "import random\n",
    "\n",
    "def make_triplet(input, labels, index):\n",
    "    pos_labels = []\n",
    "    neg_labels = []\n",
    "    for i, l in enumerate(labels):\n",
    "        if not i == index:\n",
    "            if l == labels[index]:\n",
    "                pos_labels.append(i)\n",
    "            else:\n",
    "                neg_labels.append(i)\n",
    "\n",
    "    return input[index], input[pos_labels[random.randint(0, len(pos_labels)-1)]], input[neg_labels[random.randint(0, len(neg_labels)-1)]]\n",
    "\n",
    "def make_data(input, labels):\n",
    "    data = []\n",
    "    for i in range(len(input)):\n",
    "        data.append(make_triplet(input, labels, i))\n",
    "    return data"
   ]
  },
  {
   "cell_type": "code",
   "execution_count": null,
   "id": "1ca6122b",
   "metadata": {},
   "outputs": [],
   "source": []
  },
  {
   "cell_type": "code",
   "execution_count": null,
   "id": "2ec5e128",
   "metadata": {},
   "outputs": [
    {
     "data": {
      "text/plain": [
       "[{'score': 1.0,\n",
       "  'token': 0,\n",
       "  'token_str': '<s>',\n",
       "  'sequence': 'def returnInt() ->:'},\n",
       " {'score': 4.295258014329576e-23,\n",
       "  'token': 7,\n",
       "  'token_str': ' to',\n",
       "  'sequence': 'def returnInt() -> to:'},\n",
       " {'score': 0.0,\n",
       "  'token': 6,\n",
       "  'token_str': ',',\n",
       "  'sequence': 'def returnInt() ->,:'},\n",
       " {'score': 0.0,\n",
       "  'token': 5,\n",
       "  'token_str': ' the',\n",
       "  'sequence': 'def returnInt() -> the:'},\n",
       " {'score': 0.0,\n",
       "  'token': 4,\n",
       "  'token_str': '.',\n",
       "  'sequence': 'def returnInt() ->.:'}]"
      ]
     },
     "execution_count": 43,
     "metadata": {},
     "output_type": "execute_result"
    }
   ],
   "source": [
    "fill_mask = pipeline('fill-mask', model=custom_model, tokenizer=tokenizer)\n",
    "\n",
    "outputs = fill_mask(CODE)\n",
    "outputs"
   ]
  },
  {
   "cell_type": "code",
   "execution_count": null,
   "id": "43dd5c6c",
   "metadata": {},
   "outputs": [
    {
     "name": "stdout",
     "output_type": "stream",
     "text": [
      "[5]\n",
      "[11]\n",
      "[7]\n",
      "[18]\n"
     ]
    },
    {
     "data": {
      "application/vnd.jupyter.widget-view+json": {
       "model_id": "cafb9760787d4da9a565cbc86ab189f4",
       "version_major": 2,
       "version_minor": 0
      },
      "text/plain": [
       "KNN index:   0%|          | 0/4 [00:00<?, ?it/s]"
      ]
     },
     "metadata": {},
     "output_type": "display_data"
    },
    {
     "name": "stdout",
     "output_type": "stream",
     "text": [
      "[145.42784  -29.278706  45.338547 -30.66457   18.99699   39.224346\n",
      "  40.825054 103.400734]\n",
      "[156.02185  -32.93112   38.885925 -41.234108  30.782158  37.38632\n",
      "  49.57484  104.4173  ]\n",
      "[148.68427  -32.9436    39.215916 -36.328114  27.086197  36.987328\n",
      "  41.257534 103.47224 ]\n",
      "[161.6432   -34.169556  38.239708 -40.985474  29.513176  38.65199\n",
      "  48.715927 109.535225]\n",
      "<annoy.Annoy object at 0x7f88678083f0>\n"
     ]
    }
   ],
   "source": [
    "import numpy as np\n",
    "from annoy import AnnoyIndex\n",
    "from torch.utils.data import DataLoader\n",
    "import random\n",
    "from collections import defaultdict\n",
    "import time\n",
    "\n",
    "DEVICE = torch.device('cuda' if torch.cuda.is_available() else 'cpu')\n",
    "KNN_TREE_SIZE = 20\n",
    "DISTANCE_METRIC = 'euclidean'\n",
    "\n",
    "\n",
    "def create_type_space(inputs=input_list[:4], labels=labels[:4]):\n",
    "    \"\"\"\n",
    "    Creates the type space based on the inputs and their corresponding labels\n",
    "    \"\"\"\n",
    "    \n",
    "    # Make sure imputs are labeled\n",
    "    assert len(inputs) == len(labels)\n",
    "    \n",
    "    # Cache the type space mappings\n",
    "    computed_mapped_batches_train = []\n",
    "    with torch.no_grad():\n",
    "        \n",
    "        # Iterate through the data set\n",
    "        for inp, label in zip(inputs, labels):\n",
    "            \n",
    "            # Tokenize the code\n",
    "            nl_tokens = tokenizer.tokenize(\"\")\n",
    "            code_tokens = tokenizer.tokenize(inp)\n",
    "            tokens=[tokenizer.cls_token]+nl_tokens+[tokenizer.sep_token]+code_tokens+[tokenizer.sep_token]\n",
    "            tokens_ids=tokenizer.convert_tokens_to_ids(tokens)\n",
    "            \n",
    "            # Get the type space mapping from the model\n",
    "            output = custom_model.forward(torch.tensor(tokens_ids)[None,:])\n",
    "            \n",
    "            # Select masked tokens\n",
    "            masked_tokens = [c for c, token in enumerate(code_tokens) if token == \"<mask>\"]\n",
    "            \n",
    "            print(masked_tokens)\n",
    "            \n",
    "            # For this version, assume only one mask\n",
    "            assert len(masked_tokens) == 1\n",
    "            \n",
    "            # Selected only the masked tokens from the output\n",
    "            vals = output.logits.cpu().numpy()\n",
    "            predicted_masks = [vals[0][i] for i in masked_tokens]\n",
    "            \n",
    "            # Cache the mapping of the masked token only\n",
    "            computed_mapped_batches_train.append(predicted_masks)\n",
    "        \n",
    "        # Create the type space\n",
    "        annoy_index = create_knn_index(computed_mapped_batches_train, None, computed_mapped_batches_train[0][0].size)\n",
    "    return annoy_index\n",
    "\n",
    "def create_knn_index(train_types_embed: np.array, valid_types_embed: np.array, type_embed_dim:int) -> AnnoyIndex:\n",
    "    \"\"\"\n",
    "    Creates KNNs index for given type embedding vectors, taken from Type4Py\n",
    "    \"\"\"\n",
    "    \n",
    "    annoy_idx = AnnoyIndex(type_embed_dim, DISTANCE_METRIC)\n",
    "\n",
    "    for i, v in enumerate(tqdm(train_types_embed, total=len(train_types_embed), desc=\"KNN index\")):\n",
    "        print(v[0])\n",
    "        annoy_idx.add_item(i, v[0])\n",
    "\n",
    "    annoy_idx.build(KNN_TREE_SIZE)\n",
    "    return annoy_idx\n",
    "\n",
    "annoy_idx = create_type_space()\n",
    "print(annoy_idx)"
   ]
  },
  {
   "cell_type": "code",
   "execution_count": null,
   "id": "113df0f0",
   "metadata": {},
   "outputs": [
    {
     "data": {
      "application/vnd.jupyter.widget-view+json": {
       "model_id": "8544a67031f64d3ba9986408287921a0",
       "version_major": 2,
       "version_minor": 0
      },
      "text/plain": [
       "Finding KNNs & Prediction:   0%|          | 0/4 [00:00<?, ?it/s]"
      ]
     },
     "metadata": {},
     "output_type": "display_data"
    },
    {
     "name": "stdout",
     "output_type": "stream",
     "text": [
      "['def returnInt() -> <mask>: \\n\\t x: int = 42 \\n\\t return x', 'def setInt(self, x: int) -> <mask>: \\n\\t self.x = x', 'def getInt(self) -> <mask>: \\n\\t return self.x', 'def concatString(self, s1: str, s2: str) -> <mask>: \\n\\t return s1 + s2']\n",
      "['int', 'None', 'int', 'str']\n",
      "[[('int', 0.5271375653386224), ('None', 0.4728624346613775)], [('int', 1.0)], [('int', 1.0)], [('int', 0.5739985440616903), ('None', 0.4260014559383097)]]\n"
     ]
    }
   ],
   "source": [
    "def map_type(inputs=input_list[:4]):\n",
    "    \"\"\"\n",
    "    Maps an input to the type space\n",
    "    \"\"\"\n",
    "    with torch.no_grad():\n",
    "        computed_embed_batches_test = []\n",
    "        computed_embed_labels_test = []\n",
    "        \n",
    "        for inp in inputs:\n",
    "\n",
    "            # Tokenize the code\n",
    "            nl_tokens = tokenizer.tokenize(\"\")\n",
    "            code_tokens = tokenizer.tokenize(inp)\n",
    "            tokens=[tokenizer.cls_token]+nl_tokens+[tokenizer.sep_token]+code_tokens+[tokenizer.sep_token]\n",
    "            tokens_ids=tokenizer.convert_tokens_to_ids(tokens)\n",
    "            \n",
    "            # Get the type space mapping from the model\n",
    "            output = custom_model.forward(torch.tensor(tokens_ids)[None,:])\n",
    "            \n",
    "            # Select masked tokens\n",
    "            masked_tokens = [c for c, token in enumerate(code_tokens) if token == \"<mask>\"]\n",
    "            \n",
    "            # For this version, assume only one mask\n",
    "            assert len(masked_tokens) == 1\n",
    "            \n",
    "            # Selected only the masked tokens from the output\n",
    "            vals = output.logits.cpu().numpy()\n",
    "            predicted_masks = [vals[0][i] for i in masked_tokens]\n",
    "\n",
    "            # Cache the mapping of the masked token only\n",
    "            computed_embed_batches_test.append(predicted_masks)\n",
    "        \n",
    "        return computed_embed_batches_test\n",
    "\n",
    "def predict_type(types_embed_array: np.array, types_embed_labels: np.array, indexed_knn: AnnoyIndex, k: int):\n",
    "    \"\"\"\n",
    "    Predict type of given type embedding vectors\n",
    "    \"\"\"\n",
    "\n",
    "    pred_types_embed = []\n",
    "    pred_types_score = []\n",
    "    for i, embed_vec in enumerate(tqdm(types_embed_array, total=len(types_embed_array), desc=\"Finding KNNs & Prediction\")):\n",
    "        \n",
    "        # Get the distances to the KNN\n",
    "        idx, dist = indexed_knn.get_nns_by_vector(embed_vec[0], k, include_distances=True)\n",
    "        \n",
    "        # Compute the scores according to the formula\n",
    "        pred_idx_scores = compute_types_score(dist, idx, types_embed_labels)\n",
    "        \n",
    "        # Cache the scores and the labels\n",
    "        pred_types_embed.append([i for (i, s) in pred_idx_scores])\n",
    "        pred_types_score.append(pred_idx_scores)\n",
    "    \n",
    "    return pred_types_embed, pred_types_score\n",
    "\n",
    "def compute_types_score(types_dist: list, types_idx: list, types_embed_labels: np.array):\n",
    "        types_dist = 1 / (np.array(types_dist) + 1e-10) ** 2\n",
    "        types_dist /= np.sum(types_dist)\n",
    "        types_score = defaultdict(int)\n",
    "        for n, d in zip(types_idx, types_dist):\n",
    "            types_score[types_embed_labels[n]] += d\n",
    "        \n",
    "        return sorted({t: s for t, s in types_score.items()}.items(), key=lambda kv: kv[1], reverse=True)\n",
    "    \n",
    "types_embed_array = map_type()\n",
    "knn_K = 2\n",
    "pred_type_embed, pred_type_score = predict_type(types_embed_array, labels[:4], annoy_idx, knn_K,)\n",
    "print(input_list[:4])\n",
    "print(labels[:4])\n",
    "print(pred_type_score)"
   ]
  },
  {
   "cell_type": "code",
   "execution_count": null,
   "id": "82a80ff3",
   "metadata": {},
   "outputs": [],
   "source": []
  }
 ],
 "metadata": {
  "kernelspec": {
   "display_name": "Python 3.10.6 ('venv': venv)",
   "language": "python",
   "name": "python3"
  },
  "language_info": {
   "codemirror_mode": {
    "name": "ipython",
    "version": 3
   },
   "file_extension": ".py",
   "mimetype": "text/x-python",
   "name": "python",
   "nbconvert_exporter": "python",
   "pygments_lexer": "ipython3",
   "version": "3.10.6"
  },
  "vscode": {
   "interpreter": {
    "hash": "b898463808f7de9d8eed8bf188ff18ea42a72c5d898f7e9a1365e818ae4a9ee4"
   }
  }
 },
 "nbformat": 4,
 "nbformat_minor": 5
}
