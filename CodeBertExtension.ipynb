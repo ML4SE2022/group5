{
 "cells": [
  {
   "cell_type": "code",
   "execution_count": 1,
   "id": "a12c8f9c",
   "metadata": {},
   "outputs": [
    {
     "data": {
      "application/vnd.jupyter.widget-view+json": {
       "model_id": "5b05df26d97c4c0b998c6143028475cb",
       "version_major": 2,
       "version_minor": 0
      },
      "text/plain": [
       "Downloading:   0%|          | 0.00/504 [00:00<?, ?B/s]"
      ]
     },
     "metadata": {},
     "output_type": "display_data"
    },
    {
     "data": {
      "application/vnd.jupyter.widget-view+json": {
       "model_id": "51fbce099e7f4ad1bc077671de6c9403",
       "version_major": 2,
       "version_minor": 0
      },
      "text/plain": [
       "Downloading:   0%|          | 0.00/501M [00:00<?, ?B/s]"
      ]
     },
     "metadata": {},
     "output_type": "display_data"
    },
    {
     "data": {
      "application/vnd.jupyter.widget-view+json": {
       "model_id": "b16983b351334b37a3a0aea4f55116c2",
       "version_major": 2,
       "version_minor": 0
      },
      "text/plain": [
       "Downloading:   0%|          | 0.00/899k [00:00<?, ?B/s]"
      ]
     },
     "metadata": {},
     "output_type": "display_data"
    },
    {
     "data": {
      "application/vnd.jupyter.widget-view+json": {
       "model_id": "e6dc2c74a9b04642a393fdc729172b96",
       "version_major": 2,
       "version_minor": 0
      },
      "text/plain": [
       "Downloading:   0%|          | 0.00/456k [00:00<?, ?B/s]"
      ]
     },
     "metadata": {},
     "output_type": "display_data"
    },
    {
     "data": {
      "application/vnd.jupyter.widget-view+json": {
       "model_id": "6dd74de1e2d34d4cb6b1dc8528974f5c",
       "version_major": 2,
       "version_minor": 0
      },
      "text/plain": [
       "Downloading:   0%|          | 0.00/150 [00:00<?, ?B/s]"
      ]
     },
     "metadata": {},
     "output_type": "display_data"
    },
    {
     "data": {
      "application/vnd.jupyter.widget-view+json": {
       "model_id": "375e0abdd72f422eb6fdb8adfda3cb20",
       "version_major": 2,
       "version_minor": 0
      },
      "text/plain": [
       "Downloading:   0%|          | 0.00/25.0 [00:00<?, ?B/s]"
      ]
     },
     "metadata": {},
     "output_type": "display_data"
    },
    {
     "data": {
      "text/plain": [
       "[{'score': 0.2260781228542328,\n",
       "  'token': 6979,\n",
       "  'token_str': ' int',\n",
       "  'sequence': 'def returnInt() -> int:'},\n",
       " {'score': 0.15783804655075073,\n",
       "  'token': 5053,\n",
       "  'token_str': ' Any',\n",
       "  'sequence': 'def returnInt() -> Any:'},\n",
       " {'score': 0.1569615751504898,\n",
       "  'token': 9291,\n",
       "  'token_str': ' None',\n",
       "  'sequence': 'def returnInt() -> None:'},\n",
       " {'score': 0.12274446338415146,\n",
       "  'token': 1907,\n",
       "  'token_str': ' type',\n",
       "  'sequence': 'def returnInt() -> type:'},\n",
       " {'score': 0.06580942869186401,\n",
       "  'token': 1666,\n",
       "  'token_str': '...',\n",
       "  'sequence': 'def returnInt() ->...:'}]"
      ]
     },
     "execution_count": 1,
     "metadata": {},
     "output_type": "execute_result"
    }
   ],
   "source": [
    "from transformers import RobertaConfig, RobertaTokenizer, RobertaForMaskedLM, pipeline\n",
    "import torch\n",
    "\n",
    "model = RobertaForMaskedLM.from_pretrained(\"microsoft/codebert-base-mlm\")\n",
    "tokenizer = RobertaTokenizer.from_pretrained(\"microsoft/codebert-base-mlm\")\n",
    "\n",
    "CODE = \"def returnInt() -> <mask>:\"\n",
    "fill_mask = pipeline('fill-mask', model=model, tokenizer=tokenizer)\n",
    "\n",
    "outputs = fill_mask(CODE)\n",
    "outputs"
   ]
  },
  {
   "cell_type": "code",
   "execution_count": 2,
   "id": "7b176b91",
   "metadata": {},
   "outputs": [],
   "source": [
    "class CustomModel(torch.nn.Module):\n",
    "    def __init__(self, model, d, vocabulary_size = 50265): \n",
    "        super(CustomModel, self).__init__() \n",
    "        self.d = d\n",
    "        self.model = model\n",
    "        self.config = model.config\n",
    "        self.layer = torch.nn.Linear(vocabulary_size, d)\n",
    "    \n",
    "    def forward(self, input_ids=None, attention_mask=None):\n",
    "        model_output = self.model.forward(input_ids=input_ids, attention_mask=attention_mask)        \n",
    "        final_output_tensor = self.layer.forward(model_output[0])\n",
    "        model_output.logits = final_output_tensor\n",
    "        \n",
    "        return model_output"
   ]
  },
  {
   "cell_type": "code",
   "execution_count": 3,
   "id": "4dcb017f",
   "metadata": {},
   "outputs": [
    {
     "data": {
      "text/plain": [
       "torch.Size([1, 8, 50265])"
      ]
     },
     "execution_count": 3,
     "metadata": {},
     "output_type": "execute_result"
    }
   ],
   "source": [
    "nl_tokens=tokenizer.tokenize(\"\")\n",
    "code_tokens=tokenizer.tokenize(\"def returnInt() ->\")\n",
    "tokens=[tokenizer.cls_token]+nl_tokens+[tokenizer.sep_token]+code_tokens+[tokenizer.sep_token]\n",
    "tokens_ids=tokenizer.convert_tokens_to_ids(tokens)\n",
    "model(torch.tensor(tokens_ids)[None,:])[0].size()"
   ]
  },
  {
   "cell_type": "code",
   "execution_count": 4,
   "id": "88841175",
   "metadata": {},
   "outputs": [
    {
     "data": {
      "text/plain": [
       "MaskedLMOutput(loss=None, logits=tensor([[[-2.8276e+00,  2.4216e+00,  3.9869e+00, -1.0463e+00,  1.0917e+00],\n",
       "         [-1.2637e+00,  1.0037e+00,  4.2818e+00, -1.4421e+00,  5.5309e-01],\n",
       "         [-1.1521e+00,  9.6312e-01,  4.9411e+00,  1.2044e+00,  1.8036e+00],\n",
       "         [-1.4185e+00,  4.0227e+00,  2.9961e+00, -4.8033e-01,  8.6555e-01],\n",
       "         [-3.3025e+00,  1.0812e+00,  3.2022e+00, -3.3987e+00, -6.3526e-03],\n",
       "         [-1.0949e+00,  2.0268e+00,  7.7756e+00,  9.2707e-01,  3.8056e+00],\n",
       "         [ 6.8033e-01,  4.1091e+00,  4.0951e+00, -9.2743e-01,  3.2098e+00],\n",
       "         [ 2.3712e-01,  1.5028e+00,  3.9121e+00, -4.0188e-01,  1.0961e-01]]],\n",
       "       grad_fn=<ViewBackward0>), hidden_states=None, attentions=None)"
      ]
     },
     "execution_count": 4,
     "metadata": {},
     "output_type": "execute_result"
    }
   ],
   "source": [
    "custom_model = CustomModel(model, 5)\n",
    "custom_model.forward(torch.tensor(tokens_ids)[None,:])\n",
    "\n"
   ]
  },
  {
   "cell_type": "code",
   "execution_count": 5,
   "id": "8d518b12",
   "metadata": {},
   "outputs": [
    {
     "data": {
      "text/plain": [
       "[{'score': 0.9643492698669434,\n",
       "  'token': 1,\n",
       "  'token_str': '<pad>',\n",
       "  'sequence': 'def returnInt() ->:'},\n",
       " {'score': 0.03478380665183067,\n",
       "  'token': 4,\n",
       "  'token_str': '.',\n",
       "  'sequence': 'def returnInt() ->.:'},\n",
       " {'score': 0.0006143652135506272,\n",
       "  'token': 0,\n",
       "  'token_str': '<s>',\n",
       "  'sequence': 'def returnInt() ->:'},\n",
       " {'score': 0.00024761210079304874,\n",
       "  'token': 2,\n",
       "  'token_str': '</s>',\n",
       "  'sequence': 'def returnInt() ->:'},\n",
       " {'score': 4.905385594611289e-06,\n",
       "  'token': 3,\n",
       "  'token_str': '<unk>',\n",
       "  'sequence': 'def returnInt() ->:'}]"
      ]
     },
     "execution_count": 5,
     "metadata": {},
     "output_type": "execute_result"
    }
   ],
   "source": [
    "custom_model = CustomModel(model, 5)\n",
    "fill_mask = pipeline('fill-mask', model=custom_model, tokenizer=tokenizer)\n",
    "\n",
    "outputs = fill_mask(CODE)\n",
    "outputs"
   ]
  },
  {
   "cell_type": "code",
   "execution_count": 6,
   "id": "c65e6177",
   "metadata": {},
   "outputs": [],
   "source": [
    "class TripletLoss(torch.nn.Module):\n",
    "    def __init__(self, margin=1.0):\n",
    "        super(TripletLoss, self).__init__()\n",
    "        self.margin = margin\n",
    "        \n",
    "    def calc_euclidean(self, x1, x2):\n",
    "        return (x1 - x2).pow(2).sum(1)\n",
    "    \n",
    "    def forward(self, anchor: torch.Tensor, positive: torch.Tensor, negative: torch.Tensor) -> torch.Tensor:\n",
    "        distance_positive = self.calc_euclidean(anchor, positive)\n",
    "        distance_negative = self.calc_euclidean(anchor, negative)\n",
    "        losses = torch.relu(distance_positive - distance_negative + self.margin)\n",
    "\n",
    "        return losses.mean()"
   ]
  },
  {
   "cell_type": "code",
   "execution_count": 7,
   "id": "bf172749",
   "metadata": {},
   "outputs": [
    {
     "data": {
      "application/vnd.jupyter.widget-view+json": {
       "model_id": "a0b181b1a2b44e58aa94290a3b42664c",
       "version_major": 2,
       "version_minor": 0
      },
      "text/plain": [
       "Epochs:   0%|          | 0/1 [00:00<?, ?it/s]"
      ]
     },
     "metadata": {},
     "output_type": "display_data"
    }
   ],
   "source": [
    "from tqdm.notebook import tqdm\n",
    "\n",
    "def tokenize_code(code):\n",
    "    nl_tokens = tokenizer.tokenize(\"\")\n",
    "    code_tokens = tokenizer.tokenize(code)\n",
    "    tokens = [tokenizer.cls_token]+nl_tokens+[tokenizer.sep_token]+code_tokens+[tokenizer.sep_token]\n",
    "    tokens_ids = tokenizer.convert_tokens_to_ids(tokens)\n",
    "    return torch.tensor(tokens_ids)[None,:]\n",
    "\n",
    "epochs = 1\n",
    "data = [(\"def returnInt() -> <mask>:\", \"def calcInt() -> <mask>:\",\"def returnFloat() -> <mask>:\", \"int\")]\n",
    "\n",
    "optimizer = torch.optim.Adam(custom_model.parameters(), lr=0.001)\n",
    "criterion = torch.jit.script(TripletLoss())\n",
    "\n",
    "for epoch in tqdm(range(epochs), desc=\"Epochs\"):\n",
    "    custom_model.train()\n",
    "    running_loss = []\n",
    "    for step, (t_a, t_p, t_n, anchor_label) in enumerate(data):\n",
    "        \n",
    "        optimizer.zero_grad()\n",
    "        anchor_out = custom_model(tokenize_code(t_a))\n",
    "        positive_out = custom_model(tokenize_code(t_p))\n",
    "        negative_out = custom_model(tokenize_code(t_n))\n",
    "        \n",
    "        loss = criterion(anchor_out[0], positive_out[0], negative_out[0])\n",
    "        loss.backward()\n",
    "        optimizer.step()"
   ]
  },
  {
   "cell_type": "code",
   "execution_count": 8,
   "id": "2ec5e128",
   "metadata": {},
   "outputs": [
    {
     "data": {
      "text/plain": [
       "[{'score': 1.0,\n",
       "  'token': 3,\n",
       "  'token_str': '<unk>',\n",
       "  'sequence': 'def returnInt() ->:'},\n",
       " {'score': 2.3913810927138346e-13,\n",
       "  'token': 2,\n",
       "  'token_str': '</s>',\n",
       "  'sequence': 'def returnInt() ->:'},\n",
       " {'score': 8.368926076229508e-14,\n",
       "  'token': 0,\n",
       "  'token_str': '<s>',\n",
       "  'sequence': 'def returnInt() ->:'},\n",
       " {'score': 1.6425211836604224e-35,\n",
       "  'token': 1,\n",
       "  'token_str': '<pad>',\n",
       "  'sequence': 'def returnInt() ->:'},\n",
       " {'score': 0.0,\n",
       "  'token': 4,\n",
       "  'token_str': '.',\n",
       "  'sequence': 'def returnInt() ->.:'}]"
      ]
     },
     "execution_count": 8,
     "metadata": {},
     "output_type": "execute_result"
    }
   ],
   "source": [
    "fill_mask = pipeline('fill-mask', model=custom_model, tokenizer=tokenizer)\n",
    "\n",
    "outputs = fill_mask(CODE)\n",
    "outputs"
   ]
  },
  {
   "cell_type": "code",
   "execution_count": 30,
   "id": "c35cbd86",
   "metadata": {},
   "outputs": [],
   "source": [
    "import numpy as np\n",
    "from annoy import AnnoyIndex\n",
    "\n",
    "DEVICE = torch.device('cuda' if torch.cuda.is_available() else 'cpu')\n",
    "KNN_TREE_SIZE = 20\n",
    "\n",
    "def compute_validation_loss_dsl():\n",
    "    with torch.no_grad():\n",
    "        # model.eval()\n",
    "        computed_embed_batches_train = []\n",
    "        computed_embed_labels_train = []\n",
    "        for epoch in tqdm(range(epochs), desc=\"Epochs\"):\n",
    "            for step, (t_a, t_p, t_n, anchor_label) in enumerate(data):\n",
    "                output = custom_model.forward(torch.tensor(tokens_ids)[None,:])\n",
    "                computed_embed_batches_train.append(output.logits.cpu().numpy())\n",
    "                # computed_embed_labels_train.append(t_a[1].logits.cpu().numpy())\n",
    "\n",
    "        annoy_index = create_knn_index(np.vstack(computed_embed_batches_train), None, computed_embed_batches_train[0].shape[1])\n",
    "    return annoy_index\n",
    "\n",
    "def create_knn_index(train_types_embed: np.array, valid_types_embed: np.array, type_embed_dim:int) -> AnnoyIndex:\n",
    "    \"\"\"\n",
    "    Creates KNNs index for given type embedding vectors, taken from Type4Py\n",
    "    \"\"\"\n",
    "\n",
    "    annoy_idx = AnnoyIndex(type_embed_dim, 'euclidean')\n",
    "\n",
    "    for i, v in enumerate(tqdm(train_types_embed, total=len(train_types_embed),\n",
    "                          desc=\"KNN index\")):\n",
    "        print(i)\n",
    "        print(v)\n",
    "        annoy_idx.add_item(i, v)\n",
    "\n",
    "    # if valid_types_embed is not None:\n",
    "    #     for i, v in enumerate(valid_types_embed):\n",
    "    #         annoy_idx.add_item(len(train_types_embed) + i, v)\n",
    "\n",
    "    annoy_idx.build(KNN_TREE_SIZE)\n",
    "    return annoy_idx\n"
   ]
  },
  {
   "cell_type": "code",
   "execution_count": 31,
   "id": "8ac93ac1",
   "metadata": {},
   "outputs": [
    {
     "data": {
      "application/vnd.jupyter.widget-view+json": {
       "model_id": "cadd752e85634887a4b331e1d9d31a2b",
       "version_major": 2,
       "version_minor": 0
      },
      "text/plain": [
       "Epochs:   0%|          | 0/1 [00:00<?, ?it/s]"
      ]
     },
     "metadata": {},
     "output_type": "display_data"
    },
    {
     "data": {
      "application/vnd.jupyter.widget-view+json": {
       "model_id": "4182857d7f50447ead65bb01cd989778",
       "version_major": 2,
       "version_minor": 0
      },
      "text/plain": [
       "KNN index:   0%|          | 0/1 [00:00<?, ?it/s]"
      ]
     },
     "metadata": {},
     "output_type": "display_data"
    },
    {
     "name": "stdout",
     "output_type": "stream",
     "text": [
      "0\n",
      "[[ 26.284954 -23.429432  27.446783  56.30995  -65.48645 ]\n",
      " [ 26.281193 -23.468046  27.453445  56.31244  -65.486244]\n",
      " [ 28.097422 -34.463352  31.892488  58.57457  -72.57966 ]\n",
      " [ 28.29975  -37.697678  33.283176  59.11005  -73.90328 ]\n",
      " [ 23.934975 -33.45297   28.592031  61.48916  -71.910736]\n",
      " [ 31.411812 -34.704235  36.51779   57.64144  -71.293465]\n",
      " [ 28.166185 -39.511665  33.261097  60.465538 -74.42499 ]\n",
      " [ 26.281128 -23.468134  27.45339   56.31243  -65.48622 ]]\n"
     ]
    },
    {
     "ename": "TypeError",
     "evalue": "only size-1 arrays can be converted to Python scalars",
     "output_type": "error",
     "traceback": [
      "\u001b[0;31m---------------------------------------------------------------------------\u001b[0m",
      "\u001b[0;31mTypeError\u001b[0m                                 Traceback (most recent call last)",
      "Cell \u001b[0;32mIn [31], line 1\u001b[0m\n\u001b[0;32m----> 1\u001b[0m annoy_idx \u001b[38;5;241m=\u001b[39m compute_validation_loss_dsl()\n\u001b[1;32m      2\u001b[0m \u001b[38;5;28mprint\u001b[39m(annoy_idx)\n",
      "Cell \u001b[0;32mIn [30], line 18\u001b[0m, in \u001b[0;36mcompute_validation_loss_dsl\u001b[0;34m()\u001b[0m\n\u001b[1;32m     15\u001b[0m             computed_embed_batches_train\u001b[38;5;241m.\u001b[39mappend(output\u001b[38;5;241m.\u001b[39mlogits\u001b[38;5;241m.\u001b[39mcpu()\u001b[38;5;241m.\u001b[39mnumpy())\n\u001b[1;32m     16\u001b[0m             \u001b[38;5;66;03m# computed_embed_labels_train.append(t_a[1].logits.cpu().numpy())\u001b[39;00m\n\u001b[0;32m---> 18\u001b[0m     annoy_index \u001b[38;5;241m=\u001b[39m \u001b[43mcreate_knn_index\u001b[49m\u001b[43m(\u001b[49m\u001b[43mnp\u001b[49m\u001b[38;5;241;43m.\u001b[39;49m\u001b[43mvstack\u001b[49m\u001b[43m(\u001b[49m\u001b[43mcomputed_embed_batches_train\u001b[49m\u001b[43m)\u001b[49m\u001b[43m,\u001b[49m\u001b[43m \u001b[49m\u001b[38;5;28;43;01mNone\u001b[39;49;00m\u001b[43m,\u001b[49m\u001b[43m \u001b[49m\u001b[43mcomputed_embed_batches_train\u001b[49m\u001b[43m[\u001b[49m\u001b[38;5;241;43m0\u001b[39;49m\u001b[43m]\u001b[49m\u001b[38;5;241;43m.\u001b[39;49m\u001b[43mshape\u001b[49m\u001b[43m[\u001b[49m\u001b[38;5;241;43m1\u001b[39;49m\u001b[43m]\u001b[49m\u001b[43m)\u001b[49m\n\u001b[1;32m     19\u001b[0m \u001b[38;5;28;01mreturn\u001b[39;00m annoy_index\n",
      "Cell \u001b[0;32mIn [30], line 32\u001b[0m, in \u001b[0;36mcreate_knn_index\u001b[0;34m(train_types_embed, valid_types_embed, type_embed_dim)\u001b[0m\n\u001b[1;32m     30\u001b[0m     \u001b[38;5;28mprint\u001b[39m(i)\n\u001b[1;32m     31\u001b[0m     \u001b[38;5;28mprint\u001b[39m(v)\n\u001b[0;32m---> 32\u001b[0m     \u001b[43mannoy_idx\u001b[49m\u001b[38;5;241;43m.\u001b[39;49m\u001b[43madd_item\u001b[49m\u001b[43m(\u001b[49m\u001b[43mi\u001b[49m\u001b[43m,\u001b[49m\u001b[43m \u001b[49m\u001b[43mv\u001b[49m\u001b[43m)\u001b[49m\n\u001b[1;32m     34\u001b[0m \u001b[38;5;66;03m# if valid_types_embed is not None:\u001b[39;00m\n\u001b[1;32m     35\u001b[0m \u001b[38;5;66;03m#     for i, v in enumerate(valid_types_embed):\u001b[39;00m\n\u001b[1;32m     36\u001b[0m \u001b[38;5;66;03m#         annoy_idx.add_item(len(train_types_embed) + i, v)\u001b[39;00m\n\u001b[1;32m     38\u001b[0m annoy_idx\u001b[38;5;241m.\u001b[39mbuild(KNN_TREE_SIZE)\n",
      "\u001b[0;31mTypeError\u001b[0m: only size-1 arrays can be converted to Python scalars"
     ]
    }
   ],
   "source": [
    "annoy_idx = compute_validation_loss_dsl()\n",
    "print(annoy_idx)"
   ]
  }
 ],
 "metadata": {
  "kernelspec": {
   "display_name": "Python 3.10.6 ('venv': venv)",
   "language": "python",
   "name": "python3"
  },
  "language_info": {
   "codemirror_mode": {
    "name": "ipython",
    "version": 3
   },
   "file_extension": ".py",
   "mimetype": "text/x-python",
   "name": "python",
   "nbconvert_exporter": "python",
   "pygments_lexer": "ipython3",
   "version": "3.10.6"
  },
  "vscode": {
   "interpreter": {
    "hash": "b898463808f7de9d8eed8bf188ff18ea42a72c5d898f7e9a1365e818ae4a9ee4"
   }
  }
 },
 "nbformat": 4,
 "nbformat_minor": 5
}
