{
 "cells": [
  {
   "cell_type": "code",
   "execution_count": 33,
   "id": "a12c8f9c",
   "metadata": {},
   "outputs": [
    {
     "data": {
      "text/plain": [
       "[{'score': 0.2260781228542328,\n",
       "  'token': 6979,\n",
       "  'token_str': ' int',\n",
       "  'sequence': 'def returnInt() -> int:'},\n",
       " {'score': 0.15783804655075073,\n",
       "  'token': 5053,\n",
       "  'token_str': ' Any',\n",
       "  'sequence': 'def returnInt() -> Any:'},\n",
       " {'score': 0.1569615751504898,\n",
       "  'token': 9291,\n",
       "  'token_str': ' None',\n",
       "  'sequence': 'def returnInt() -> None:'},\n",
       " {'score': 0.12274446338415146,\n",
       "  'token': 1907,\n",
       "  'token_str': ' type',\n",
       "  'sequence': 'def returnInt() -> type:'},\n",
       " {'score': 0.06580942869186401,\n",
       "  'token': 1666,\n",
       "  'token_str': '...',\n",
       "  'sequence': 'def returnInt() ->...:'}]"
      ]
     },
     "execution_count": 33,
     "metadata": {},
     "output_type": "execute_result"
    }
   ],
   "source": [
    "from transformers import RobertaConfig, RobertaTokenizer, RobertaForMaskedLM, pipeline\n",
    "import torch\n",
    "\n",
    "model = RobertaForMaskedLM.from_pretrained(\"microsoft/codebert-base-mlm\")\n",
    "tokenizer = RobertaTokenizer.from_pretrained(\"microsoft/codebert-base-mlm\")\n",
    "\n",
    "CODE = \"def returnInt() -> <mask>:\"\n",
    "fill_mask = pipeline('fill-mask', model=model, tokenizer=tokenizer)\n",
    "\n",
    "outputs = fill_mask(CODE)\n",
    "outputs"
   ]
  },
  {
   "cell_type": "code",
   "execution_count": 34,
   "id": "7b176b91",
   "metadata": {},
   "outputs": [],
   "source": [
    "class CustomModel(torch.nn.Module):\n",
    "    def __init__(self, model, d, vocabulary_size = 50265): \n",
    "        super(CustomModel, self).__init__() \n",
    "        self.d = d\n",
    "        self.model = model\n",
    "        self.config = model.config\n",
    "        self.layer = torch.nn.Linear(vocabulary_size, d)\n",
    "    \n",
    "    def forward(self, input_ids=None, attention_mask=None):\n",
    "        model_output = self.model.forward(input_ids=input_ids, attention_mask=attention_mask)        \n",
    "        final_output_tensor = self.layer.forward(model_output[0])\n",
    "        model_output.logits = final_output_tensor\n",
    "        return model_output"
   ]
  },
  {
   "cell_type": "code",
   "execution_count": 35,
   "id": "4dcb017f",
   "metadata": {},
   "outputs": [
    {
     "data": {
      "text/plain": [
       "tensor(13.4799, grad_fn=<SelectBackward0>)"
      ]
     },
     "execution_count": 35,
     "metadata": {},
     "output_type": "execute_result"
    }
   ],
   "source": [
    "nl_tokens=tokenizer.tokenize(\"\")\n",
    "code_tokens=tokenizer.tokenize(\"def returnInt() -> <mask>\")\n",
    "tokens=[tokenizer.cls_token]+nl_tokens+[tokenizer.sep_token]+code_tokens+[tokenizer.sep_token]\n",
    "tokens_ids=tokenizer.convert_tokens_to_ids(tokens)\n",
    "output = model(torch.tensor(tokens_ids)[None,:])[0]\n",
    "# tokens[7]\n",
    "output[0][7][torch.argmax(output[0][7])]"
   ]
  },
  {
   "cell_type": "code",
   "execution_count": 36,
   "id": "88841175",
   "metadata": {},
   "outputs": [
    {
     "data": {
      "text/plain": [
       "MaskedLMOutput(loss=None, logits=tensor([[[-9.5757e-01,  4.0185e-01,  1.6400e-01, -1.6877e+00,  7.0705e-01,\n",
       "           2.5099e+00,  1.4349e+00,  1.1156e+00],\n",
       "         [-1.5685e+00,  1.8493e+00, -1.0181e+00, -1.1429e+00,  1.4097e+00,\n",
       "           2.0580e+00, -6.7345e-01,  3.6960e-01],\n",
       "         [-1.1213e+00,  3.8167e+00, -8.0053e-01, -2.3354e-01, -8.6537e-01,\n",
       "           3.7011e+00,  2.5471e-01,  6.3558e-01],\n",
       "         [-4.0530e+00, -1.6602e+00, -9.5008e-01, -1.0846e-01,  3.1014e+00,\n",
       "           3.9293e+00,  1.4203e-03,  2.1470e+00],\n",
       "         [ 3.1931e+00, -8.0419e-01, -6.1936e-02, -1.7952e+00,  6.3725e-01,\n",
       "           1.3534e+00,  1.6296e+00, -6.4972e-01],\n",
       "         [ 1.2609e+00,  4.6863e+00, -2.5809e+00, -2.5047e+00, -1.1010e+00,\n",
       "           1.1595e+00,  3.3692e+00, -2.8049e-01],\n",
       "         [-2.7581e+00, -1.8081e-01, -2.2230e+00, -4.9168e-01,  3.1385e+00,\n",
       "           3.4737e+00,  1.3601e+00,  3.3062e+00],\n",
       "         [-2.2129e+00, -1.5894e+00, -1.1046e+00,  1.0554e+00,  4.7831e-01,\n",
       "           2.5344e+00,  1.9514e+00,  1.4861e+00],\n",
       "         [-4.2488e-01,  3.2293e-01, -7.3689e-01, -2.4943e-01,  4.1237e-01,\n",
       "           2.1033e+00,  3.3375e+00,  5.2760e-01]]], grad_fn=<ViewBackward0>), hidden_states=None, attentions=None)"
      ]
     },
     "execution_count": 36,
     "metadata": {},
     "output_type": "execute_result"
    }
   ],
   "source": [
    "custom_model = CustomModel(model, 8)\n",
    "custom_model.forward(torch.tensor(tokens_ids)[None,:])\n",
    "\n"
   ]
  },
  {
   "cell_type": "code",
   "execution_count": 37,
   "id": "8d518b12",
   "metadata": {},
   "outputs": [
    {
     "data": {
      "text/plain": [
       "[{'score': 0.6114524602890015,\n",
       "  'token': 1,\n",
       "  'token_str': '<pad>',\n",
       "  'sequence': 'def returnInt() ->:'},\n",
       " {'score': 0.2869931161403656,\n",
       "  'token': 3,\n",
       "  'token_str': '<unk>',\n",
       "  'sequence': 'def returnInt() ->:'},\n",
       " {'score': 0.03550773859024048,\n",
       "  'token': 6,\n",
       "  'token_str': ',',\n",
       "  'sequence': 'def returnInt() ->,:'},\n",
       " {'score': 0.029577510431408882,\n",
       "  'token': 0,\n",
       "  'token_str': '<s>',\n",
       "  'sequence': 'def returnInt() ->:'},\n",
       " {'score': 0.01907293312251568,\n",
       "  'token': 4,\n",
       "  'token_str': '.',\n",
       "  'sequence': 'def returnInt() ->.:'}]"
      ]
     },
     "execution_count": 37,
     "metadata": {},
     "output_type": "execute_result"
    }
   ],
   "source": [
    "custom_model = CustomModel(model, 8)\n",
    "fill_mask = pipeline('fill-mask', model=custom_model, tokenizer=tokenizer)\n",
    "\n",
    "outputs = fill_mask(CODE)\n",
    "outputs"
   ]
  },
  {
   "cell_type": "code",
   "execution_count": 38,
   "id": "0dd1e05b",
   "metadata": {},
   "outputs": [],
   "source": [
    "input_list = [\n",
    "    \"def returnInt() -> <mask>: \\n\\t x: int = 42 \\n\\t return x\",\n",
    "    \"def setInt(self, x: int) -> <mask>: \\n\\t self.x = x\",\n",
    "    \"def getInt(self) -> <mask>: \\n\\t return self.x\",\n",
    "    \"def concatString(self, s1: str, s2: str) -> <mask>: \\n\\t return s1 + s2\",\n",
    "    \"def setStr(self, s: str) -> <mask>: \\n\\t self.s = s\",\n",
    "    \"def getStr(self) -> <mask>: \\n\\t return self.s\",\n",
    "    \"def isInt(self, x) -> <mask>: \\n\\t return x % 1 == 0\",\n",
    "    \"def doSomething() -> <mask>: \\n\\t pass\",\n",
    "    \"def isString(self, s) -> <mask>: \\n\\t return type(s, str)\"\n",
    "]\n",
    "\n",
    "labels = [\n",
    "    \"int\",\n",
    "    \"None\",\n",
    "    \"int\",\n",
    "    \"str\",\n",
    "    \"None\",\n",
    "    \"str\",\n",
    "    \"bool\",\n",
    "    \"None\",\n",
    "    \"bool\"\n",
    "]"
   ]
  },
  {
   "cell_type": "code",
   "execution_count": 39,
   "id": "c65e6177",
   "metadata": {},
   "outputs": [],
   "source": [
    "class TripletLoss(torch.nn.Module):\n",
    "    def __init__(self, margin=1.0):\n",
    "        super(TripletLoss, self).__init__()\n",
    "        self.margin = margin\n",
    "        \n",
    "    def calc_euclidean(self, x1, x2):\n",
    "        return (x1 - x2).pow(2).sum(1)\n",
    "    \n",
    "    def forward(self, anchor: torch.Tensor, positive: torch.Tensor, negative: torch.Tensor) -> torch.Tensor:\n",
    "        distance_positive = self.calc_euclidean(anchor, positive)\n",
    "        distance_negative = self.calc_euclidean(anchor, negative)\n",
    "        losses = torch.relu(distance_positive - distance_negative + self.margin)\n",
    "\n",
    "        return losses.mean()"
   ]
  },
  {
   "cell_type": "code",
   "execution_count": 40,
   "id": "df96468d",
   "metadata": {},
   "outputs": [],
   "source": [
    "from torch.utils.data import TensorDataset\n",
    "from typing import Tuple\n",
    "\n",
    "class TripletDataset(torch.utils.data.Dataset):\n",
    "\n",
    "    def __init__(self, *in_sequences: torch.Tensor, labels: torch.Tensor, dataset_name: str,\n",
    "                 train_mode: bool=True):\n",
    "        self.data = TensorDataset(*in_sequences)\n",
    "        self.labels = labels\n",
    "        self.dataset_name = dataset_name\n",
    "        self.train_mode = train_mode\n",
    "\n",
    "        self.get_item_func = self.get_item_train if self.train_mode else self.get_item_test\n",
    "\n",
    "    def get_item_train(self, index: int) -> Tuple[Tuple[torch.Tensor, torch.Tensor],\n",
    "                                         Tuple[torch.Tensor, torch.Tensor], Tuple[torch.Tensor, torch.Tensor]]:\n",
    "        \"\"\"\n",
    "        It returns three tuples. Each one is a (data, label)\n",
    "         - The first tuple is (data, label) at the given index\n",
    "         - The second tuple is similar (data, label) to the given index\n",
    "         - The third tuple is different (data, label) from the given index \n",
    "        \"\"\"\n",
    "\n",
    "         # Find a similar datapoint randomly\n",
    "        mask = self.labels == self.labels[index]\n",
    "        mask[index] = False # Making sure that the similar pair is NOT the same as the given index\n",
    "        mask = mask.nonzero()\n",
    "        a = mask[torch.randint(high=len(mask), size=(1,))][0]\n",
    "\n",
    "        # Find a different datapoint randomly\n",
    "        mask = self.labels != self.labels[index]\n",
    "        mask = mask.nonzero()\n",
    "        b = mask[torch.randint(high=len(mask), size=(1,))][0]\n",
    "        \n",
    "        return (self.data[index], self.labels[index]), (self.data[a.item()], self.labels[a.item()]), \\\n",
    "               (self.data[b.item()], self.labels[b.item()])\n",
    "\n",
    "    def get_item_test(self, index: int) -> Tuple[Tuple[torch.Tensor, torch.Tensor], list, list]:\n",
    "        return (self.data[index], self.labels[index]), [], []\n",
    "    \n",
    "    def __getitem__(self, index: int) -> Tuple[Tuple[torch.Tensor, torch.Tensor],\n",
    "                                         Tuple[torch.Tensor, torch.Tensor], Tuple[torch.Tensor, torch.Tensor]]:\n",
    "         return self.get_item_func(index)\n",
    "\n",
    "    def __len__(self) -> int:\n",
    "        return len(self.data)"
   ]
  },
  {
   "cell_type": "code",
   "execution_count": 41,
   "id": "ff651a7f",
   "metadata": {},
   "outputs": [],
   "source": [
    "import random\n",
    "\n",
    "def make_triplet(input, labels, index):\n",
    "    pos_labels = []\n",
    "    neg_labels = []\n",
    "    for i, l in enumerate(labels):\n",
    "        if not i == index:\n",
    "            if l == labels[index]:\n",
    "                pos_labels.append(i)\n",
    "            else:\n",
    "                neg_labels.append(i)\n",
    "\n",
    "    return input[index], input[pos_labels[random.randint(0, len(pos_labels)-1)]], input[neg_labels[random.randint(0, len(neg_labels)-1)]]\n",
    "\n",
    "def make_data(input, labels):\n",
    "    data = []\n",
    "    for i in range(len(input)):\n",
    "        data.append(make_triplet(input, labels, i))\n",
    "    return data"
   ]
  },
  {
   "cell_type": "code",
   "execution_count": 42,
   "id": "bf172749",
   "metadata": {},
   "outputs": [
    {
     "data": {
      "application/vnd.jupyter.widget-view+json": {
       "model_id": "5863013560d54492b65073d325f6bcc5",
       "version_major": 2,
       "version_minor": 0
      },
      "text/plain": [
       "Epochs:   0%|          | 0/1 [00:00<?, ?it/s]"
      ]
     },
     "metadata": {},
     "output_type": "display_data"
    },
    {
     "name": "stdout",
     "output_type": "stream",
     "text": [
      "tensor([    0,     2,  9232,   671, 22886, 43048, 43839, 50264,    35,  1437,\n",
      "        50118, 50117,  3023,    35,  6979,  5457,  3330,  1437, 50118, 50117,\n",
      "          671,  3023,     2])\n",
      "tensor([    0,     2,  9232,   278, 22886,  1640, 13367,     6,  3023,    35,\n",
      "         6979,    43, 43839, 50264,    35,  1437, 50118, 50117,  1403,     4,\n",
      "         1178,  5457,  3023,     2])\n",
      "tensor([    0,     2,  9232,   120, 22886,  1640, 13367,    43, 43839, 50264,\n",
      "           35,  1437, 50118, 50117,   671,  1403,     4,  1178,     2,     0,\n",
      "            0,     0,     0,     0,     0,     0,     0,     0,     0,     0,\n",
      "            0,     0])\n",
      "tensor([    0,     2,  9232, 10146,   415, 34222,  1640, 13367,     6,   579,\n",
      "          134,    35,  7031,     6,   579,   176,    35,  7031,    43, 43839,\n",
      "        50264,    35,  1437, 50118, 50117,   671,   579,   134,  2055,   579,\n",
      "          176,     2])\n",
      "tensor([    0,     2,  9232,   278, 29116,  1640, 13367,     6,   579,    35,\n",
      "         7031,    43, 43839, 50264,    35,  1437, 50118, 50117,  1403,     4,\n",
      "           29,  5457,   579,     2])\n",
      "tensor([    0,     2,  9232,   120, 29116,  1640, 13367,    43, 43839, 50264,\n",
      "           35,  1437, 50118, 50117,   671,  1403,     4,    29,     2,     0,\n",
      "            0,     0,     0,     0,     0,     0,     0,     0,     0,     0,\n",
      "            0,     0])\n",
      "tensor([    0,     2,  9232,    16, 22886,  1640, 13367,     6,  3023,    43,\n",
      "        43839, 50264,    35,  1437, 50118, 50117,   671,  3023,  7606,   112,\n",
      "        45994,   321,     2,     0])\n",
      "tensor([    0,     2,  9232,   109, 27827, 43048, 43839, 50264,    35,  1437,\n",
      "        50118, 50117,  1323,     2,     0,     0,     0,     0,     0,     0,\n",
      "            0,     0,     0,     0])\n",
      "tensor([    0,     2,  9232,    16, 34222,  1640, 13367,     6,   579,    43,\n",
      "        43839, 50264,    35,  1437, 50118, 50117,   671,  1907,  1640,    29,\n",
      "            6,  7031,    43,     2])\n"
     ]
    }
   ],
   "source": [
    "from regex import P\n",
    "from tqdm.notebook import tqdm\n",
    "from torch.nn.utils.rnn import pad_sequence, unpad_sequence\n",
    "\n",
    "def tokenize_code(code):\n",
    "    nl_tokens = tokenizer.tokenize(\"\")\n",
    "    code_tokens = tokenizer.tokenize(code)\n",
    "    tokens = [tokenizer.cls_token]+nl_tokens+[tokenizer.sep_token]+code_tokens+[tokenizer.sep_token]\n",
    "    tokens_ids = tokenizer.convert_tokens_to_ids(tokens)\n",
    "    return torch.tensor(tokens_ids)[None,:]\n",
    "\n",
    "# def tokenize_input(input):\n",
    "#     token_ids_list = torch.Tensor()\n",
    "#     for code in input:\n",
    "#         nl_tokens = tokenizer.tokenize(\"\")\n",
    "#         code_tokens = tokenizer.tokenize(code)\n",
    "#         tokens = [tokenizer.cls_token]+nl_tokens+[tokenizer.sep_token]+code_tokens+[tokenizer.sep_token]\n",
    "#         tokens_ids = tokenizer.convert_tokens_to_ids(tokens)\n",
    "#         token_ids_list = torch.cat((token_ids_list, torch.tensor(tokens_ids)), 0)\n",
    "#     # print(token_ids_list)\n",
    "#     # data = pad_sequence(token_ids_list, batch_first=True)\n",
    "#     # print(data)\n",
    "#     return token_ids_list\n",
    "\n",
    "epochs = 1\n",
    "# data = [(\"def returnInt() -> <mask>:\", \"def calcInt() -> <mask>:\",\"def returnFloat() -> <mask>:\", \"int\")]\n",
    "# tokenized_input = tokenize_input(input_list)\n",
    "# tokenized_labels = tokenize_input(labels)\n",
    "# print(tokenized_input)\n",
    "# print(tokenized_labels[0])\n",
    "# data = TripletDataset(tokenized_input, labels=tokenized_labels, dataset_name=\"test\")\n",
    "# print(data.get_item_train(0))\n",
    "data = make_data(input_list, labels)\n",
    "# print(data)\n",
    "optimizer = torch.optim.Adam(custom_model.parameters(), lr=0.001)\n",
    "criterion = torch.jit.script(TripletLoss())\n",
    "\n",
    "for epoch in tqdm(range(epochs), desc=\"Epochs\"):\n",
    "    custom_model.train()\n",
    "    running_loss = []\n",
    "    for step, (t_a, t_p, t_n) in enumerate(data):\n",
    "        \n",
    "        #  = data.get_item_train(step)\n",
    "        # print(tokenize_code(t_a))\n",
    "        # print(tokenize_code(t_p))\n",
    "        # print(tokenize_code(t_n))\n",
    "\n",
    "        l = [tokenize_code(t_a)[0], tokenize_code(t_p)[0], tokenize_code(t_n)[0]]\n",
    "        l = pad_sequence(l, batch_first=True)\n",
    "        print(l[0])\n",
    "        \n",
    "        optimizer.zero_grad()\n",
    "        anchor_out = custom_model(l[0][None,:])\n",
    "        positive_out = custom_model(l[1][None,:])\n",
    "        negative_out = custom_model(l[2][None,:])\n",
    "        \n",
    "        loss = criterion(anchor_out[0], positive_out[0], negative_out[0])\n",
    "        loss.backward()\n",
    "        optimizer.step()"
   ]
  },
  {
   "cell_type": "code",
   "execution_count": 43,
   "id": "2ec5e128",
   "metadata": {},
   "outputs": [
    {
     "data": {
      "text/plain": [
       "[{'score': 1.0,\n",
       "  'token': 0,\n",
       "  'token_str': '<s>',\n",
       "  'sequence': 'def returnInt() ->:'},\n",
       " {'score': 4.295258014329576e-23,\n",
       "  'token': 7,\n",
       "  'token_str': ' to',\n",
       "  'sequence': 'def returnInt() -> to:'},\n",
       " {'score': 0.0,\n",
       "  'token': 6,\n",
       "  'token_str': ',',\n",
       "  'sequence': 'def returnInt() ->,:'},\n",
       " {'score': 0.0,\n",
       "  'token': 5,\n",
       "  'token_str': ' the',\n",
       "  'sequence': 'def returnInt() -> the:'},\n",
       " {'score': 0.0,\n",
       "  'token': 4,\n",
       "  'token_str': '.',\n",
       "  'sequence': 'def returnInt() ->.:'}]"
      ]
     },
     "execution_count": 43,
     "metadata": {},
     "output_type": "execute_result"
    }
   ],
   "source": [
    "fill_mask = pipeline('fill-mask', model=custom_model, tokenizer=tokenizer)\n",
    "\n",
    "outputs = fill_mask(CODE)\n",
    "outputs"
   ]
  },
  {
   "cell_type": "code",
   "execution_count": 44,
   "id": "43dd5c6c",
   "metadata": {},
   "outputs": [
    {
     "name": "stdout",
     "output_type": "stream",
     "text": [
      "[5]\n",
      "[11]\n",
      "[7]\n",
      "[18]\n"
     ]
    },
    {
     "data": {
      "application/vnd.jupyter.widget-view+json": {
       "model_id": "cafb9760787d4da9a565cbc86ab189f4",
       "version_major": 2,
       "version_minor": 0
      },
      "text/plain": [
       "KNN index:   0%|          | 0/4 [00:00<?, ?it/s]"
      ]
     },
     "metadata": {},
     "output_type": "display_data"
    },
    {
     "name": "stdout",
     "output_type": "stream",
     "text": [
      "[145.42784  -29.278706  45.338547 -30.66457   18.99699   39.224346\n",
      "  40.825054 103.400734]\n",
      "[156.02185  -32.93112   38.885925 -41.234108  30.782158  37.38632\n",
      "  49.57484  104.4173  ]\n",
      "[148.68427  -32.9436    39.215916 -36.328114  27.086197  36.987328\n",
      "  41.257534 103.47224 ]\n",
      "[161.6432   -34.169556  38.239708 -40.985474  29.513176  38.65199\n",
      "  48.715927 109.535225]\n",
      "<annoy.Annoy object at 0x7f88678083f0>\n"
     ]
    }
   ],
   "source": [
    "import numpy as np\n",
    "from annoy import AnnoyIndex\n",
    "from torch.utils.data import DataLoader\n",
    "import random\n",
    "from collections import defaultdict\n",
    "import time\n",
    "\n",
    "DEVICE = torch.device('cuda' if torch.cuda.is_available() else 'cpu')\n",
    "KNN_TREE_SIZE = 20\n",
    "DISTANCE_METRIC = 'euclidean'\n",
    "\n",
    "\n",
    "def create_type_space(inputs=input_list[:4], labels=labels[:4]):\n",
    "    \"\"\"\n",
    "    Creates the type space based on the inputs and their corresponding labels\n",
    "    \"\"\"\n",
    "    \n",
    "    # Make sure imputs are labeled\n",
    "    assert len(inputs) == len(labels)\n",
    "    \n",
    "    # Cache the type space mappings\n",
    "    computed_mapped_batches_train = []\n",
    "    with torch.no_grad():\n",
    "        \n",
    "        # Iterate through the data set\n",
    "        for inp, label in zip(inputs, labels):\n",
    "            \n",
    "            # Tokenize the code\n",
    "            nl_tokens = tokenizer.tokenize(\"\")\n",
    "            code_tokens = tokenizer.tokenize(inp)\n",
    "            tokens=[tokenizer.cls_token]+nl_tokens+[tokenizer.sep_token]+code_tokens+[tokenizer.sep_token]\n",
    "            tokens_ids=tokenizer.convert_tokens_to_ids(tokens)\n",
    "            \n",
    "            # Get the type space mapping from the model\n",
    "            output = custom_model.forward(torch.tensor(tokens_ids)[None,:])\n",
    "            \n",
    "            # Select masked tokens\n",
    "            masked_tokens = [c for c, token in enumerate(code_tokens) if token == \"<mask>\"]\n",
    "            \n",
    "            print(masked_tokens)\n",
    "            \n",
    "            # For this version, assume only one mask\n",
    "            assert len(masked_tokens) == 1\n",
    "            \n",
    "            # Selected only the masked tokens from the output\n",
    "            vals = output.logits.cpu().numpy()\n",
    "            predicted_masks = [vals[0][i] for i in masked_tokens]\n",
    "            \n",
    "            # Cache the mapping of the masked token only\n",
    "            computed_mapped_batches_train.append(predicted_masks)\n",
    "        \n",
    "        # Create the type space\n",
    "        annoy_index = create_knn_index(computed_mapped_batches_train, None, computed_mapped_batches_train[0][0].size)\n",
    "    return annoy_index\n",
    "\n",
    "def create_knn_index(train_types_embed: np.array, valid_types_embed: np.array, type_embed_dim:int) -> AnnoyIndex:\n",
    "    \"\"\"\n",
    "    Creates KNNs index for given type embedding vectors, taken from Type4Py\n",
    "    \"\"\"\n",
    "    \n",
    "    annoy_idx = AnnoyIndex(type_embed_dim, DISTANCE_METRIC)\n",
    "\n",
    "    for i, v in enumerate(tqdm(train_types_embed, total=len(train_types_embed), desc=\"KNN index\")):\n",
    "        print(v[0])\n",
    "        annoy_idx.add_item(i, v[0])\n",
    "\n",
    "    annoy_idx.build(KNN_TREE_SIZE)\n",
    "    return annoy_idx\n",
    "\n",
    "annoy_idx = create_type_space()\n",
    "print(annoy_idx)"
   ]
  },
  {
   "cell_type": "code",
   "execution_count": 45,
   "id": "113df0f0",
   "metadata": {},
   "outputs": [
    {
     "data": {
      "application/vnd.jupyter.widget-view+json": {
       "model_id": "8544a67031f64d3ba9986408287921a0",
       "version_major": 2,
       "version_minor": 0
      },
      "text/plain": [
       "Finding KNNs & Prediction:   0%|          | 0/4 [00:00<?, ?it/s]"
      ]
     },
     "metadata": {},
     "output_type": "display_data"
    },
    {
     "name": "stdout",
     "output_type": "stream",
     "text": [
      "['def returnInt() -> <mask>: \\n\\t x: int = 42 \\n\\t return x', 'def setInt(self, x: int) -> <mask>: \\n\\t self.x = x', 'def getInt(self) -> <mask>: \\n\\t return self.x', 'def concatString(self, s1: str, s2: str) -> <mask>: \\n\\t return s1 + s2']\n",
      "['int', 'None', 'int', 'str']\n",
      "[[('int', 0.5271375653386224), ('None', 0.4728624346613775)], [('int', 1.0)], [('int', 1.0)], [('int', 0.5739985440616903), ('None', 0.4260014559383097)]]\n"
     ]
    }
   ],
   "source": [
    "def map_type(inputs=input_list[:4]):\n",
    "    \"\"\"\n",
    "    Maps an input to the type space\n",
    "    \"\"\"\n",
    "    with torch.no_grad():\n",
    "        computed_embed_batches_test = []\n",
    "        computed_embed_labels_test = []\n",
    "        \n",
    "        for inp in inputs:\n",
    "\n",
    "            # Tokenize the code\n",
    "            nl_tokens = tokenizer.tokenize(\"\")\n",
    "            code_tokens = tokenizer.tokenize(inp)\n",
    "            tokens=[tokenizer.cls_token]+nl_tokens+[tokenizer.sep_token]+code_tokens+[tokenizer.sep_token]\n",
    "            tokens_ids=tokenizer.convert_tokens_to_ids(tokens)\n",
    "            \n",
    "            # Get the type space mapping from the model\n",
    "            output = custom_model.forward(torch.tensor(tokens_ids)[None,:])\n",
    "            \n",
    "            # Select masked tokens\n",
    "            masked_tokens = [c for c, token in enumerate(code_tokens) if token == \"<mask>\"]\n",
    "            \n",
    "            # For this version, assume only one mask\n",
    "            assert len(masked_tokens) == 1\n",
    "            \n",
    "            # Selected only the masked tokens from the output\n",
    "            vals = output.logits.cpu().numpy()\n",
    "            predicted_masks = [vals[0][i] for i in masked_tokens]\n",
    "\n",
    "            # Cache the mapping of the masked token only\n",
    "            computed_embed_batches_test.append(predicted_masks)\n",
    "        \n",
    "        return computed_embed_batches_test\n",
    "\n",
    "def predict_type(types_embed_array: np.array, types_embed_labels: np.array, indexed_knn: AnnoyIndex, k: int):\n",
    "    \"\"\"\n",
    "    Predict type of given type embedding vectors\n",
    "    \"\"\"\n",
    "\n",
    "    pred_types_embed = []\n",
    "    pred_types_score = []\n",
    "    for i, embed_vec in enumerate(tqdm(types_embed_array, total=len(types_embed_array), desc=\"Finding KNNs & Prediction\")):\n",
    "        \n",
    "        # Get the distances to the KNN\n",
    "        idx, dist = indexed_knn.get_nns_by_vector(embed_vec[0], k, include_distances=True)\n",
    "        \n",
    "        # Compute the scores according to the formula\n",
    "        pred_idx_scores = compute_types_score(dist, idx, types_embed_labels)\n",
    "        \n",
    "        # Cache the scores and the labels\n",
    "        pred_types_embed.append([i for (i, s) in pred_idx_scores])\n",
    "        pred_types_score.append(pred_idx_scores)\n",
    "    \n",
    "    return pred_types_embed, pred_types_score\n",
    "\n",
    "def compute_types_score(types_dist: list, types_idx: list, types_embed_labels: np.array):\n",
    "        types_dist = 1 / (np.array(types_dist) + 1e-10) ** 2\n",
    "        types_dist /= np.sum(types_dist)\n",
    "        types_score = defaultdict(int)\n",
    "        for n, d in zip(types_idx, types_dist):\n",
    "            types_score[types_embed_labels[n]] += d\n",
    "        \n",
    "        return sorted({t: s for t, s in types_score.items()}.items(), key=lambda kv: kv[1], reverse=True)\n",
    "    \n",
    "types_embed_array = map_type()\n",
    "knn_K = 2\n",
    "pred_type_embed, pred_type_score = predict_type(types_embed_array, labels[:4], annoy_idx, knn_K,)\n",
    "print(input_list[:4])\n",
    "print(labels[:4])\n",
    "print(pred_type_score)"
   ]
  },
  {
   "cell_type": "code",
   "execution_count": null,
   "id": "82a80ff3",
   "metadata": {},
   "outputs": [],
   "source": []
  }
 ],
 "metadata": {
  "kernelspec": {
   "display_name": "Python 3 (ipykernel)",
   "language": "python",
   "name": "python3"
  },
  "language_info": {
   "codemirror_mode": {
    "name": "ipython",
    "version": 3
   },
   "file_extension": ".py",
   "mimetype": "text/x-python",
   "name": "python",
   "nbconvert_exporter": "python",
   "pygments_lexer": "ipython3",
   "version": "3.10.6"
  },
  "vscode": {
   "interpreter": {
    "hash": "b898463808f7de9d8eed8bf188ff18ea42a72c5d898f7e9a1365e818ae4a9ee4"
   }
  }
 },
 "nbformat": 4,
 "nbformat_minor": 5
}
