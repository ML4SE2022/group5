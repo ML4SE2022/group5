{
 "cells": [
  {
   "cell_type": "code",
   "execution_count": 1,
   "id": "a12c8f9c",
   "metadata": {},
   "outputs": [
    {
     "data": {
      "text/plain": [
       "[{'score': 0.2260766625404358,\n",
       "  'token': 6979,\n",
       "  'token_str': ' int',\n",
       "  'sequence': 'def returnInt() -> int:'},\n",
       " {'score': 0.157838374376297,\n",
       "  'token': 5053,\n",
       "  'token_str': ' Any',\n",
       "  'sequence': 'def returnInt() -> Any:'},\n",
       " {'score': 0.156962051987648,\n",
       "  'token': 9291,\n",
       "  'token_str': ' None',\n",
       "  'sequence': 'def returnInt() -> None:'},\n",
       " {'score': 0.1227448433637619,\n",
       "  'token': 1907,\n",
       "  'token_str': ' type',\n",
       "  'sequence': 'def returnInt() -> type:'},\n",
       " {'score': 0.06580957025289536,\n",
       "  'token': 1666,\n",
       "  'token_str': '...',\n",
       "  'sequence': 'def returnInt() ->...:'}]"
      ]
     },
     "execution_count": 1,
     "metadata": {},
     "output_type": "execute_result"
    }
   ],
   "source": [
    "from transformers import RobertaConfig, RobertaTokenizer, RobertaForMaskedLM, pipeline\n",
    "import torch\n",
    "\n",
    "model = RobertaForMaskedLM.from_pretrained(\"microsoft/codebert-base-mlm\")\n",
    "tokenizer = RobertaTokenizer.from_pretrained(\"microsoft/codebert-base-mlm\")\n",
    "\n",
    "CODE = \"def returnInt() -> <mask>:\"\n",
    "fill_mask = pipeline('fill-mask', model=model, tokenizer=tokenizer)\n",
    "\n",
    "outputs = fill_mask(CODE)\n",
    "outputs"
   ]
  },
  {
   "cell_type": "code",
   "execution_count": 2,
   "id": "7b176b91",
   "metadata": {},
   "outputs": [],
   "source": [
    "class CustomModel(torch.nn.Module):\n",
    "    def __init__(self, model, d, vocabulary_size = 50265): \n",
    "        super(CustomModel, self).__init__() \n",
    "        self.d = d\n",
    "        self.model = model\n",
    "        self.config = model.config\n",
    "        self.layer = torch.nn.Linear(vocabulary_size, d)\n",
    "    \n",
    "    def forward(self, input_ids=None, attention_mask=None):\n",
    "        model_output = self.model.forward(input_ids=input_ids, attention_mask=attention_mask)        \n",
    "        final_output_tensor = self.layer.forward(model_output[0])\n",
    "        model_output.logits = final_output_tensor\n",
    "        return model_output"
   ]
  },
  {
   "cell_type": "code",
   "execution_count": 3,
   "id": "4dcb017f",
   "metadata": {},
   "outputs": [
    {
     "data": {
      "text/plain": [
       "tensor(13.4799, grad_fn=<SelectBackward0>)"
      ]
     },
     "execution_count": 3,
     "metadata": {},
     "output_type": "execute_result"
    }
   ],
   "source": [
    "nl_tokens=tokenizer.tokenize(\"\")\n",
    "code_tokens=tokenizer.tokenize(\"def returnInt() -> <mask>\")\n",
    "tokens=[tokenizer.cls_token]+nl_tokens+[tokenizer.sep_token]+code_tokens+[tokenizer.sep_token]\n",
    "tokens_ids=tokenizer.convert_tokens_to_ids(tokens)\n",
    "output = model(torch.tensor(tokens_ids)[None,:])[0]\n",
    "# tokens[7]\n",
    "output[0][7][torch.argmax(output[0][7])]"
   ]
  },
  {
   "cell_type": "code",
   "execution_count": 4,
   "id": "88841175",
   "metadata": {},
   "outputs": [
    {
     "data": {
      "text/plain": [
       "MaskedLMOutput(loss=None, logits=tensor([[[-1.6605, -2.1943, -2.8319, -1.1643,  2.9283, -5.6575, -3.2562,\n",
       "           1.0868],\n",
       "         [-3.7877, -1.1551, -2.6151, -1.6566,  2.9266, -5.8890, -2.5256,\n",
       "           0.1403],\n",
       "         [-1.5121, -3.2002, -2.8317, -2.6426,  4.2348, -7.1305, -0.1336,\n",
       "           0.1063],\n",
       "         [-3.2301, -1.1848, -0.8329, -1.4263,  3.8917, -6.7515, -0.9728,\n",
       "           1.0566],\n",
       "         [-2.3751, -4.1675,  0.1800,  0.6472,  2.7231, -5.8361, -3.1794,\n",
       "           0.4383],\n",
       "         [-3.2134, -0.7541, -2.2230, -1.3668,  2.9409, -5.4193, -1.6290,\n",
       "           1.0584],\n",
       "         [-3.4316, -3.1963, -2.5261, -1.8759,  1.8716, -7.3175, -0.5786,\n",
       "           0.2265],\n",
       "         [-2.9279, -1.3168, -1.5731, -1.6301,  2.7295, -3.8154, -2.3004,\n",
       "           1.4263],\n",
       "         [-2.0348, -2.7027, -1.7724, -0.8066,  3.2134, -4.1598, -2.6139,\n",
       "          -0.1610]]], grad_fn=<ViewBackward0>), hidden_states=None, attentions=None)"
      ]
     },
     "execution_count": 4,
     "metadata": {},
     "output_type": "execute_result"
    }
   ],
   "source": [
    "custom_model = CustomModel(model, 8)\n",
    "custom_model.forward(torch.tensor(tokens_ids)[None,:])\n",
    "\n"
   ]
  },
  {
   "cell_type": "code",
   "execution_count": 5,
   "id": "8d518b12",
   "metadata": {},
   "outputs": [
    {
     "data": {
      "text/plain": [
       "[{'score': 0.8262478709220886,\n",
       "  'token': 5,\n",
       "  'token_str': ' the',\n",
       "  'sequence': 'def returnInt() -> the:'},\n",
       " {'score': 0.09357747435569763,\n",
       "  'token': 1,\n",
       "  'token_str': '<pad>',\n",
       "  'sequence': 'def returnInt() ->:'},\n",
       " {'score': 0.03982565924525261,\n",
       "  'token': 4,\n",
       "  'token_str': '.',\n",
       "  'sequence': 'def returnInt() ->.:'},\n",
       " {'score': 0.033154960721731186,\n",
       "  'token': 7,\n",
       "  'token_str': ' to',\n",
       "  'sequence': 'def returnInt() -> to:'},\n",
       " {'score': 0.006195381283760071,\n",
       "  'token': 2,\n",
       "  'token_str': '</s>',\n",
       "  'sequence': 'def returnInt() ->:'}]"
      ]
     },
     "execution_count": 5,
     "metadata": {},
     "output_type": "execute_result"
    }
   ],
   "source": [
    "custom_model = CustomModel(model, 8)\n",
    "fill_mask = pipeline('fill-mask', model=custom_model, tokenizer=tokenizer)\n",
    "\n",
    "outputs = fill_mask(CODE)\n",
    "outputs"
   ]
  },
  {
   "cell_type": "code",
   "execution_count": 6,
   "id": "c65e6177",
   "metadata": {},
   "outputs": [],
   "source": [
    "class TripletLoss(torch.nn.Module):\n",
    "    def __init__(self, margin=1.0):\n",
    "        super(TripletLoss, self).__init__()\n",
    "        self.margin = margin\n",
    "        \n",
    "    def calc_euclidean(self, x1, x2):\n",
    "        return (x1 - x2).pow(2).sum(1)\n",
    "    \n",
    "    def forward(self, anchor: torch.Tensor, positive: torch.Tensor, negative: torch.Tensor) -> torch.Tensor:\n",
    "        distance_positive = self.calc_euclidean(anchor, positive)\n",
    "        distance_negative = self.calc_euclidean(anchor, negative)\n",
    "        losses = torch.relu(distance_positive - distance_negative + self.margin)\n",
    "\n",
    "        return losses.mean()"
   ]
  },
  {
   "cell_type": "code",
   "execution_count": 7,
   "id": "bf172749",
   "metadata": {},
   "outputs": [
    {
     "data": {
      "application/vnd.jupyter.widget-view+json": {
       "model_id": "a9aaae6c83c74c6aac5d6c15c65437ea",
       "version_major": 2,
       "version_minor": 0
      },
      "text/plain": [
       "Epochs:   0%|          | 0/1 [00:00<?, ?it/s]"
      ]
     },
     "metadata": {},
     "output_type": "display_data"
    }
   ],
   "source": [
    "from tqdm.notebook import tqdm\n",
    "\n",
    "def tokenize_code(code):\n",
    "    nl_tokens = tokenizer.tokenize(\"\")\n",
    "    code_tokens = tokenizer.tokenize(code)\n",
    "    tokens = [tokenizer.cls_token]+nl_tokens+[tokenizer.sep_token]+code_tokens+[tokenizer.sep_token]\n",
    "    tokens_ids = tokenizer.convert_tokens_to_ids(tokens)\n",
    "    return torch.tensor(tokens_ids)[None,:]\n",
    "\n",
    "epochs = 1\n",
    "data = [(\"def returnInt() -> <mask>:\", \"def calcInt() -> <mask>:\",\"def returnFloat() -> <mask>:\", \"int\")]\n",
    "\n",
    "optimizer = torch.optim.Adam(custom_model.parameters(), lr=0.001)\n",
    "criterion = torch.jit.script(TripletLoss())\n",
    "\n",
    "for epoch in tqdm(range(epochs), desc=\"Epochs\"):\n",
    "    custom_model.train()\n",
    "    running_loss = []\n",
    "    for step, (t_a, t_p, t_n, anchor_label) in enumerate(data):\n",
    "        \n",
    "        optimizer.zero_grad()\n",
    "        anchor_out = custom_model(tokenize_code(t_a))\n",
    "        positive_out = custom_model(tokenize_code(t_p))\n",
    "        negative_out = custom_model(tokenize_code(t_n))\n",
    "        \n",
    "        loss = criterion(anchor_out[0], positive_out[0], negative_out[0])\n",
    "        loss.backward()\n",
    "        optimizer.step()"
   ]
  },
  {
   "cell_type": "code",
   "execution_count": 8,
   "id": "2ec5e128",
   "metadata": {},
   "outputs": [
    {
     "data": {
      "text/plain": [
       "[{'score': 0.7488725185394287,\n",
       "  'token': 6,\n",
       "  'token_str': ',',\n",
       "  'sequence': 'def returnInt() ->,:'},\n",
       " {'score': 0.2510627508163452,\n",
       "  'token': 7,\n",
       "  'token_str': ' to',\n",
       "  'sequence': 'def returnInt() -> to:'},\n",
       " {'score': 5.411247911979444e-05,\n",
       "  'token': 4,\n",
       "  'token_str': '.',\n",
       "  'sequence': 'def returnInt() ->.:'},\n",
       " {'score': 1.0583322364254855e-05,\n",
       "  'token': 3,\n",
       "  'token_str': '<unk>',\n",
       "  'sequence': 'def returnInt() ->:'},\n",
       " {'score': 1.3184968966204727e-20,\n",
       "  'token': 1,\n",
       "  'token_str': '<pad>',\n",
       "  'sequence': 'def returnInt() ->:'}]"
      ]
     },
     "execution_count": 8,
     "metadata": {},
     "output_type": "execute_result"
    }
   ],
   "source": [
    "fill_mask = pipeline('fill-mask', model=custom_model, tokenizer=tokenizer)\n",
    "\n",
    "outputs = fill_mask(CODE)\n",
    "outputs"
   ]
  },
  {
   "cell_type": "code",
   "execution_count": 71,
   "id": "e65f0d6a",
   "metadata": {},
   "outputs": [
    {
     "data": {
      "application/vnd.jupyter.widget-view+json": {
       "model_id": "18e2d274fb2847fa93681476a626ff4e",
       "version_major": 2,
       "version_minor": 0
      },
      "text/plain": [
       "KNN index:   0%|          | 0/4 [00:00<?, ?it/s]"
      ]
     },
     "metadata": {},
     "output_type": "display_data"
    },
    {
     "name": "stdout",
     "output_type": "stream",
     "text": [
      "[-25.71658    -31.977694    -2.2333093   -2.6045978    0.67572707\n",
      " -48.578865    16.938425    29.472477  ]\n",
      "[-39.842625   -34.684433   -23.886139    -0.29078707   1.4387879\n",
      " -50.335125    13.408825    13.3979225 ]\n",
      "[-20.764132   -31.093374    -1.7169559   -2.0099554    0.83564806\n",
      " -43.067097    10.4085      28.954763  ]\n",
      "[-22.318245   -26.959398    -5.9409437   -2.5109363    0.46577013\n",
      " -42.52149     12.835083    30.072348  ]\n",
      "<annoy.Annoy object at 0x7f11e2eff630>\n"
     ]
    }
   ],
   "source": [
    "import numpy as np\n",
    "from annoy import AnnoyIndex\n",
    "from torch.utils.data import DataLoader\n",
    "import random\n",
    "from collections import defaultdict\n",
    "import time\n",
    "\n",
    "input_list = [\n",
    "    \"def returnInt() -> <mask>: \\n\\t x: int = 42 \\n\\t return x\",\n",
    "    \"def setInt(self, x: int) -> <mask>: \\n\\t self.x = x\",\n",
    "    \"def getInt(self) -> <mask>: \\n\\t return self.x\",\n",
    "    \"def concatString(self, s1: str, s2: str) -> <mask>: \\n\\t return s1 + s2\",\n",
    "    \"def setStr(self, s: str) -> <mask>: \\n\\t self.s = s\",\n",
    "    \"def getStr(self) -> <mask>: \\n\\t return self.s\",\n",
    "    \"def isInt(self, x) -> <mask>: \\n\\t return x % 1 == 0\",\n",
    "    \"def doSomething() -> <mask>: \\n\\t pass\",\n",
    "    \"def isString(self, s) -> <mask>: \\n\\t return type(s, str)\"\n",
    "]\n",
    "\n",
    "labels = [\n",
    "    \"lol\",\n",
    "    \"float\",\n",
    "    \"int\",\n",
    "    \"str\",\n",
    "    \"str\",\n",
    "    \"str\",\n",
    "    \"bool\",\n",
    "    \"None\",\n",
    "    \"bool\"\n",
    "]\n",
    "\n",
    "DEVICE = torch.device('cuda' if torch.cuda.is_available() else 'cpu')\n",
    "KNN_TREE_SIZE = 20\n",
    "\n",
    "def compute_validation_loss_dsl(inputs=input_list[:4], labels=labels[:4]):\n",
    "    computed_embed_batches_train = []\n",
    "    with torch.no_grad():\n",
    "        for inp, label in zip(inputs, labels):\n",
    "            nl_tokens = tokenizer.tokenize(\"\")\n",
    "            code_tokens = tokenizer.tokenize(inp)\n",
    "            tokens=[tokenizer.cls_token]+nl_tokens+[tokenizer.sep_token]+code_tokens+[tokenizer.sep_token]\n",
    "            tokens_ids=tokenizer.convert_tokens_to_ids(tokens)\n",
    "\n",
    "            output = custom_model.forward(torch.tensor(tokens_ids)[None,:])\n",
    "            \n",
    "            # Select masked tokens\n",
    "            masked_tokens = [c for c, token in enumerate(code_tokens) if token == \"<mask>\"]\n",
    "            assert len(masked_tokens) == 1\n",
    "            \n",
    "            vals = output.logits.cpu().numpy()\n",
    "            predicted_masks = [vals[0][i] for i in masked_tokens]\n",
    "            \n",
    "            computed_embed_batches_train.append(predicted_masks)\n",
    "\n",
    "        annoy_index = create_knn_index(computed_embed_batches_train, None, computed_embed_batches_train[0][0].size)\n",
    "    return annoy_index\n",
    "\n",
    "def create_knn_index(train_types_embed: np.array, valid_types_embed: np.array, type_embed_dim:int) -> AnnoyIndex:\n",
    "    \"\"\"\n",
    "    Creates KNNs index for given type embedding vectors, taken from Type4Py\n",
    "    \"\"\"\n",
    "\n",
    "    annoy_idx = AnnoyIndex(type_embed_dim, 'euclidean')\n",
    "\n",
    "    for i, v in enumerate(tqdm(train_types_embed, total=len(train_types_embed), desc=\"KNN index\")):\n",
    "        print(v[0])\n",
    "        annoy_idx.add_item(i, v[0])\n",
    "\n",
    "    # if valid_types_embed is not None:\n",
    "    #     for i, v in enumerate(valid_types_embed):\n",
    "    #         annoy_idx.add_item(len(train_types_embed) + i, v)\n",
    "\n",
    "    annoy_idx.build(KNN_TREE_SIZE)\n",
    "    return annoy_idx\n",
    "\n",
    "annoy_idx = compute_validation_loss_dsl()\n",
    "print(annoy_idx)"
   ]
  },
  {
   "cell_type": "code",
   "execution_count": 72,
   "id": "113df0f0",
   "metadata": {},
   "outputs": [
    {
     "name": "stdout",
     "output_type": "stream",
     "text": [
      "[[array([-21.343218 , -30.613182 ,  -3.0923553,  -2.3816638,   0.8759284,\n",
      "       -43.35853  ,  11.127215 ,  25.9648   ], dtype=float32)], [array([-18.42064  , -27.302011 ,  -2.6667924,  -1.7992612,   0.8901088,\n",
      "       -44.03419  ,  11.145033 ,  18.890875 ], dtype=float32)], [array([-22.887123 , -29.524544 ,  -3.8122504,  -2.34594  ,   0.7078566,\n",
      "       -43.817497 ,  15.684399 ,  27.696667 ], dtype=float32)], [array([-22.875221 , -36.807476 ,   2.7585974,  -2.0631034,   0.7342264,\n",
      "       -45.711044 ,  10.870563 ,  33.997448 ], dtype=float32)]]\n",
      "[array([-21.343218 , -30.613182 ,  -3.0923553,  -2.3816638,   0.8759284,\n",
      "       -43.35853  ,  11.127215 ,  25.9648   ], dtype=float32)], lol\n",
      "[array([-18.42064  , -27.302011 ,  -2.6667924,  -1.7992612,   0.8901088,\n",
      "       -44.03419  ,  11.145033 ,  18.890875 ], dtype=float32)], float\n",
      "[array([-22.887123 , -29.524544 ,  -3.8122504,  -2.34594  ,   0.7078566,\n",
      "       -43.817497 ,  15.684399 ,  27.696667 ], dtype=float32)], int\n",
      "[array([-22.875221 , -36.807476 ,   2.7585974,  -2.0631034,   0.7342264,\n",
      "       -45.711044 ,  10.870563 ,  33.997448 ], dtype=float32)], str\n"
     ]
    },
    {
     "data": {
      "application/vnd.jupyter.widget-view+json": {
       "model_id": "6d5f4bb6015a4b5f93797f2b6333e1a7",
       "version_major": 2,
       "version_minor": 0
      },
      "text/plain": [
       "Finding KNNs & Prediction:   0%|          | 0/4 [00:00<?, ?it/s]"
      ]
     },
     "metadata": {},
     "output_type": "display_data"
    },
    {
     "name": "stdout",
     "output_type": "stream",
     "text": [
      "[[('int', 0.7802072427014553), ('str', 0.21979275729854467)], [('int', 0.5593838300039669), ('str', 0.44061616999603315)], [('str', 0.6059886566418033), ('int', 0.3940113433581967)], [('int', 0.5763279523356901), ('lol', 0.4236720476643099)]]\n"
     ]
    }
   ],
   "source": [
    "def get_test_embedding(inputs=input_list[4:], labels=labels[:4]):\n",
    "    with torch.no_grad():\n",
    "        computed_embed_batches_test = []\n",
    "        computed_embed_labels_test = []\n",
    "        computed_mask_positions = []\n",
    "        \n",
    "        for i in range(len(labels)):\n",
    "            nl_tokens = tokenizer.tokenize(\"\")\n",
    "            code_tokens = tokenizer.tokenize(inputs[i])\n",
    "            \n",
    "            # Select masked tokens\n",
    "            masked_tokens = [c for c, token in enumerate(code_tokens) if token == \"<mask>\"]            \n",
    "            assert len(masked_tokens) == 1\n",
    "            \n",
    "            tokens=[tokenizer.cls_token]+nl_tokens+[tokenizer.sep_token]+code_tokens+[tokenizer.sep_token]\n",
    "            tokens_ids=tokenizer.convert_tokens_to_ids(tokens)\n",
    "            \n",
    "            output = custom_model.forward(torch.tensor(tokens_ids)[None,:])\n",
    "            \n",
    "            vals = output.logits.cpu().numpy()\n",
    "            predicted_masks = [vals[0][i] for i in masked_tokens]\n",
    "            \n",
    "            computed_embed_batches_test.append(predicted_masks)\n",
    "        print(computed_embed_batches_test)\n",
    "        return computed_embed_batches_test, labels\n",
    "\n",
    "def predict_type_embed(types_embed_array: np.array, types_embed_labels: np.array, indexed_knn: AnnoyIndex, k: int):\n",
    "    \"\"\"\n",
    "    Predict type of given type embedding vectors\n",
    "    \"\"\"\n",
    "\n",
    "    pred_types_embed = []\n",
    "    pred_types_score = []\n",
    "    for i, embed_vec in enumerate(tqdm(types_embed_array, total=len(types_embed_array), desc=\"Finding KNNs & Prediction\")):\n",
    "        idx, dist = indexed_knn.get_nns_by_vector(embed_vec[0], k, include_distances=True)\n",
    "        \n",
    "        pred_idx_scores = compute_types_score(dist, idx, types_embed_labels)\n",
    "        \n",
    "        pred_types_embed.append([i for (i, s) in pred_idx_scores])\n",
    "        pred_types_score.append(pred_idx_scores)\n",
    "    \n",
    "    return pred_types_embed, pred_types_score\n",
    "\n",
    "def compute_types_score(types_dist: list, types_idx: list, types_embed_labels: np.array):\n",
    "        types_dist = 1 / (np.array(types_dist) + 1e-10) ** 2\n",
    "        types_dist /= np.sum(types_dist)\n",
    "        types_score = defaultdict(int)\n",
    "        for n, d in zip(types_idx, types_dist):\n",
    "            types_score[types_embed_labels[n]] += d\n",
    "        \n",
    "        return sorted({t: s for t, s in types_score.items()}.items(), key=lambda kv: kv[1], reverse=True)\n",
    "    \n",
    "types_embed_array, types_embed_labels = get_test_embedding()\n",
    "\n",
    "for c, mapping in enumerate(types_embed_array):\n",
    "    print(f\"{mapping}, {labels[c]}\")\n",
    "pred_type_embed, pred_type_score = predict_type_embed(types_embed_array, types_embed_labels, annoy_idx, knn_K,)\n",
    "print(pred_type_score)"
   ]
  },
  {
   "cell_type": "code",
   "execution_count": null,
   "id": "82a80ff3",
   "metadata": {},
   "outputs": [],
   "source": []
  }
 ],
 "metadata": {
  "kernelspec": {
   "display_name": "Python 3 (ipykernel)",
   "language": "python",
   "name": "python3"
  },
  "language_info": {
   "codemirror_mode": {
    "name": "ipython",
    "version": 3
   },
   "file_extension": ".py",
   "mimetype": "text/x-python",
   "name": "python",
   "nbconvert_exporter": "python",
   "pygments_lexer": "ipython3",
   "version": "3.10.6"
  },
  "vscode": {
   "interpreter": {
    "hash": "b898463808f7de9d8eed8bf188ff18ea42a72c5d898f7e9a1365e818ae4a9ee4"
   }
  }
 },
 "nbformat": 4,
 "nbformat_minor": 5
}
