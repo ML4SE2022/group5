{
 "cells": [
  {
   "cell_type": "code",
   "execution_count": 1,
   "id": "a12c8f9c",
   "metadata": {},
   "outputs": [
    {
     "data": {
      "text/plain": [
       "[{'score': 0.2260781228542328,\n",
       "  'token': 6979,\n",
       "  'token_str': ' int',\n",
       "  'sequence': 'def returnInt() -> int:'},\n",
       " {'score': 0.15783804655075073,\n",
       "  'token': 5053,\n",
       "  'token_str': ' Any',\n",
       "  'sequence': 'def returnInt() -> Any:'},\n",
       " {'score': 0.1569615751504898,\n",
       "  'token': 9291,\n",
       "  'token_str': ' None',\n",
       "  'sequence': 'def returnInt() -> None:'},\n",
       " {'score': 0.12274446338415146,\n",
       "  'token': 1907,\n",
       "  'token_str': ' type',\n",
       "  'sequence': 'def returnInt() -> type:'},\n",
       " {'score': 0.06580942869186401,\n",
       "  'token': 1666,\n",
       "  'token_str': '...',\n",
       "  'sequence': 'def returnInt() ->...:'}]"
      ]
     },
     "execution_count": 1,
     "metadata": {},
     "output_type": "execute_result"
    }
   ],
   "source": [
    "from transformers import RobertaConfig, RobertaTokenizer, RobertaForMaskedLM, pipeline\n",
    "import torch\n",
    "\n",
    "model = RobertaForMaskedLM.from_pretrained(\"microsoft/codebert-base-mlm\")\n",
    "tokenizer = RobertaTokenizer.from_pretrained(\"microsoft/codebert-base-mlm\")\n",
    "\n",
    "CODE = \"def returnInt() -> <mask>:\"\n",
    "fill_mask = pipeline('fill-mask', model=model, tokenizer=tokenizer)\n",
    "\n",
    "outputs = fill_mask(CODE)\n",
    "outputs"
   ]
  },
  {
   "cell_type": "code",
   "execution_count": 2,
   "id": "7b176b91",
   "metadata": {},
   "outputs": [],
   "source": [
    "class CustomModel(torch.nn.Module):\n",
    "    def __init__(self, model, d, vocabulary_size = 50265): \n",
    "        super(CustomModel, self).__init__() \n",
    "        self.d = d\n",
    "        self.model = model\n",
    "        self.config = model.config\n",
    "        self.layer = torch.nn.Linear(vocabulary_size, d)\n",
    "    \n",
    "    def forward(self, input_ids=None, attention_mask=None):\n",
    "        model_output = self.model.forward(input_ids=input_ids, attention_mask=attention_mask)        \n",
    "        final_output_tensor = self.layer.forward(model_output[0])\n",
    "        model_output.logits = final_output_tensor\n",
    "        \n",
    "        return model_output"
   ]
  },
  {
   "cell_type": "code",
   "execution_count": 3,
   "id": "4dcb017f",
   "metadata": {},
   "outputs": [
    {
     "data": {
      "text/plain": [
       "torch.Size([1, 8, 50265])"
      ]
     },
     "execution_count": 3,
     "metadata": {},
     "output_type": "execute_result"
    }
   ],
   "source": [
    "nl_tokens=tokenizer.tokenize(\"\")\n",
    "code_tokens=tokenizer.tokenize(\"def returnInt() ->\")\n",
    "tokens=[tokenizer.cls_token]+nl_tokens+[tokenizer.sep_token]+code_tokens+[tokenizer.sep_token]\n",
    "tokens_ids=tokenizer.convert_tokens_to_ids(tokens)\n",
    "model(torch.tensor(tokens_ids)[None,:])[0].size()"
   ]
  },
  {
   "cell_type": "code",
   "execution_count": 4,
   "id": "88841175",
   "metadata": {},
   "outputs": [
    {
     "data": {
      "text/plain": [
       "MaskedLMOutput(loss=None, logits=tensor([[[-0.5659,  2.8974,  1.7297,  0.6070, -3.9746, -2.7266, -1.6069,\n",
       "          -1.5802],\n",
       "         [-2.5298,  0.4019,  0.2934,  3.0135, -3.0737, -3.9806, -2.1049,\n",
       "          -3.0578],\n",
       "         [-0.6079,  0.6877, -0.8915,  2.6663, -2.9882, -3.1302, -2.8738,\n",
       "          -1.5893],\n",
       "         [-0.8444,  3.2024,  1.6605, -1.4226, -4.5636, -1.7806, -2.8512,\n",
       "          -2.1173],\n",
       "         [-0.1082,  1.1586, -2.4872, -0.8006, -4.0596, -2.2575, -3.3089,\n",
       "          -2.6956],\n",
       "         [-0.9187,  2.8969, -0.5651,  4.9787,  0.2178, -3.7416, -3.9871,\n",
       "          -3.8240],\n",
       "         [ 1.5083,  1.5598,  0.7495, -0.4502, -4.2491, -2.4973, -1.6479,\n",
       "          -2.7352],\n",
       "         [ 1.0187,  1.7994, -1.1320, -2.1037, -2.7119, -2.5388, -2.2533,\n",
       "          -2.4799]]], grad_fn=<ViewBackward0>), hidden_states=None, attentions=None)"
      ]
     },
     "execution_count": 4,
     "metadata": {},
     "output_type": "execute_result"
    }
   ],
   "source": [
    "custom_model = CustomModel(model, 8)\n",
    "custom_model.forward(torch.tensor(tokens_ids)[None,:])\n",
    "\n"
   ]
  },
  {
   "cell_type": "code",
   "execution_count": 5,
   "id": "8d518b12",
   "metadata": {},
   "outputs": [
    {
     "data": {
      "text/plain": [
       "[{'score': 0.3408574163913727,\n",
       "  'token': 4,\n",
       "  'token_str': '.',\n",
       "  'sequence': 'def returnInt() ->.:'},\n",
       " {'score': 0.27321097254753113,\n",
       "  'token': 6,\n",
       "  'token_str': ',',\n",
       "  'sequence': 'def returnInt() ->,:'},\n",
       " {'score': 0.13929034769535065,\n",
       "  'token': 1,\n",
       "  'token_str': '<pad>',\n",
       "  'sequence': 'def returnInt() ->:'},\n",
       " {'score': 0.10849028825759888,\n",
       "  'token': 5,\n",
       "  'token_str': ' the',\n",
       "  'sequence': 'def returnInt() -> the:'},\n",
       " {'score': 0.07683997601270676,\n",
       "  'token': 2,\n",
       "  'token_str': '</s>',\n",
       "  'sequence': 'def returnInt() ->:'}]"
      ]
     },
     "execution_count": 5,
     "metadata": {},
     "output_type": "execute_result"
    }
   ],
   "source": [
    "custom_model = CustomModel(model, 8)\n",
    "fill_mask = pipeline('fill-mask', model=custom_model, tokenizer=tokenizer)\n",
    "\n",
    "outputs = fill_mask(CODE)\n",
    "outputs"
   ]
  },
  {
   "cell_type": "code",
   "execution_count": 6,
   "id": "c65e6177",
   "metadata": {},
   "outputs": [],
   "source": [
    "class TripletLoss(torch.nn.Module):\n",
    "    def __init__(self, margin=1.0):\n",
    "        super(TripletLoss, self).__init__()\n",
    "        self.margin = margin\n",
    "        \n",
    "    def calc_euclidean(self, x1, x2):\n",
    "        return (x1 - x2).pow(2).sum(1)\n",
    "    \n",
    "    def forward(self, anchor: torch.Tensor, positive: torch.Tensor, negative: torch.Tensor) -> torch.Tensor:\n",
    "        distance_positive = self.calc_euclidean(anchor, positive)\n",
    "        distance_negative = self.calc_euclidean(anchor, negative)\n",
    "        losses = torch.relu(distance_positive - distance_negative + self.margin)\n",
    "\n",
    "        return losses.mean()"
   ]
  },
  {
   "cell_type": "code",
   "execution_count": 7,
   "id": "bf172749",
   "metadata": {},
   "outputs": [
    {
     "data": {
      "application/vnd.jupyter.widget-view+json": {
       "model_id": "c6f37a018a764b9b93c61c1bf587717d",
       "version_major": 2,
       "version_minor": 0
      },
      "text/plain": [
       "Epochs:   0%|          | 0/1 [00:00<?, ?it/s]"
      ]
     },
     "metadata": {},
     "output_type": "display_data"
    }
   ],
   "source": [
    "from tqdm.notebook import tqdm\n",
    "\n",
    "def tokenize_code(code):\n",
    "    nl_tokens = tokenizer.tokenize(\"\")\n",
    "    code_tokens = tokenizer.tokenize(code)\n",
    "    tokens = [tokenizer.cls_token]+nl_tokens+[tokenizer.sep_token]+code_tokens+[tokenizer.sep_token]\n",
    "    tokens_ids = tokenizer.convert_tokens_to_ids(tokens)\n",
    "    return torch.tensor(tokens_ids)[None,:]\n",
    "\n",
    "epochs = 1\n",
    "data = [(\"def returnInt() -> <mask>:\", \"def calcInt() -> <mask>:\",\"def returnFloat() -> <mask>:\", \"int\")]\n",
    "\n",
    "optimizer = torch.optim.Adam(custom_model.parameters(), lr=0.001)\n",
    "criterion = torch.jit.script(TripletLoss())\n",
    "\n",
    "for epoch in tqdm(range(epochs), desc=\"Epochs\"):\n",
    "    custom_model.train()\n",
    "    running_loss = []\n",
    "    for step, (t_a, t_p, t_n, anchor_label) in enumerate(data):\n",
    "        \n",
    "        optimizer.zero_grad()\n",
    "        anchor_out = custom_model(tokenize_code(t_a))\n",
    "        positive_out = custom_model(tokenize_code(t_p))\n",
    "        negative_out = custom_model(tokenize_code(t_n))\n",
    "        \n",
    "        loss = criterion(anchor_out[0], positive_out[0], negative_out[0])\n",
    "        loss.backward()\n",
    "        optimizer.step()"
   ]
  },
  {
   "cell_type": "code",
   "execution_count": 8,
   "id": "2ec5e128",
   "metadata": {},
   "outputs": [
    {
     "data": {
      "text/plain": [
       "[{'score': 0.4581899344921112,\n",
       "  'token': 6,\n",
       "  'token_str': ',',\n",
       "  'sequence': 'def returnInt() ->,:'},\n",
       " {'score': 0.426839143037796,\n",
       "  'token': 4,\n",
       "  'token_str': '.',\n",
       "  'sequence': 'def returnInt() ->.:'},\n",
       " {'score': 0.05817270651459694,\n",
       "  'token': 5,\n",
       "  'token_str': ' the',\n",
       "  'sequence': 'def returnInt() -> the:'},\n",
       " {'score': 0.05054251477122307,\n",
       "  'token': 7,\n",
       "  'token_str': ' to',\n",
       "  'sequence': 'def returnInt() -> to:'},\n",
       " {'score': 0.006245944183319807,\n",
       "  'token': 0,\n",
       "  'token_str': '<s>',\n",
       "  'sequence': 'def returnInt() ->:'}]"
      ]
     },
     "execution_count": 8,
     "metadata": {},
     "output_type": "execute_result"
    }
   ],
   "source": [
    "fill_mask = pipeline('fill-mask', model=custom_model, tokenizer=tokenizer)\n",
    "\n",
    "outputs = fill_mask(CODE)\n",
    "outputs"
   ]
  },
  {
   "cell_type": "code",
   "execution_count": 9,
   "id": "c35cbd86",
   "metadata": {},
   "outputs": [],
   "source": [
    "import numpy as np\n",
    "from annoy import AnnoyIndex\n",
    "from torch.utils.data import DataLoader\n",
    "import random\n",
    "\n",
    "DEVICE = torch.device('cuda' if torch.cuda.is_available() else 'cpu')\n",
    "KNN_TREE_SIZE = 20\n",
    "\n",
    "def compute_validation_loss_dsl():\n",
    "    with torch.no_grad():\n",
    "        # model.eval()\n",
    "        computed_embed_batches_train = []\n",
    "        computed_embed_labels_train = []\n",
    "        # for step, (t_a, t_p, t_n, anchor_label) in enumerate(DataLoader(data)):\n",
    "        output = custom_model.forward(torch.tensor(tokens_ids)[None,:])\n",
    "        computed_embed_batches_train.append(output.logits.cpu().numpy())\n",
    "        # computed_embed_labels_train.append(t_a[1].logits.cpu().numpy())\n",
    "             \n",
    "        annoy_index = create_knn_index(np.vstack(computed_embed_batches_train), None, computed_embed_batches_train[0].shape[1])\n",
    "    return annoy_index\n",
    "\n",
    "def create_knn_index(train_types_embed: np.array, valid_types_embed: np.array, type_embed_dim:int) -> AnnoyIndex:\n",
    "    \"\"\"\n",
    "    Creates KNNs index for given type embedding vectors, taken from Type4Py\n",
    "    \"\"\"\n",
    "\n",
    "    annoy_idx = AnnoyIndex(type_embed_dim, 'euclidean')\n",
    "\n",
    "    for i, v in enumerate(tqdm(train_types_embed, total=len(train_types_embed), desc=\"KNN index\")):\n",
    "        annoy_idx.add_item(i, v[0])\n",
    "\n",
    "    # if valid_types_embed is not None:\n",
    "    #     for i, v in enumerate(valid_types_embed):\n",
    "    #         annoy_idx.add_item(len(train_types_embed) + i, v)\n",
    "\n",
    "    annoy_idx.build(KNN_TREE_SIZE)\n",
    "    return annoy_idx\n"
   ]
  },
  {
   "cell_type": "code",
   "execution_count": 10,
   "id": "8ac93ac1",
   "metadata": {},
   "outputs": [
    {
     "data": {
      "application/vnd.jupyter.widget-view+json": {
       "model_id": "18ceb3652e3c47d0b2fa9f3cb32f8633",
       "version_major": 2,
       "version_minor": 0
      },
      "text/plain": [
       "KNN index:   0%|          | 0/1 [00:00<?, ?it/s]"
      ]
     },
     "metadata": {},
     "output_type": "display_data"
    },
    {
     "name": "stdout",
     "output_type": "stream",
     "text": [
      "<annoy.Annoy object at 0x7fd967bf95b0>\n"
     ]
    }
   ],
   "source": [
    "annoy_idx = compute_validation_loss_dsl()\n",
    "print(annoy_idx)"
   ]
  },
  {
   "cell_type": "code",
   "execution_count": 11,
   "id": "113df0f0",
   "metadata": {},
   "outputs": [
    {
     "name": "stdout",
     "output_type": "stream",
     "text": [
      "MaskedLMOutput(loss=None, logits=tensor([[[-1.3829e+00, -6.9919e+00, -9.7727e+00, -3.7792e+01,  1.2982e+00,\n",
      "           4.6359e-01,  3.0138e+00,  5.0971e-01],\n",
      "         [-9.3236e-01, -1.7801e+01, -5.5652e+00, -2.7719e+01,  1.7310e+00,\n",
      "           2.9367e-01,  2.8298e+00,  6.3305e-02],\n",
      "         [-2.6360e+00, -2.7185e+01,  1.8042e+00, -2.3171e+01,  1.4147e+00,\n",
      "           6.6703e-01,  2.8328e+00,  8.1314e-01],\n",
      "         [-1.2476e+00, -1.5901e+01, -9.3729e-01, -1.6233e+01,  1.8503e+00,\n",
      "           3.8494e-01,  2.2970e+00,  7.9071e-01],\n",
      "         [-1.7026e+00, -3.0926e+01, -3.0534e-01, -2.7412e+01,  1.6793e+00,\n",
      "           9.2657e-01,  2.9036e+00,  2.4046e-02],\n",
      "         [-1.5037e+00, -8.4329e+00, -1.3389e+01, -4.4969e+01,  2.3260e+00,\n",
      "           8.6609e-01,  4.1157e+00,  5.0640e-03],\n",
      "         [-1.5597e+00, -1.8816e+01, -6.1387e-01, -1.8858e+01,  1.7532e+00,\n",
      "           2.2304e-01,  1.9280e+00,  1.0792e+00],\n",
      "         [-1.9074e+00, -2.2687e+01, -5.1970e+00, -2.6222e+01,  1.9797e+00,\n",
      "           5.1457e-01,  3.3451e+00,  1.2424e-01]]]), hidden_states=None, attentions=None)\n",
      "[3, 3]\n"
     ]
    },
    {
     "data": {
      "application/vnd.jupyter.widget-view+json": {
       "model_id": "f4884bf99a2f45cb928ff1c38683e7d3",
       "version_major": 2,
       "version_minor": 0
      },
      "text/plain": [
       "Finding KNNs & Prediction:   0%|          | 0/1 [00:00<?, ?it/s]"
      ]
     },
     "metadata": {},
     "output_type": "display_data"
    },
    {
     "name": "stdout",
     "output_type": "stream",
     "text": [
      "[[3]]\n",
      "[[(3, 1.0)]]\n"
     ]
    }
   ],
   "source": [
    "from collections import defaultdict\n",
    "\n",
    "def get_test_embedding():\n",
    "    with torch.no_grad():\n",
    "        nl_tokens=tokenizer.tokenize(\"\")\n",
    "        code_tokens=tokenizer.tokenize(\"def returnInt() ->\")\n",
    "        tokens=[tokenizer.cls_token]+nl_tokens+[tokenizer.sep_token]+code_tokens+[tokenizer.sep_token]\n",
    "        tokens_ids=tokenizer.convert_tokens_to_ids(tokens)\n",
    "        computed_embed_batches_test = []\n",
    "        output = custom_model.forward(torch.tensor(tokens_ids)[None,:])\n",
    "        print(output)\n",
    "        computed_embed_batches_test.append(output.logits.cpu().numpy())\n",
    "        test_label = tokenizer.convert_tokens_to_ids(tokenizer(\"int\"))\n",
    "        print(test_label)\n",
    "        return computed_embed_batches_test, test_label\n",
    "\n",
    "def predict_type_embed(types_embed_array: np.array, types_embed_labels: np.array, indexed_knn: AnnoyIndex, k: int):\n",
    "    \"\"\"\n",
    "    Predict type of given type embedding vectors\n",
    "    \"\"\"\n",
    "\n",
    "    pred_types_embed = []\n",
    "    pred_types_score = []\n",
    "    for i, embed_vec in enumerate(tqdm(types_embed_array, total=len(types_embed_array), desc=\"Finding KNNs & Prediction\")):\n",
    "        idx, dist = indexed_knn.get_nns_by_vector(embed_vec[0], k, include_distances=True)\n",
    "        pred_idx_scores = compute_types_score(dist, idx, types_embed_labels)\n",
    "        pred_types_embed.append([i for i, s in pred_idx_scores])\n",
    "        pred_types_score.append(pred_idx_scores)\n",
    "    \n",
    "    return pred_types_embed, pred_types_score\n",
    "\n",
    "def compute_types_score(types_dist: list, types_idx: list, types_embed_labels: np.array):\n",
    "        types_dist = 1 / (np.array(types_dist) + 1e-10) ** 2\n",
    "        types_dist /= np.sum(types_dist)\n",
    "        types_score = defaultdict(int)\n",
    "        for n, d in zip(types_idx, types_dist):\n",
    "            types_score[types_embed_labels[n]] += d\n",
    "        \n",
    "        return sorted({t: s for t, s in types_score.items()}.items(), key=lambda kv: kv[1], reverse=True)\n",
    "    \n",
    "types_embed_array, types_embed_labels = get_test_embedding()\n",
    "pred_type_embed, pred_type_score = predict_type_embed(np.vstack(types_embed_array), types_embed_labels, annoy_idx, 8)\n",
    "print(pred_type_embed)\n",
    "print(pred_type_score)"
   ]
  }
 ],
 "metadata": {
  "kernelspec": {
   "display_name": "Python 3.10.6 ('venv': venv)",
   "language": "python",
   "name": "python3"
  },
  "language_info": {
   "codemirror_mode": {
    "name": "ipython",
    "version": 3
   },
   "file_extension": ".py",
   "mimetype": "text/x-python",
   "name": "python",
   "nbconvert_exporter": "python",
   "pygments_lexer": "ipython3",
   "version": "3.10.6"
  },
  "vscode": {
   "interpreter": {
    "hash": "b898463808f7de9d8eed8bf188ff18ea42a72c5d898f7e9a1365e818ae4a9ee4"
   }
  }
 },
 "nbformat": 4,
 "nbformat_minor": 5
}
